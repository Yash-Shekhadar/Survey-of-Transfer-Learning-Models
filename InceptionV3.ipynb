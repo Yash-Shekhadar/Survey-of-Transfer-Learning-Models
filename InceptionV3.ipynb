{
 "cells": [
  {
   "cell_type": "markdown",
   "metadata": {},
   "source": [
    "# InceptionV3 Model on cifar10 Dataset"
   ]
  },
  {
   "cell_type": "markdown",
   "metadata": {},
   "source": [
    "#### Importing Necessary Libraries"
   ]
  },
  {
   "cell_type": "code",
   "execution_count": 1,
   "metadata": {
    "colab": {
     "base_uri": "https://localhost:8080/",
     "height": 34
    },
    "colab_type": "code",
    "id": "6XjJWL9vKvc0",
    "outputId": "2e9c1da2-04fe-43f8-a84d-f412bd765c31"
   },
   "outputs": [
    {
     "name": "stderr",
     "output_type": "stream",
     "text": [
      "Using TensorFlow backend.\n"
     ]
    }
   ],
   "source": [
    "import cv2\n",
    "import numpy as np\n",
    "from sklearn.preprocessing import OneHotEncoder\n",
    "from keras.layers import Convolution2D,MaxPooling2D,Dropout,Dense,Flatten, GlobalAveragePooling2D\n",
    "from keras import models,losses,optimizers\n",
    "from keras.preprocessing.image import ImageDataGenerator\n",
    "from keras.applications import InceptionV3,VGG16,resnet50\n",
    "from keras.applications.inception_v3 import preprocess_input\n",
    "from keras.models import Model\n",
    "from keras.layers import Dense, Dropout, Conv2D, GlobalAveragePooling2D"
   ]
  },
  {
   "cell_type": "markdown",
   "metadata": {},
   "source": [
    "#### Loading the Dataset\n",
    "    - Importing from cifar10 library\n",
    "    - One Hot Encoding the labels/(y)\n",
    "    - Applying Preliminary preprocessing provided by inceptionv3 library\n",
    "    \n",
    "    "
   ]
  },
  {
   "cell_type": "code",
   "execution_count": 2,
   "metadata": {
    "colab": {
     "base_uri": "https://localhost:8080/",
     "height": 51
    },
    "colab_type": "code",
    "id": "jwGvchOqK2ZU",
    "outputId": "0b3fe0da-841c-4d7a-d123-e8475115a84f"
   },
   "outputs": [
    {
     "name": "stdout",
     "output_type": "stream",
     "text": [
      "Downloading data from https://www.cs.toronto.edu/~kriz/cifar-10-python.tar.gz\n",
      "170500096/170498071 [==============================] - 2s 0us/step\n"
     ]
    }
   ],
   "source": [
    "from tensorflow.keras.datasets import cifar10\n",
    "(X_train,y_train),(X_test,y_test) = cifar10.load_data()\n",
    "from sklearn.preprocessing import OneHotEncoder\n",
    "ohe = OneHotEncoder()\n",
    "y_train = ohe.fit_transform(y_train).toarray().astype(int)\n",
    "y_test = ohe.transform(y_test).toarray().astype(int)\n",
    "X_train = preprocess_input(X_train)\n",
    "X_test = preprocess_input(X_test)"
   ]
  },
  {
   "cell_type": "code",
   "execution_count": 0,
   "metadata": {
    "colab": {},
    "colab_type": "code",
    "id": "Ht2If2dKLBtN"
   },
   "outputs": [],
   "source": [
    "n_train = X_train.shape[0]\n",
    "n_test = X_test.shape[0]"
   ]
  },
  {
   "cell_type": "code",
   "execution_count": 4,
   "metadata": {
    "colab": {
     "base_uri": "https://localhost:8080/",
     "height": 34
    },
    "colab_type": "code",
    "id": "R8kPSsm-LJ6I",
    "outputId": "faf8d175-696d-478a-f444-0b66eb7eb978"
   },
   "outputs": [
    {
     "name": "stdout",
     "output_type": "stream",
     "text": [
      "(50000, 32, 32, 3) (50000, 10) (10000, 32, 32, 3) (10000, 10)\n"
     ]
    }
   ],
   "source": [
    "print( X_train.shape, y_train.shape,  X_test.shape, y_test.shape )"
   ]
  },
  {
   "cell_type": "markdown",
   "metadata": {},
   "source": [
    "#### Additional Preprocessing\n",
    "    - Resizing each image in dataset to suit the model (139,139,3)"
   ]
  },
  {
   "cell_type": "code",
   "execution_count": 0,
   "metadata": {
    "colab": {},
    "colab_type": "code",
    "id": "meJ4aEkxLRH-"
   },
   "outputs": [],
   "source": [
    "def resize_data(data):\n",
    "    data_upscaled = []\n",
    "    for i, img in enumerate(data):\n",
    "        large_img = cv2.resize(img, dsize=(139, 139))\n",
    "        data_upscaled.append(large_img)\n",
    "    return data_upscaled"
   ]
  },
  {
   "cell_type": "code",
   "execution_count": 0,
   "metadata": {
    "colab": {},
    "colab_type": "code",
    "id": "B1qxNjhnLThS"
   },
   "outputs": [],
   "source": [
    "X_train_new = np.array(resize_data(X_train))\n",
    "X_test_new = np.array(resize_data(X_test)) "
   ]
  },
  {
   "cell_type": "code",
   "execution_count": 8,
   "metadata": {
    "colab": {
     "base_uri": "https://localhost:8080/",
     "height": 1000
    },
    "colab_type": "code",
    "id": "a-uSnlz3VFkj",
    "outputId": "6cb3ba33-c610-4c41-eee1-750c3117c953"
   },
   "outputs": [
    {
     "name": "stderr",
     "output_type": "stream",
     "text": [
      "Clipping input data to the valid range for imshow with RGB data ([0..1] for floats or [0..255] for integers).\n"
     ]
    },
    {
     "name": "stdout",
     "output_type": "stream",
     "text": [
      "[[[-0.5372549  -0.5137255  -0.5058824 ]\n",
      "  [-0.6627451  -0.6392157  -0.64705884]\n",
      "  [-0.60784316 -0.62352943 -0.6627451 ]\n",
      "  ...\n",
      "  [ 0.23921573  0.03529418 -0.15294117]\n",
      "  [ 0.19215691 -0.01960784 -0.19999999]\n",
      "  [ 0.16078436 -0.02745098 -0.19215685]]\n",
      "\n",
      " [[-0.8745098  -0.84313726 -0.84313726]\n",
      "  [-1.         -1.         -1.        ]\n",
      "  [-0.85882354 -0.9372549  -1.        ]\n",
      "  ...\n",
      "  [-0.03529412 -0.3098039  -0.5686275 ]\n",
      "  [-0.06666666 -0.3490196  -0.60784316]\n",
      "  [-0.04313725 -0.31764704 -0.5529412 ]]\n",
      "\n",
      " [[-0.8039216  -0.8117647  -0.8352941 ]\n",
      "  [-0.8745098  -0.94509804 -1.        ]\n",
      "  [-0.6156863  -0.7882353  -0.9372549 ]\n",
      "  ...\n",
      "  [-0.0745098  -0.34117645 -0.60784316]\n",
      "  [-0.05882353 -0.34117645 -0.60784316]\n",
      "  [-0.14509803 -0.42745095 -0.67058825]]\n",
      "\n",
      " ...\n",
      "\n",
      " [[ 0.6313726   0.33333337 -0.24705881]\n",
      "  [ 0.5764706   0.20000005 -0.73333335]\n",
      "  [ 0.5529412   0.26274514 -0.79607844]\n",
      "  ...\n",
      "  [ 0.254902    0.04313731 -0.45098037]\n",
      "  [-0.56078434 -0.75686276 -0.94509804]\n",
      "  [-0.58431375 -0.73333335 -0.84313726]]\n",
      "\n",
      " [[ 0.41176474  0.09019613 -0.24705881]\n",
      "  [ 0.35686278 -0.03529412 -0.67058825]\n",
      "  [ 0.45882356  0.12941182 -0.7647059 ]\n",
      "  ...\n",
      "  [ 0.4431373   0.16078436 -0.26274508]\n",
      "  [-0.23921567 -0.5137255  -0.73333335]\n",
      "  [-0.3490196  -0.58431375 -0.73333335]]\n",
      "\n",
      " [[ 0.38823533  0.12941182 -0.09019607]\n",
      "  [ 0.3176471   0.01176476 -0.26274508]\n",
      "  [ 0.4039216   0.11372554 -0.31764704]\n",
      "  ...\n",
      "  [ 0.69411767  0.4431373   0.09803927]\n",
      "  [ 0.18431377 -0.0745098  -0.34117645]\n",
      "  [-0.03529412 -0.27843136 -0.4352941 ]]]\n"
     ]
    },
    {
     "data": {
      "text/plain": [
       "<matplotlib.image.AxesImage at 0x7ff95fbb9780>"
      ]
     },
     "execution_count": 8,
     "metadata": {
      "tags": []
     },
     "output_type": "execute_result"
    },
    {
     "data": {
      "image/png": "[encoded data removed]",
      "text/plain": [
       "<Figure size 432x288 with 1 Axes>"
      ]
     },
     "metadata": {
      "needs_background": "light",
      "tags": []
     },
     "output_type": "display_data"
    }
   ],
   "source": [
    "import matplotlib.pyplot as plt\n",
    "print(X_train)\n",
    "plt.imshow(X_train_new[0])"
   ]
  },
  {
   "cell_type": "markdown",
   "metadata": {},
   "source": [
    "#### Model Building\n",
    "    - Base Model will be InceptionV3\n",
    "    - We will remove the last layer and add our set of new layers for classifying the 10 labels in cifar10"
   ]
  },
  {
   "cell_type": "code",
   "execution_count": 8,
   "metadata": {
    "colab": {
     "base_uri": "https://localhost:8080/",
     "height": 51
    },
    "colab_type": "code",
    "id": "aanHmLwWLaY3",
    "outputId": "8ac482b7-34b2-4dbc-eb6a-0db6d4c605b5"
   },
   "outputs": [
    {
     "name": "stdout",
     "output_type": "stream",
     "text": [
      "Downloading data from https://github.com/fchollet/deep-learning-models/releases/download/v0.5/inception_v3_weights_tf_dim_ordering_tf_kernels_notop.h5\n",
      "87916544/87910968 [==============================] - 1s 0us/step\n"
     ]
    }
   ],
   "source": [
    "base = InceptionV3(include_top = False,weights='imagenet',input_shape = (139,139,3))\n",
    "model = models.Sequential()\n",
    "model.add(base)\n",
    "model.add(Conv2D(filters=100, kernel_size=2))\n",
    "model.add(Dropout(0.4))\n",
    "model.add(GlobalAveragePooling2D())\n",
    "model.add(Dropout(0.3))\n",
    "model.add(Dense(10, activation='softmax'))"
   ]
  },
  {
   "cell_type": "markdown",
   "metadata": {},
   "source": [
    "###### Important task\n",
    "Freezing the layers in the base model, to reduce humongous training time!"
   ]
  },
  {
   "cell_type": "code",
   "execution_count": 0,
   "metadata": {
    "colab": {},
    "colab_type": "code",
    "id": "lzYQ1Wb3Lyjo"
   },
   "outputs": [],
   "source": [
    "for cnnlayer in model.layers[0].layers:\n",
    "    cnnlayer.trainable = False\n",
    "model.layers[0].trainable = False"
   ]
  },
  {
   "cell_type": "code",
   "execution_count": 0,
   "metadata": {
    "colab": {},
    "colab_type": "code",
    "id": "jGz7x_bYL-Lh"
   },
   "outputs": [],
   "source": [
    "#Compiing Model\n",
    "model.compile(\n",
    "    optimizer='rmsprop',\n",
    "    loss='categorical_crossentropy',\n",
    "    metrics=['accuracy']\n",
    ")"
   ]
  },
  {
   "cell_type": "code",
   "execution_count": 11,
   "metadata": {
    "colab": {
     "base_uri": "https://localhost:8080/",
     "height": 391
    },
    "colab_type": "code",
    "id": "zejZSAUwMAc-",
    "outputId": "23608440-8203-4d42-ffc8-6f87cc3ad8bc"
   },
   "outputs": [
    {
     "name": "stdout",
     "output_type": "stream",
     "text": [
      "Train on 50000 samples, validate on 10000 samples\n",
      "Epoch 1/10\n",
      "50000/50000 [==============================] - 238s 5ms/step - loss: 3.3929 - accuracy: 0.5410 - val_loss: 4.9924 - val_accuracy: 0.6046\n",
      "Epoch 2/10\n",
      "50000/50000 [==============================] - 235s 5ms/step - loss: 1.3367 - accuracy: 0.6524 - val_loss: 1.5457 - val_accuracy: 0.7470\n",
      "Epoch 3/10\n",
      "50000/50000 [==============================] - 236s 5ms/step - loss: 1.0014 - accuracy: 0.6839 - val_loss: 1.1382 - val_accuracy: 0.7690\n",
      "Epoch 4/10\n",
      "50000/50000 [==============================] - 235s 5ms/step - loss: 0.9206 - accuracy: 0.7051 - val_loss: 1.5023 - val_accuracy: 0.7156\n",
      "Epoch 5/10\n",
      "50000/50000 [==============================] - 234s 5ms/step - loss: 0.8853 - accuracy: 0.7127 - val_loss: 1.3155 - val_accuracy: 0.7464\n",
      "Epoch 6/10\n",
      "50000/50000 [==============================] - 234s 5ms/step - loss: 0.8569 - accuracy: 0.7239 - val_loss: 1.3194 - val_accuracy: 0.7488\n",
      "Epoch 7/10\n",
      "50000/50000 [==============================] - 234s 5ms/step - loss: 0.8350 - accuracy: 0.7275 - val_loss: 1.3249 - val_accuracy: 0.7526\n",
      "Epoch 8/10\n",
      "50000/50000 [==============================] - 232s 5ms/step - loss: 0.8232 - accuracy: 0.7324 - val_loss: 1.2213 - val_accuracy: 0.7650\n",
      "Epoch 9/10\n",
      "50000/50000 [==============================] - 234s 5ms/step - loss: 0.8090 - accuracy: 0.7386 - val_loss: 1.4256 - val_accuracy: 0.7418\n",
      "Epoch 10/10\n",
      "50000/50000 [==============================] - 234s 5ms/step - loss: 0.7868 - accuracy: 0.7428 - val_loss: 1.4948 - val_accuracy: 0.7429\n"
     ]
    },
    {
     "data": {
      "text/plain": [
       "<keras.callbacks.callbacks.History at 0x7f657ece8748>"
      ]
     },
     "execution_count": 11,
     "metadata": {
      "tags": []
     },
     "output_type": "execute_result"
    }
   ],
   "source": [
    "#Fitting the model\n",
    "model.fit(X_train_new,y_train,epochs=10,batch_size=100,validation_data=(X_test_new,y_test))"
   ]
  },
  {
   "cell_type": "markdown",
   "metadata": {
    "colab": {},
    "colab_type": "code",
    "id": "rUbvvAfxbXPz"
   },
   "source": [
    "### Final Result\n",
    "    - Train Data Accuracy : 74.28%\n",
    "    - Test Data Accuracy : 74.29%"
   ]
  },
  {
   "cell_type": "code",
   "execution_count": null,
   "metadata": {},
   "outputs": [],
   "source": []
  }
 ],
 "metadata": {
  "accelerator": "TPU",
  "colab": {
   "collapsed_sections": [],
   "machine_shape": "hm",
   "name": "InceptionV3.ipynb",
   "provenance": []
  },
  "kernelspec": {
   "display_name": "Python 3",
   "language": "python",
   "name": "python3"
  },
  "language_info": {
   "codemirror_mode": {
    "name": "ipython",
    "version": 3
   },
   "file_extension": ".py",
   "mimetype": "text/x-python",
   "name": "python",
   "nbconvert_exporter": "python",
   "pygments_lexer": "ipython3",
   "version": "3.7.6"
  }
 },
 "nbformat": 4,
 "nbformat_minor": 1
}
