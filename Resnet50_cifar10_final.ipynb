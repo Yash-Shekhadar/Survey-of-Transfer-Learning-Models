{
  "nbformat": 4,
  "nbformat_minor": 0,
  "metadata": {
    "accelerator": "GPU",
    "colab": {
      "name": "Resnet50_cifar10_final.ipynb",
      "provenance": [],
      "collapsed_sections": [],
      "machine_shape": "hm"
    },
    "kernelspec": {
      "display_name": "Python 3",
      "language": "python",
      "name": "python3"
    },
    "language_info": {
      "codemirror_mode": {
        "name": "ipython",
        "version": 3
      },
      "file_extension": ".py",
      "mimetype": "text/x-python",
      "name": "python",
      "nbconvert_exporter": "python",
      "pygments_lexer": "ipython3",
      "version": "3.7.6"
    }
  },
  "cells": [
    {
      "cell_type": "markdown",
      "metadata": {
        "id": "MXjk-Q5-QIng",
        "colab_type": "text"
      },
      "source": [
        "# ResNet50 on Cifar10 dataset"
      ]
    },
    {
      "cell_type": "markdown",
      "metadata": {
        "id": "NCHKeV6XQInk",
        "colab_type": "text"
      },
      "source": [
        "#### Importing necessary libraries"
      ]
    },
    {
      "cell_type": "code",
      "metadata": {
        "colab_type": "code",
        "id": "-s-L3yQrGBKs",
        "colab": {
          "base_uri": "https://localhost:8080/",
          "height": 34
        },
        "outputId": "4dc7e9bd-5f89-49d7-c400-037f5b7bf2d8"
      },
      "source": [
        "import cv2\n",
        "import numpy as np\n",
        "from sklearn.preprocessing import OneHotEncoder\n",
        "from keras.layers import Convolution2D,MaxPooling2D,Dropout,Dense,Flatten, GlobalAveragePooling2D\n",
        "from keras import models,losses,optimizers\n",
        "from keras.preprocessing.image import ImageDataGenerator\n",
        "from keras.applications import InceptionV3,VGG16,ResNet50\n",
        "from keras.applications.resnet50 import preprocess_input\n",
        "from keras.models import Model\n",
        "from keras.layers import Dense, Dropout, Conv2D, GlobalAveragePooling2D\n",
        "import matplotlib.pyplot as plt\n",
        "from keras.utils import to_categorical"
      ],
      "execution_count": 1,
      "outputs": [
        {
          "output_type": "stream",
          "text": [
            "Using TensorFlow backend.\n"
          ],
          "name": "stderr"
        }
      ]
    },
    {
      "cell_type": "markdown",
      "metadata": {
        "id": "XwCIE2A6QIn1",
        "colab_type": "text"
      },
      "source": [
        "#### Loading the Dataset and performing inbuilt pre-processing"
      ]
    },
    {
      "cell_type": "code",
      "metadata": {
        "colab_type": "code",
        "id": "qdQBR9QZGwFq",
        "colab": {
          "base_uri": "https://localhost:8080/",
          "height": 51
        },
        "outputId": "2f87f8d9-4539-434d-9d2d-f8aee269b06f"
      },
      "source": [
        "from keras.datasets import mnist,fashion_mnist,cifar10\n",
        "(x_train, y_train), (x_test, y_test) = cifar10.load_data()\n",
        "y_train = to_categorical(y_train).astype(int)\n",
        "y_test = to_categorical(y_test).astype(int)\n",
        "x_train = preprocess_input(x_train)\n",
        "x_test = preprocess_input(x_test)"
      ],
      "execution_count": 2,
      "outputs": [
        {
          "output_type": "stream",
          "text": [
            "Downloading data from https://www.cs.toronto.edu/~kriz/cifar-10-python.tar.gz\n",
            "170500096/170498071 [==============================] - 11s 0us/step\n"
          ],
          "name": "stdout"
        }
      ]
    },
    {
      "cell_type": "code",
      "metadata": {
        "colab_type": "code",
        "id": "8Ae4zbmSGzf2",
        "outputId": "03246117-b56b-4d67-cde3-357101d2cf6d",
        "colab": {
          "base_uri": "https://localhost:8080/",
          "height": 300
        }
      },
      "source": [
        "plt.imshow(x_train[1])"
      ],
      "execution_count": 3,
      "outputs": [
        {
          "output_type": "stream",
          "text": [
            "Clipping input data to the valid range for imshow with RGB data ([0..1] for floats or [0..255] for integers).\n"
          ],
          "name": "stderr"
        },
        {
          "output_type": "execute_result",
          "data": {
            "text/plain": [
              "<matplotlib.image.AxesImage at 0x7f2fc5f315f8>"
            ]
          },
          "metadata": {
            "tags": []
          },
          "execution_count": 3
        },
        {
          "output_type": "display_data",
          "data": {
            "image/png": "[encoded data removed]",
            "text/plain": [
              "<Figure size 432x288 with 1 Axes>"
            ]
          },
          "metadata": {
            "tags": [],
            "needs_background": "light"
          }
        }
      ]
    },
    {
      "cell_type": "markdown",
      "metadata": {
        "id": "AF-dWqDbQIoM",
        "colab_type": "text"
      },
      "source": [
        "#### Function to resize the input image\n",
        "    - Intitial size : (32x32)\n",
        "    - Final size : (139x139)"
      ]
    },
    {
      "cell_type": "code",
      "metadata": {
        "colab_type": "code",
        "id": "kUa43dDx0MA8",
        "colab": {}
      },
      "source": [
        "def resize_data(data):\n",
        "  data_upscaled = []\n",
        "  for i, img in enumerate(data):\n",
        "    large_img = cv2.resize(img, dsize=(139, 139))\n",
        "    data_upscaled.append(large_img)\n",
        "  return data_upscaled"
      ],
      "execution_count": 0,
      "outputs": []
    },
    {
      "cell_type": "code",
      "metadata": {
        "colab_type": "code",
        "id": "MV5boi8DHLjm",
        "outputId": "ad9ead3f-ee32-477a-ed60-1b4376652d07",
        "colab": {
          "base_uri": "https://localhost:8080/",
          "height": 303
        }
      },
      "source": [
        "x_train = np.array(resize_data(x_train))\n",
        "x_test = np.array(resize_data(x_test)) \n",
        "plt.imshow(x_test[1])"
      ],
      "execution_count": 5,
      "outputs": [
        {
          "output_type": "stream",
          "text": [
            "Clipping input data to the valid range for imshow with RGB data ([0..1] for floats or [0..255] for integers).\n"
          ],
          "name": "stderr"
        },
        {
          "output_type": "execute_result",
          "data": {
            "text/plain": [
              "<matplotlib.image.AxesImage at 0x7f2fc59d6ef0>"
            ]
          },
          "metadata": {
            "tags": []
          },
          "execution_count": 5
        },
        {
          "output_type": "display_data",
          "data": {
            "image/png": "[encoded data removed]",
            "text/plain": [
              "<Figure size 432x288 with 1 Axes>"
            ]
          },
          "metadata": {
            "tags": [],
            "needs_background": "light"
          }
        }
      ]
    },
    {
      "cell_type": "code",
      "metadata": {
        "colab_type": "code",
        "id": "WIP-_Gu9HVpD",
        "outputId": "dd498f14-c895-4139-eab2-9c531b0e8566",
        "colab": {
          "base_uri": "https://localhost:8080/",
          "height": 34
        }
      },
      "source": [
        "print(x_train.shape,x_test.shape,y_train.shape,y_test.shape)"
      ],
      "execution_count": 6,
      "outputs": [
        {
          "output_type": "stream",
          "text": [
            "(50000, 139, 139, 3) (10000, 139, 139, 3) (50000, 10) (10000, 10)\n"
          ],
          "name": "stdout"
        }
      ]
    },
    {
      "cell_type": "code",
      "metadata": {
        "colab_type": "code",
        "id": "GKBhFWPGuYJy",
        "outputId": "5bd1d5c8-43f9-4efb-d381-5fef000bd073",
        "colab": {
          "base_uri": "https://localhost:8080/",
          "height": 303
        }
      },
      "source": [
        "x_test.mean()\n",
        "plt.imshow(x_train[1])"
      ],
      "execution_count": 7,
      "outputs": [
        {
          "output_type": "stream",
          "text": [
            "Clipping input data to the valid range for imshow with RGB data ([0..1] for floats or [0..255] for integers).\n"
          ],
          "name": "stderr"
        },
        {
          "output_type": "execute_result",
          "data": {
            "text/plain": [
              "<matplotlib.image.AxesImage at 0x7f2fc59c4f60>"
            ]
          },
          "metadata": {
            "tags": []
          },
          "execution_count": 7
        },
        {
          "output_type": "display_data",
          "data": {
            "image/png": "[encoded data removed]",
            "text/plain": [
              "<Figure size 432x288 with 1 Axes>"
            ]
          },
          "metadata": {
            "tags": [],
            "needs_background": "light"
          }
        }
      ]
    },
    {
      "cell_type": "markdown",
      "metadata": {
        "id": "JhTJ6uwrQIo1",
        "colab_type": "text"
      },
      "source": [
        "#### Model Building"
      ]
    },
    {
      "cell_type": "code",
      "metadata": {
        "colab_type": "code",
        "id": "4DXXud2fHZrY",
        "outputId": "c5bebb5a-09da-46e2-8a87-4de73a6d32f5",
        "colab": {
          "base_uri": "https://localhost:8080/",
          "height": 105
        }
      },
      "source": [
        "base = ResNet50(include_top = False,weights='imagenet',input_shape = (139,139,3))\n",
        "model = models.Sequential()\n",
        "model.add(base)\n",
        "model.add(GlobalAveragePooling2D())\n",
        "model.add(Dense(4096, activation='relu', name='Dense_Intermediate'))\n",
        "model.add(Dropout(0.5, name='Dropout_Regularization'))\n",
        "model.add(Dense(10, activation='softmax', name='Output'))"
      ],
      "execution_count": 8,
      "outputs": [
        {
          "output_type": "stream",
          "text": [
            "/usr/local/lib/python3.6/dist-packages/keras_applications/resnet50.py:265: UserWarning: The output shape of `ResNet50(include_top=False)` has been changed since Keras 2.2.0.\n",
            "  warnings.warn('The output shape of `ResNet50(include_top=False)` '\n"
          ],
          "name": "stderr"
        },
        {
          "output_type": "stream",
          "text": [
            "Downloading data from https://github.com/fchollet/deep-learning-models/releases/download/v0.2/resnet50_weights_tf_dim_ordering_tf_kernels_notop.h5\n",
            "94658560/94653016 [==============================] - 8s 0us/step\n"
          ],
          "name": "stdout"
        }
      ]
    },
    {
      "cell_type": "markdown",
      "metadata": {
        "id": "7ur4cZ1kQIo7",
        "colab_type": "text"
      },
      "source": [
        "#### Freezing the layers of base model"
      ]
    },
    {
      "cell_type": "code",
      "metadata": {
        "colab_type": "code",
        "id": "ywOk76iTHhV-",
        "colab": {}
      },
      "source": [
        "for cnnlayer in model.layers[0].layers:\n",
        "    cnnlayer.trainable = False\n",
        "model.layers[0].trainable = False"
      ],
      "execution_count": 0,
      "outputs": []
    },
    {
      "cell_type": "code",
      "metadata": {
        "colab_type": "code",
        "id": "UwuyTpzNHl7-",
        "colab": {}
      },
      "source": [
        "model.compile(\n",
        "    optimizer='rmsprop',\n",
        "    loss='categorical_crossentropy',\n",
        "    metrics=['accuracy']\n",
        ")"
      ],
      "execution_count": 0,
      "outputs": []
    },
    {
      "cell_type": "code",
      "metadata": {
        "colab_type": "code",
        "id": "Mvs914L-HoA4",
        "outputId": "e2e84f7c-0474-4c48-a5f7-26a0d3338372",
        "colab": {
          "base_uri": "https://localhost:8080/",
          "height": 323
        }
      },
      "source": [
        "model.summary()"
      ],
      "execution_count": 11,
      "outputs": [
        {
          "output_type": "stream",
          "text": [
            "Model: \"sequential_1\"\n",
            "_________________________________________________________________\n",
            "Layer (type)                 Output Shape              Param #   \n",
            "=================================================================\n",
            "resnet50 (Model)             (None, 5, 5, 2048)        23587712  \n",
            "_________________________________________________________________\n",
            "global_average_pooling2d_1 ( (None, 2048)              0         \n",
            "_________________________________________________________________\n",
            "Dense_Intermediate (Dense)   (None, 4096)              8392704   \n",
            "_________________________________________________________________\n",
            "Dropout_Regularization (Drop (None, 4096)              0         \n",
            "_________________________________________________________________\n",
            "Output (Dense)               (None, 10)                40970     \n",
            "=================================================================\n",
            "Total params: 32,021,386\n",
            "Trainable params: 8,433,674\n",
            "Non-trainable params: 23,587,712\n",
            "_________________________________________________________________\n"
          ],
          "name": "stdout"
        }
      ]
    },
    {
      "cell_type": "code",
      "metadata": {
        "colab_type": "code",
        "id": "68Fuch2iHqGl",
        "outputId": "58c01418-bff8-4547-8246-0cede6ae070e",
        "colab": {
          "base_uri": "https://localhost:8080/",
          "height": 391
        }
      },
      "source": [
        "model.fit(x_train,y_train,epochs=10,batch_size=500,validation_data=(x_test,y_test))"
      ],
      "execution_count": 12,
      "outputs": [
        {
          "output_type": "stream",
          "text": [
            "Train on 50000 samples, validate on 10000 samples\n",
            "Epoch 1/10\n",
            "50000/50000 [==============================] - 260s 5ms/step - loss: 1.5728 - accuracy: 0.6889 - val_loss: 0.7932 - val_accuracy: 0.7613\n",
            "Epoch 2/10\n",
            "50000/50000 [==============================] - 247s 5ms/step - loss: 0.6120 - accuracy: 0.7915 - val_loss: 0.8954 - val_accuracy: 0.7678\n",
            "Epoch 3/10\n",
            "50000/50000 [==============================] - 247s 5ms/step - loss: 0.5006 - accuracy: 0.8270 - val_loss: 0.5560 - val_accuracy: 0.8344\n",
            "Epoch 4/10\n",
            "50000/50000 [==============================] - 247s 5ms/step - loss: 0.4288 - accuracy: 0.8522 - val_loss: 0.7123 - val_accuracy: 0.8077\n",
            "Epoch 5/10\n",
            "50000/50000 [==============================] - 247s 5ms/step - loss: 0.3607 - accuracy: 0.8749 - val_loss: 0.7486 - val_accuracy: 0.8057\n",
            "Epoch 6/10\n",
            "50000/50000 [==============================] - 247s 5ms/step - loss: 0.3153 - accuracy: 0.8882 - val_loss: 0.8757 - val_accuracy: 0.7917\n",
            "Epoch 7/10\n",
            "50000/50000 [==============================] - 247s 5ms/step - loss: 0.2640 - accuracy: 0.9074 - val_loss: 0.8229 - val_accuracy: 0.8123\n",
            "Epoch 8/10\n",
            "50000/50000 [==============================] - 247s 5ms/step - loss: 0.2262 - accuracy: 0.9195 - val_loss: 0.9379 - val_accuracy: 0.8011\n",
            "Epoch 9/10\n",
            "50000/50000 [==============================] - 246s 5ms/step - loss: 0.1980 - accuracy: 0.9301 - val_loss: 0.8659 - val_accuracy: 0.8237\n",
            "Epoch 10/10\n",
            "50000/50000 [==============================] - 246s 5ms/step - loss: 0.1652 - accuracy: 0.9414 - val_loss: 0.7640 - val_accuracy: 0.8390\n"
          ],
          "name": "stdout"
        },
        {
          "output_type": "execute_result",
          "data": {
            "text/plain": [
              "<keras.callbacks.callbacks.History at 0x7f2f6a51b4a8>"
            ]
          },
          "metadata": {
            "tags": []
          },
          "execution_count": 12
        }
      ]
    },
    {
      "cell_type": "markdown",
      "metadata": {
        "id": "4hyKt-BQQIpf",
        "colab_type": "text"
      },
      "source": [
        "#### Performance Evaluation"
      ]
    },
    {
      "cell_type": "code",
      "metadata": {
        "colab_type": "code",
        "id": "VIPBrZwWOhZJ",
        "colab": {}
      },
      "source": [
        "from sklearn.metrics import accuracy_score,precision_score,recall_score,f1_score,log_loss,label_ranking_loss\n",
        "y_pred = model.predict(x_test)"
      ],
      "execution_count": 0,
      "outputs": []
    },
    {
      "cell_type": "code",
      "metadata": {
        "colab_type": "code",
        "id": "XpEv7Z3QJioB",
        "outputId": "1fa32b4a-5345-43b4-8110-38649f5680fa",
        "colab": {
          "base_uri": "https://localhost:8080/",
          "height": 136
        }
      },
      "source": [
        "y_pred = y_pred.round().astype(int)\n",
        "y_pred"
      ],
      "execution_count": 14,
      "outputs": [
        {
          "output_type": "execute_result",
          "data": {
            "text/plain": [
              "array([[0, 0, 0, ..., 0, 0, 0],\n",
              "       [0, 0, 0, ..., 0, 1, 0],\n",
              "       [0, 0, 0, ..., 0, 1, 0],\n",
              "       ...,\n",
              "       [0, 0, 0, ..., 0, 0, 0],\n",
              "       [0, 1, 0, ..., 0, 0, 0],\n",
              "       [0, 0, 0, ..., 1, 0, 0]])"
            ]
          },
          "metadata": {
            "tags": []
          },
          "execution_count": 14
        }
      ]
    },
    {
      "cell_type": "code",
      "metadata": {
        "colab_type": "code",
        "id": "LdzEvg0MKtf7",
        "outputId": "74112a32-6a1a-4f7a-a8ca-44f353b306ac",
        "colab": {
          "base_uri": "https://localhost:8080/",
          "height": 204
        }
      },
      "source": [
        "classwise_precision = precision_score(y_test,y_pred, average=None)\n",
        "for i in range(len(classwise_precision)):\n",
        "  print(\"Precision for class {} = {}\".format(i,classwise_precision[i]))\n",
        "print(\"Mean Precision = \",classwise_precision.mean())"
      ],
      "execution_count": 15,
      "outputs": [
        {
          "output_type": "stream",
          "text": [
            "Precision for class 0 = 0.7881567973311092\n",
            "Precision for class 1 = 0.9357894736842105\n",
            "Precision for class 2 = 0.9381443298969072\n",
            "Precision for class 3 = 0.9050966608084359\n",
            "Precision for class 4 = 0.7453936348408711\n",
            "Precision for class 5 = 0.7790802524797115\n",
            "Precision for class 6 = 0.9392133492252682\n",
            "Precision for class 7 = 0.7780569514237856\n",
            "Precision for class 8 = 0.9257688229056203\n",
            "Precision for class 9 = 0.8787878787878788\n",
            "Mean Precision =  0.8613488151383798\n"
          ],
          "name": "stdout"
        }
      ]
    },
    {
      "cell_type": "code",
      "metadata": {
        "colab_type": "code",
        "id": "U7eLvQt1K05K",
        "outputId": "012ed2af-33a1-4be0-8213-51f94ae6a805",
        "colab": {
          "base_uri": "https://localhost:8080/",
          "height": 204
        }
      },
      "source": [
        "classwise_recall = recall_score(y_test,y_pred, average=None)\n",
        "for i in range(len(classwise_recall)):\n",
        "  print(\"Recall for class {} = {}\".format(i,classwise_recall[i]))\n",
        "print(\"Mean Recall = \",classwise_recall.mean())"
      ],
      "execution_count": 16,
      "outputs": [
        {
          "output_type": "stream",
          "text": [
            "Recall for class 0 = 0.945\n",
            "Recall for class 1 = 0.889\n",
            "Recall for class 2 = 0.728\n",
            "Recall for class 3 = 0.515\n",
            "Recall for class 4 = 0.89\n",
            "Recall for class 5 = 0.864\n",
            "Recall for class 6 = 0.788\n",
            "Recall for class 7 = 0.929\n",
            "Recall for class 8 = 0.873\n",
            "Recall for class 9 = 0.928\n",
            "Mean Recall =  0.8349\n"
          ],
          "name": "stdout"
        }
      ]
    },
    {
      "cell_type": "code",
      "metadata": {
        "colab_type": "code",
        "id": "vbsJWoISLDVK",
        "outputId": "faf8c9f8-b216-4b79-89d3-2459ca19e620",
        "colab": {
          "base_uri": "https://localhost:8080/",
          "height": 34
        }
      },
      "source": [
        "print(\"Log Loss = \",log_loss(y_test,y_pred))"
      ],
      "execution_count": 17,
      "outputs": [
        {
          "output_type": "stream",
          "text": [
            "Log Loss =  5.151113111536988\n"
          ],
          "name": "stdout"
        }
      ]
    },
    {
      "cell_type": "code",
      "metadata": {
        "colab_type": "code",
        "id": "-XKHFUO8LIhW",
        "colab": {}
      },
      "source": [
        ""
      ],
      "execution_count": 0,
      "outputs": []
    }
  ]
}