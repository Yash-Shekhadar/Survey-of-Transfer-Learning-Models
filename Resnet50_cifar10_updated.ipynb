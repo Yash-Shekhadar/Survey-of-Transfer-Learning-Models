{
  "nbformat": 4,
  "nbformat_minor": 0,
  "metadata": {
    "accelerator": "GPU",
    "colab": {
      "name": "Resnet50_cifar10_updated.ipynb",
      "provenance": [],
      "collapsed_sections": [],
      "machine_shape": "hm"
    },
    "kernelspec": {
      "display_name": "Python 3",
      "language": "python",
      "name": "python3"
    },
    "language_info": {
      "codemirror_mode": {
        "name": "ipython",
        "version": 3
      },
      "file_extension": ".py",
      "mimetype": "text/x-python",
      "name": "python",
      "nbconvert_exporter": "python",
      "pygments_lexer": "ipython3",
      "version": "3.7.6"
    }
  },
  "cells": [
    {
      "cell_type": "markdown",
      "metadata": {
        "id": "MXjk-Q5-QIng",
        "colab_type": "text"
      },
      "source": [
        "# ResNet50 on Cifar10 dataset"
      ]
    },
    {
      "cell_type": "markdown",
      "metadata": {
        "id": "NCHKeV6XQInk",
        "colab_type": "text"
      },
      "source": [
        "#### Importing necessary libraries"
      ]
    },
    {
      "cell_type": "code",
      "metadata": {
        "colab_type": "code",
        "id": "-s-L3yQrGBKs",
        "outputId": "eb7822b9-5bc2-4fbc-c661-e2503986d16f",
        "colab": {
          "base_uri": "https://localhost:8080/",
          "height": 34
        }
      },
      "source": [
        "import cv2\n",
        "import numpy as np\n",
        "from sklearn.preprocessing import OneHotEncoder\n",
        "from keras.layers import Convolution2D,MaxPooling2D,Dropout,Dense,Flatten, GlobalAveragePooling2D\n",
        "from keras import models,losses,optimizers\n",
        "from keras.preprocessing.image import ImageDataGenerator\n",
        "from keras.applications import InceptionV3,VGG16,ResNet50\n",
        "from keras.applications.resnet50 import preprocess_input\n",
        "from keras.models import Model\n",
        "from keras.layers import Dense, Dropout, Conv2D, GlobalAveragePooling2D\n",
        "import matplotlib.pyplot as plt\n",
        "from keras.utils import to_categorical"
      ],
      "execution_count": 1,
      "outputs": [
        {
          "output_type": "stream",
          "text": [
            "Using TensorFlow backend.\n"
          ],
          "name": "stderr"
        }
      ]
    },
    {
      "cell_type": "markdown",
      "metadata": {
        "id": "XwCIE2A6QIn1",
        "colab_type": "text"
      },
      "source": [
        "#### Loading the Dataset and performing inbuilt pre-processing"
      ]
    },
    {
      "cell_type": "code",
      "metadata": {
        "colab_type": "code",
        "id": "qdQBR9QZGwFq",
        "colab": {}
      },
      "source": [
        "from keras.datasets import mnist,fashion_mnist,cifar10\n",
        "(x_train, y_train), (x_test, y_test) = cifar10.load_data()\n",
        "y_train = to_categorical(y_train).astype(int)\n",
        "y_test = to_categorical(y_test).astype(int)"
      ],
      "execution_count": 0,
      "outputs": []
    },
    {
      "cell_type": "code",
      "metadata": {
        "colab_type": "code",
        "id": "8Ae4zbmSGzf2",
        "outputId": "d5014a62-6d65-4f5f-f6fd-4d3b22ffb2c9",
        "colab": {
          "base_uri": "https://localhost:8080/",
          "height": 283
        }
      },
      "source": [
        "plt.imshow(x_train[1])"
      ],
      "execution_count": 3,
      "outputs": [
        {
          "output_type": "execute_result",
          "data": {
            "text/plain": [
              "<matplotlib.image.AxesImage at 0x7fba3be6e630>"
            ]
          },
          "metadata": {
            "tags": []
          },
          "execution_count": 3
        },
        {
          "output_type": "display_data",
          "data": {
            "image/png": "[encoded data removed]",
            "text/plain": [
              "<Figure size 432x288 with 1 Axes>"
            ]
          },
          "metadata": {
            "tags": [],
            "needs_background": "light"
          }
        }
      ]
    },
    {
      "cell_type": "markdown",
      "metadata": {
        "id": "AF-dWqDbQIoM",
        "colab_type": "text"
      },
      "source": [
        "#### Function to resize the input image\n",
        "    - Intitial size : (32x32)\n",
        "    - Final size : (139x139)"
      ]
    },
    {
      "cell_type": "code",
      "metadata": {
        "colab_type": "code",
        "id": "kUa43dDx0MA8",
        "colab": {}
      },
      "source": [
        "def resize_data(data):\n",
        "  data_upscaled = []\n",
        "  for i, img in enumerate(data):\n",
        "    large_img = cv2.resize(img, dsize=(139, 139))\n",
        "    data_upscaled.append(large_img)\n",
        "  return data_upscaled"
      ],
      "execution_count": 0,
      "outputs": []
    },
    {
      "cell_type": "code",
      "metadata": {
        "colab_type": "code",
        "id": "MV5boi8DHLjm",
        "outputId": "785088ed-cf66-4950-ab30-5f9eb74f1255",
        "colab": {
          "base_uri": "https://localhost:8080/",
          "height": 303
        }
      },
      "source": [
        "x_train = np.array(resize_data(x_train))\n",
        "x_test = np.array(resize_data(x_test)) \n",
        "x_train = preprocess_input(x_train)\n",
        "x_test = preprocess_input(x_test)\n",
        "plt.imshow(x_train[1])"
      ],
      "execution_count": 8,
      "outputs": [
        {
          "output_type": "stream",
          "text": [
            "Clipping input data to the valid range for imshow with RGB data ([0..1] for floats or [0..255] for integers).\n"
          ],
          "name": "stderr"
        },
        {
          "output_type": "execute_result",
          "data": {
            "text/plain": [
              "<matplotlib.image.AxesImage at 0x7fba3b8c42e8>"
            ]
          },
          "metadata": {
            "tags": []
          },
          "execution_count": 8
        },
        {
          "output_type": "display_data",
          "data": {
            "image/png": "[encoded data removed]",
            "text/plain": [
              "<Figure size 432x288 with 1 Axes>"
            ]
          },
          "metadata": {
            "tags": [],
            "needs_background": "light"
          }
        }
      ]
    },
    {
      "cell_type": "code",
      "metadata": {
        "colab_type": "code",
        "id": "WIP-_Gu9HVpD",
        "outputId": "93a79610-984d-46bf-babe-a8d6aa8bba9d",
        "colab": {
          "base_uri": "https://localhost:8080/",
          "height": 34
        }
      },
      "source": [
        "print(x_train.shape,x_test.shape,y_train.shape,y_test.shape)"
      ],
      "execution_count": 9,
      "outputs": [
        {
          "output_type": "stream",
          "text": [
            "(50000, 139, 139, 3) (10000, 139, 139, 3) (50000, 10) (10000, 10)\n"
          ],
          "name": "stdout"
        }
      ]
    },
    {
      "cell_type": "markdown",
      "metadata": {
        "id": "JhTJ6uwrQIo1",
        "colab_type": "text"
      },
      "source": [
        "#### Model Building"
      ]
    },
    {
      "cell_type": "code",
      "metadata": {
        "colab_type": "code",
        "id": "4DXXud2fHZrY",
        "outputId": "f1e51126-71a9-40ab-bad4-21cba3f3d05e",
        "colab": {
          "base_uri": "https://localhost:8080/",
          "height": 105
        }
      },
      "source": [
        "base = ResNet50(include_top = False,weights='imagenet',input_shape = (139,139,3))\n",
        "model = models.Sequential()\n",
        "model.add(base)\n",
        "model.add(GlobalAveragePooling2D())\n",
        "model.add(Dense(4096, activation='relu', name='Dense_Intermediate'))\n",
        "model.add(Dropout(0.5, name='Dropout_Regularization'))\n",
        "model.add(Dense(10, activation='softmax', name='Output'))"
      ],
      "execution_count": 10,
      "outputs": [
        {
          "output_type": "stream",
          "text": [
            "/usr/local/lib/python3.6/dist-packages/keras_applications/resnet50.py:265: UserWarning: The output shape of `ResNet50(include_top=False)` has been changed since Keras 2.2.0.\n",
            "  warnings.warn('The output shape of `ResNet50(include_top=False)` '\n"
          ],
          "name": "stderr"
        },
        {
          "output_type": "stream",
          "text": [
            "Downloading data from https://github.com/fchollet/deep-learning-models/releases/download/v0.2/resnet50_weights_tf_dim_ordering_tf_kernels_notop.h5\n",
            "94658560/94653016 [==============================] - 7s 0us/step\n"
          ],
          "name": "stdout"
        }
      ]
    },
    {
      "cell_type": "markdown",
      "metadata": {
        "id": "7ur4cZ1kQIo7",
        "colab_type": "text"
      },
      "source": [
        "#### Freezing the layers of base model"
      ]
    },
    {
      "cell_type": "code",
      "metadata": {
        "colab_type": "code",
        "id": "ywOk76iTHhV-",
        "colab": {}
      },
      "source": [
        "for cnnlayer in model.layers[0].layers:\n",
        "    cnnlayer.trainable = False\n",
        "model.layers[0].trainable = False"
      ],
      "execution_count": 0,
      "outputs": []
    },
    {
      "cell_type": "code",
      "metadata": {
        "colab_type": "code",
        "id": "UwuyTpzNHl7-",
        "colab": {}
      },
      "source": [
        "model.compile(\n",
        "    optimizer='rmsprop',\n",
        "    loss='categorical_crossentropy',\n",
        "    metrics=['accuracy']\n",
        ")"
      ],
      "execution_count": 0,
      "outputs": []
    },
    {
      "cell_type": "code",
      "metadata": {
        "colab_type": "code",
        "id": "Mvs914L-HoA4",
        "outputId": "1e434621-290c-4f60-945c-72e043fd5185",
        "colab": {
          "base_uri": "https://localhost:8080/",
          "height": 323
        }
      },
      "source": [
        "model.summary()"
      ],
      "execution_count": 13,
      "outputs": [
        {
          "output_type": "stream",
          "text": [
            "Model: \"sequential_1\"\n",
            "_________________________________________________________________\n",
            "Layer (type)                 Output Shape              Param #   \n",
            "=================================================================\n",
            "resnet50 (Model)             (None, 5, 5, 2048)        23587712  \n",
            "_________________________________________________________________\n",
            "global_average_pooling2d_1 ( (None, 2048)              0         \n",
            "_________________________________________________________________\n",
            "Dense_Intermediate (Dense)   (None, 4096)              8392704   \n",
            "_________________________________________________________________\n",
            "Dropout_Regularization (Drop (None, 4096)              0         \n",
            "_________________________________________________________________\n",
            "Output (Dense)               (None, 10)                40970     \n",
            "=================================================================\n",
            "Total params: 32,021,386\n",
            "Trainable params: 8,433,674\n",
            "Non-trainable params: 23,587,712\n",
            "_________________________________________________________________\n"
          ],
          "name": "stdout"
        }
      ]
    },
    {
      "cell_type": "code",
      "metadata": {
        "colab_type": "code",
        "id": "68Fuch2iHqGl",
        "outputId": "f3558a2b-76ae-4d26-f8a6-5c4091d42708",
        "colab": {
          "base_uri": "https://localhost:8080/",
          "height": 391
        }
      },
      "source": [
        "model.fit(x_train,y_train,epochs=10,batch_size=500,validation_data=(x_test,y_test))"
      ],
      "execution_count": 14,
      "outputs": [
        {
          "output_type": "stream",
          "text": [
            "Train on 50000 samples, validate on 10000 samples\n",
            "Epoch 1/10\n",
            "50000/50000 [==============================] - 83s 2ms/step - loss: 1.7837 - accuracy: 0.6810 - val_loss: 0.9765 - val_accuracy: 0.7250\n",
            "Epoch 2/10\n",
            "50000/50000 [==============================] - 74s 1ms/step - loss: 0.6197 - accuracy: 0.7905 - val_loss: 0.8452 - val_accuracy: 0.7640\n",
            "Epoch 3/10\n",
            "50000/50000 [==============================] - 74s 1ms/step - loss: 0.5062 - accuracy: 0.8251 - val_loss: 0.8700 - val_accuracy: 0.7736\n",
            "Epoch 4/10\n",
            "50000/50000 [==============================] - 73s 1ms/step - loss: 0.4220 - accuracy: 0.8525 - val_loss: 0.8233 - val_accuracy: 0.7858\n",
            "Epoch 5/10\n",
            "50000/50000 [==============================] - 73s 1ms/step - loss: 0.3668 - accuracy: 0.8730 - val_loss: 0.9274 - val_accuracy: 0.7757\n",
            "Epoch 6/10\n",
            "50000/50000 [==============================] - 73s 1ms/step - loss: 0.3178 - accuracy: 0.8890 - val_loss: 0.7933 - val_accuracy: 0.8083\n",
            "Epoch 7/10\n",
            "50000/50000 [==============================] - 73s 1ms/step - loss: 0.2660 - accuracy: 0.9075 - val_loss: 0.8777 - val_accuracy: 0.8043\n",
            "Epoch 8/10\n",
            "50000/50000 [==============================] - 73s 1ms/step - loss: 0.2272 - accuracy: 0.9200 - val_loss: 0.7469 - val_accuracy: 0.8356\n",
            "Epoch 9/10\n",
            "50000/50000 [==============================] - 73s 1ms/step - loss: 0.1971 - accuracy: 0.9304 - val_loss: 1.0016 - val_accuracy: 0.8043\n",
            "Epoch 10/10\n",
            "50000/50000 [==============================] - 73s 1ms/step - loss: 0.1738 - accuracy: 0.9393 - val_loss: 0.7227 - val_accuracy: 0.8470\n"
          ],
          "name": "stdout"
        },
        {
          "output_type": "execute_result",
          "data": {
            "text/plain": [
              "<keras.callbacks.callbacks.History at 0x7fb9c61cf518>"
            ]
          },
          "metadata": {
            "tags": []
          },
          "execution_count": 14
        }
      ]
    },
    {
      "cell_type": "markdown",
      "metadata": {
        "id": "4hyKt-BQQIpf",
        "colab_type": "text"
      },
      "source": [
        "#### Performance Evaluation"
      ]
    },
    {
      "cell_type": "code",
      "metadata": {
        "colab_type": "code",
        "id": "VIPBrZwWOhZJ",
        "colab": {}
      },
      "source": [
        "from sklearn.metrics import accuracy_score,precision_score,recall_score,f1_score,log_loss,label_ranking_loss\n",
        "y_pred = model.predict(x_test)"
      ],
      "execution_count": 0,
      "outputs": []
    },
    {
      "cell_type": "code",
      "metadata": {
        "colab_type": "code",
        "id": "XpEv7Z3QJioB",
        "outputId": "22b6ac6e-9e89-4072-9d81-35e613695e78",
        "colab": {
          "base_uri": "https://localhost:8080/",
          "height": 136
        }
      },
      "source": [
        "y_pred = y_pred.round().astype(int)\n",
        "y_pred"
      ],
      "execution_count": 16,
      "outputs": [
        {
          "output_type": "execute_result",
          "data": {
            "text/plain": [
              "array([[0, 0, 0, ..., 0, 0, 0],\n",
              "       [0, 0, 0, ..., 0, 1, 0],\n",
              "       [0, 0, 0, ..., 0, 0, 1],\n",
              "       ...,\n",
              "       [0, 0, 0, ..., 0, 0, 0],\n",
              "       [0, 1, 0, ..., 0, 0, 0],\n",
              "       [0, 0, 0, ..., 1, 0, 0]])"
            ]
          },
          "metadata": {
            "tags": []
          },
          "execution_count": 16
        }
      ]
    },
    {
      "cell_type": "code",
      "metadata": {
        "colab_type": "code",
        "id": "LdzEvg0MKtf7",
        "outputId": "d95a79b9-f7e6-4b35-cba4-1afcf5924fa2",
        "colab": {
          "base_uri": "https://localhost:8080/",
          "height": 204
        }
      },
      "source": [
        "classwise_precision = precision_score(y_test,y_pred, average=None)\n",
        "for i in range(len(classwise_precision)):\n",
        "  print(\"Precision for class {} = {}\".format(i,classwise_precision[i]))\n",
        "print(\"Mean Precision = \",classwise_precision.mean())"
      ],
      "execution_count": 17,
      "outputs": [
        {
          "output_type": "stream",
          "text": [
            "Precision for class 0 = 0.8824130879345603\n",
            "Precision for class 1 = 0.9695863746958637\n",
            "Precision for class 2 = 0.9673629242819843\n",
            "Precision for class 3 = 0.8171641791044776\n",
            "Precision for class 4 = 0.7670648464163823\n",
            "Precision for class 5 = 0.7690288713910761\n",
            "Precision for class 6 = 0.9145569620253164\n",
            "Precision for class 7 = 0.9100310237849017\n",
            "Precision for class 8 = 0.9382448537378115\n",
            "Precision for class 9 = 0.7282127031019202\n",
            "Mean Precision =  0.8663665826474294\n"
          ],
          "name": "stdout"
        }
      ]
    },
    {
      "cell_type": "code",
      "metadata": {
        "colab_type": "code",
        "id": "U7eLvQt1K05K",
        "outputId": "24366035-9b99-48d8-f9ae-deabe41ae567",
        "colab": {
          "base_uri": "https://localhost:8080/",
          "height": 204
        }
      },
      "source": [
        "classwise_recall = recall_score(y_test,y_pred, average=None)\n",
        "for i in range(len(classwise_recall)):\n",
        "  print(\"Recall for class {} = {}\".format(i,classwise_recall[i]))\n",
        "print(\"Mean Recall = \",classwise_recall.mean())"
      ],
      "execution_count": 18,
      "outputs": [
        {
          "output_type": "stream",
          "text": [
            "Recall for class 0 = 0.863\n",
            "Recall for class 1 = 0.797\n",
            "Recall for class 2 = 0.741\n",
            "Recall for class 3 = 0.657\n",
            "Recall for class 4 = 0.899\n",
            "Recall for class 5 = 0.879\n",
            "Recall for class 6 = 0.867\n",
            "Recall for class 7 = 0.88\n",
            "Recall for class 8 = 0.866\n",
            "Recall for class 9 = 0.986\n",
            "Mean Recall =  0.8435\n"
          ],
          "name": "stdout"
        }
      ]
    },
    {
      "cell_type": "code",
      "metadata": {
        "colab_type": "code",
        "id": "vbsJWoISLDVK",
        "outputId": "7b97d99e-f59d-439b-bc0a-f41a9e05123b",
        "colab": {
          "base_uri": "https://localhost:8080/",
          "height": 34
        }
      },
      "source": [
        "print(\"Log Loss = \",log_loss(y_test,y_pred))"
      ],
      "execution_count": 19,
      "outputs": [
        {
          "output_type": "stream",
          "text": [
            "Log Loss =  5.008813352789956\n"
          ],
          "name": "stdout"
        }
      ]
    },
    {
      "cell_type": "code",
      "metadata": {
        "colab_type": "code",
        "id": "-XKHFUO8LIhW",
        "colab": {}
      },
      "source": [
        ""
      ],
      "execution_count": 0,
      "outputs": []
    }
  ]
}