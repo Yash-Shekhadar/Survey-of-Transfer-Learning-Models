{
  "nbformat": 4,
  "nbformat_minor": 0,
  "metadata": {
    "colab": {
      "name": "Resnet50_cifar10.ipynb",
      "provenance": [],
      "collapsed_sections": [],
      "machine_shape": "hm"
    },
    "kernelspec": {
      "name": "python3",
      "display_name": "Python 3"
    },
    "accelerator": "GPU"
  },
  "cells": [
    {
      "cell_type": "code",
      "metadata": {
        "id": "-s-L3yQrGBKs",
        "colab_type": "code",
        "outputId": "fa14e271-31af-47d7-f0d9-86875e5e0d2a",
        "colab": {
          "base_uri": "https://localhost:8080/",
          "height": 34
        }
      },
      "source": [
        "import cv2\n",
        "import numpy as np\n",
        "from sklearn.preprocessing import OneHotEncoder\n",
        "from keras.layers import Convolution2D,MaxPooling2D,Dropout,Dense,Flatten, GlobalAveragePooling2D\n",
        "from keras import models,losses,optimizers\n",
        "from keras.preprocessing.image import ImageDataGenerator\n",
        "from keras.applications import InceptionV3,VGG16,ResNet50\n",
        "from keras.applications.resnet50 import preprocess_input\n",
        "from keras.models import Model\n",
        "from keras.layers import Dense, Dropout, Conv2D, GlobalAveragePooling2D\n",
        "import matplotlib.pyplot as plt\n",
        "from keras.utils import to_categorical"
      ],
      "execution_count": 1,
      "outputs": [
        {
          "output_type": "stream",
          "text": [
            "Using TensorFlow backend.\n"
          ],
          "name": "stderr"
        }
      ]
    },
    {
      "cell_type": "code",
      "metadata": {
        "id": "qdQBR9QZGwFq",
        "colab_type": "code",
        "colab": {
          "base_uri": "https://localhost:8080/",
          "height": 51
        },
        "outputId": "86dbd6c3-73d0-4782-aa13-e150414999da"
      },
      "source": [
        "from keras.datasets import mnist,fashion_mnist,cifar10\n",
        "(x_train, y_train), (x_test, y_test) = cifar10.load_data()\n",
        "y_train = to_categorical(y_train)\n",
        "y_test = to_categorical(y_test)\n",
        "x_train = preprocess_input(x_train)\n",
        "x_test = preprocess_input(x_test)"
      ],
      "execution_count": 2,
      "outputs": [
        {
          "output_type": "stream",
          "text": [
            "Downloading data from https://www.cs.toronto.edu/~kriz/cifar-10-python.tar.gz\n",
            "170500096/170498071 [==============================] - 6s 0us/step\n"
          ],
          "name": "stdout"
        }
      ]
    },
    {
      "cell_type": "code",
      "metadata": {
        "id": "8Ae4zbmSGzf2",
        "colab_type": "code",
        "outputId": "c1d16f63-587e-4045-d7ac-a9099bac24f5",
        "colab": {
          "base_uri": "https://localhost:8080/",
          "height": 300
        }
      },
      "source": [
        "plt.imshow(x_train[1])"
      ],
      "execution_count": 3,
      "outputs": [
        {
          "output_type": "stream",
          "text": [
            "Clipping input data to the valid range for imshow with RGB data ([0..1] for floats or [0..255] for integers).\n"
          ],
          "name": "stderr"
        },
        {
          "output_type": "execute_result",
          "data": {
            "text/plain": [
              "<matplotlib.image.AxesImage at 0x7f7d1a8311d0>"
            ]
          },
          "metadata": {
            "tags": []
          },
          "execution_count": 3
        },
        {
          "output_type": "display_data",
          "data": {
            "image/png": "[encoded data removed]",
            "text/plain": [
              "<Figure size 432x288 with 1 Axes>"
            ]
          },
          "metadata": {
            "tags": [],
            "needs_background": "light"
          }
        }
      ]
    },
    {
      "cell_type": "code",
      "metadata": {
        "id": "kUa43dDx0MA8",
        "colab_type": "code",
        "colab": {}
      },
      "source": [
        "def resize_data(data):\n",
        "  data_upscaled = []\n",
        "  for i, img in enumerate(data):\n",
        "    large_img = cv2.resize(img, dsize=(100, 100))\n",
        "    data_upscaled.append(large_img)\n",
        "  return data_upscaled"
      ],
      "execution_count": 0,
      "outputs": []
    },
    {
      "cell_type": "code",
      "metadata": {
        "id": "MV5boi8DHLjm",
        "colab_type": "code",
        "outputId": "e5763bc5-6896-47f0-8139-ee68a2a7934a",
        "colab": {
          "base_uri": "https://localhost:8080/",
          "height": 302
        }
      },
      "source": [
        "x_train = np.array(resize_data(x_train))\n",
        "x_test = np.array(resize_data(x_test)) \n",
        "plt.imshow(x_test[1])"
      ],
      "execution_count": 5,
      "outputs": [
        {
          "output_type": "stream",
          "text": [
            "Clipping input data to the valid range for imshow with RGB data ([0..1] for floats or [0..255] for integers).\n"
          ],
          "name": "stderr"
        },
        {
          "output_type": "execute_result",
          "data": {
            "text/plain": [
              "<matplotlib.image.AxesImage at 0x7f7d1a317ac8>"
            ]
          },
          "metadata": {
            "tags": []
          },
          "execution_count": 5
        },
        {
          "output_type": "display_data",
          "data": {
            "image/png": "[encoded data removed]",
            "text/plain": [
              "<Figure size 432x288 with 1 Axes>"
            ]
          },
          "metadata": {
            "tags": [],
            "needs_background": "light"
          }
        }
      ]
    },
    {
      "cell_type": "code",
      "metadata": {
        "id": "WIP-_Gu9HVpD",
        "colab_type": "code",
        "outputId": "c98510ec-e13a-451a-e492-9674305f5bfc",
        "colab": {
          "base_uri": "https://localhost:8080/",
          "height": 34
        }
      },
      "source": [
        "print(x_train.shape,x_test.shape,y_train.shape,y_test.shape)"
      ],
      "execution_count": 6,
      "outputs": [
        {
          "output_type": "stream",
          "text": [
            "(50000, 100, 100, 3) (10000, 100, 100, 3) (50000, 10) (10000, 10)\n"
          ],
          "name": "stdout"
        }
      ]
    },
    {
      "cell_type": "code",
      "metadata": {
        "id": "GKBhFWPGuYJy",
        "colab_type": "code",
        "outputId": "be32bbc2-a75b-46f7-d631-55a6d54c9db4",
        "colab": {
          "base_uri": "https://localhost:8080/",
          "height": 283
        }
      },
      "source": [
        "x_train = x_train/255\n",
        "x_test = x_test/255\n",
        "x_test.mean()\n",
        "plt.imshow(x_train[1])"
      ],
      "execution_count": 0,
      "outputs": [
        {
          "output_type": "execute_result",
          "data": {
            "text/plain": [
              "<matplotlib.image.AxesImage at 0x7f91c331ba58>"
            ]
          },
          "metadata": {
            "tags": []
          },
          "execution_count": 20
        },
        {
          "output_type": "display_data",
          "data": {
            "image/png": "[encoded data removed]",
            "text/plain": [
              "<Figure size 432x288 with 1 Axes>"
            ]
          },
          "metadata": {
            "tags": [],
            "needs_background": "light"
          }
        }
      ]
    },
    {
      "cell_type": "code",
      "metadata": {
        "id": "4DXXud2fHZrY",
        "colab_type": "code",
        "outputId": "90d61987-e510-47a8-e4b1-51e67400b654",
        "colab": {
          "base_uri": "https://localhost:8080/",
          "height": 105
        }
      },
      "source": [
        "base = ResNet50(include_top = False,weights='imagenet',input_shape = (100,100,3))\n",
        "model = models.Sequential()\n",
        "model.add(base)\n",
        "model.add(Flatten())\n",
        "model.add(Dense(512,activation='relu'))\n",
        "model.add(Dropout(0.5))\n",
        "model.add(Dense(10, activation='softmax'))"
      ],
      "execution_count": 7,
      "outputs": [
        {
          "output_type": "stream",
          "text": [
            "/usr/local/lib/python3.6/dist-packages/keras_applications/resnet50.py:265: UserWarning: The output shape of `ResNet50(include_top=False)` has been changed since Keras 2.2.0.\n",
            "  warnings.warn('The output shape of `ResNet50(include_top=False)` '\n"
          ],
          "name": "stderr"
        },
        {
          "output_type": "stream",
          "text": [
            "Downloading data from https://github.com/fchollet/deep-learning-models/releases/download/v0.2/resnet50_weights_tf_dim_ordering_tf_kernels_notop.h5\n",
            "94658560/94653016 [==============================] - 4s 0us/step\n"
          ],
          "name": "stdout"
        }
      ]
    },
    {
      "cell_type": "code",
      "metadata": {
        "id": "ywOk76iTHhV-",
        "colab_type": "code",
        "colab": {}
      },
      "source": [
        "for cnnlayer in model.layers[0].layers:\n",
        "    cnnlayer.trainable = False\n",
        "model.layers[0].trainable = False"
      ],
      "execution_count": 0,
      "outputs": []
    },
    {
      "cell_type": "code",
      "metadata": {
        "id": "UwuyTpzNHl7-",
        "colab_type": "code",
        "colab": {}
      },
      "source": [
        "model.compile(\n",
        "    optimizer='rmsprop',\n",
        "    loss='categorical_crossentropy',\n",
        "    metrics=['accuracy']\n",
        ")"
      ],
      "execution_count": 0,
      "outputs": []
    },
    {
      "cell_type": "code",
      "metadata": {
        "id": "Mvs914L-HoA4",
        "colab_type": "code",
        "outputId": "292d2446-fca5-4a23-f3c7-693ed83ac74b",
        "colab": {
          "base_uri": "https://localhost:8080/",
          "height": 323
        }
      },
      "source": [
        "model.summary()"
      ],
      "execution_count": 10,
      "outputs": [
        {
          "output_type": "stream",
          "text": [
            "Model: \"sequential_1\"\n",
            "_________________________________________________________________\n",
            "Layer (type)                 Output Shape              Param #   \n",
            "=================================================================\n",
            "resnet50 (Model)             (None, 4, 4, 2048)        23587712  \n",
            "_________________________________________________________________\n",
            "flatten_1 (Flatten)          (None, 32768)             0         \n",
            "_________________________________________________________________\n",
            "dense_1 (Dense)              (None, 512)               16777728  \n",
            "_________________________________________________________________\n",
            "dropout_1 (Dropout)          (None, 512)               0         \n",
            "_________________________________________________________________\n",
            "dense_2 (Dense)              (None, 10)                5130      \n",
            "=================================================================\n",
            "Total params: 40,370,570\n",
            "Trainable params: 16,782,858\n",
            "Non-trainable params: 23,587,712\n",
            "_________________________________________________________________\n"
          ],
          "name": "stdout"
        }
      ]
    },
    {
      "cell_type": "code",
      "metadata": {
        "id": "68Fuch2iHqGl",
        "colab_type": "code",
        "outputId": "2abc8329-d9ee-44a2-f204-5eb9b0d9b553",
        "colab": {
          "base_uri": "https://localhost:8080/",
          "height": 391
        }
      },
      "source": [
        "model.fit(x_train,y_train,epochs=10,batch_size=500,validation_data=(x_test,y_test))"
      ],
      "execution_count": 11,
      "outputs": [
        {
          "output_type": "stream",
          "text": [
            "Train on 50000 samples, validate on 10000 samples\n",
            "Epoch 1/10\n",
            "50000/50000 [==============================] - 142s 3ms/step - loss: 2.5096 - accuracy: 0.6696 - val_loss: 1.0696 - val_accuracy: 0.7368\n",
            "Epoch 2/10\n",
            "50000/50000 [==============================] - 133s 3ms/step - loss: 0.7404 - accuracy: 0.7814 - val_loss: 1.0850 - val_accuracy: 0.7620\n",
            "Epoch 3/10\n",
            "50000/50000 [==============================] - 133s 3ms/step - loss: 0.5445 - accuracy: 0.8324 - val_loss: 1.1235 - val_accuracy: 0.7703\n",
            "Epoch 4/10\n",
            "50000/50000 [==============================] - 133s 3ms/step - loss: 0.4118 - accuracy: 0.8720 - val_loss: 1.1568 - val_accuracy: 0.7796\n",
            "Epoch 5/10\n",
            "50000/50000 [==============================] - 133s 3ms/step - loss: 0.3458 - accuracy: 0.8932 - val_loss: 1.2935 - val_accuracy: 0.7863\n",
            "Epoch 6/10\n",
            "50000/50000 [==============================] - 133s 3ms/step - loss: 0.2697 - accuracy: 0.9151 - val_loss: 1.1505 - val_accuracy: 0.8051\n",
            "Epoch 7/10\n",
            "50000/50000 [==============================] - 133s 3ms/step - loss: 0.2297 - accuracy: 0.9283 - val_loss: 1.2601 - val_accuracy: 0.8095\n",
            "Epoch 8/10\n",
            "50000/50000 [==============================] - 133s 3ms/step - loss: 0.2083 - accuracy: 0.9362 - val_loss: 1.5492 - val_accuracy: 0.7981\n",
            "Epoch 9/10\n",
            "50000/50000 [==============================] - 133s 3ms/step - loss: 0.1733 - accuracy: 0.9463 - val_loss: 1.4115 - val_accuracy: 0.8083\n",
            "Epoch 10/10\n",
            "50000/50000 [==============================] - 132s 3ms/step - loss: 0.1618 - accuracy: 0.9505 - val_loss: 1.7339 - val_accuracy: 0.8025\n"
          ],
          "name": "stdout"
        },
        {
          "output_type": "execute_result",
          "data": {
            "text/plain": [
              "<keras.callbacks.callbacks.History at 0x7f7cbef0a6d8>"
            ]
          },
          "metadata": {
            "tags": []
          },
          "execution_count": 11
        }
      ]
    },
    {
      "cell_type": "code",
      "metadata": {
        "id": "VIPBrZwWOhZJ",
        "colab_type": "code",
        "colab": {}
      },
      "source": [
        ""
      ],
      "execution_count": 0,
      "outputs": []
    }
  ]
}