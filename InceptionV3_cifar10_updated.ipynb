{
  "nbformat": 4,
  "nbformat_minor": 0,
  "metadata": {
    "accelerator": "GPU",
    "colab": {
      "name": "InceptionV3_cifar10_updated.ipynb",
      "provenance": [],
      "collapsed_sections": [],
      "machine_shape": "hm"
    },
    "kernelspec": {
      "display_name": "Python 3",
      "language": "python",
      "name": "python3"
    },
    "language_info": {
      "codemirror_mode": {
        "name": "ipython",
        "version": 3
      },
      "file_extension": ".py",
      "mimetype": "text/x-python",
      "name": "python",
      "nbconvert_exporter": "python",
      "pygments_lexer": "ipython3",
      "version": "3.7.6"
    }
  },
  "cells": [
    {
      "cell_type": "markdown",
      "metadata": {
        "id": "J--vFGXfLHbB",
        "colab_type": "text"
      },
      "source": [
        "# InceptionV3 on Cifar10 dataset"
      ]
    },
    {
      "cell_type": "markdown",
      "metadata": {
        "id": "NBMbpNOoLHbD",
        "colab_type": "text"
      },
      "source": [
        "#### Importing the necessary Libraries"
      ]
    },
    {
      "cell_type": "code",
      "metadata": {
        "colab_type": "code",
        "id": "6XjJWL9vKvc0",
        "colab": {}
      },
      "source": [
        "import cv2\n",
        "import numpy as np\n",
        "import matplotlib.pyplot as plt\n",
        "from sklearn.metrics import precision_score,recall_score,log_loss\n",
        "from sklearn.preprocessing import OneHotEncoder\n",
        "from keras.layers import Convolution2D,MaxPooling2D,Dropout,Dense,Flatten, GlobalAveragePooling2D\n",
        "from keras import models,losses,optimizers\n",
        "from keras.preprocessing.image import ImageDataGenerator\n",
        "from keras.applications import InceptionV3,VGG16,resnet50\n",
        "from keras.applications.inception_v3 import preprocess_input\n",
        "from keras.models import Model\n",
        "from keras.layers import Dense, Dropout, Conv2D, GlobalAveragePooling2D"
      ],
      "execution_count": 0,
      "outputs": []
    },
    {
      "cell_type": "markdown",
      "metadata": {
        "id": "VqieGrenLHbH",
        "colab_type": "text"
      },
      "source": [
        "#### Loading the data and performing inbuilt pre-processing"
      ]
    },
    {
      "cell_type": "code",
      "metadata": {
        "colab_type": "code",
        "id": "jwGvchOqK2ZU",
        "outputId": "4e665aa0-267f-4f16-8e4a-49f27391e016",
        "colab": {
          "base_uri": "https://localhost:8080/",
          "height": 51
        }
      },
      "source": [
        "from tensorflow.keras.datasets import cifar10\n",
        "(X_train,y_train),(X_test,y_test) = cifar10.load_data()\n",
        "from sklearn.preprocessing import OneHotEncoder\n",
        "ohe = OneHotEncoder()\n",
        "y_train = ohe.fit_transform(y_train).toarray().astype(int)\n",
        "y_test = ohe.transform(y_test).toarray().astype(int)"
      ],
      "execution_count": 2,
      "outputs": [
        {
          "output_type": "stream",
          "text": [
            "Downloading data from https://www.cs.toronto.edu/~kriz/cifar-10-python.tar.gz\n",
            "170500096/170498071 [==============================] - 2s 0us/step\n"
          ],
          "name": "stdout"
        }
      ]
    },
    {
      "cell_type": "code",
      "metadata": {
        "colab_type": "code",
        "id": "R8kPSsm-LJ6I",
        "outputId": "c8b04a76-b7c0-4fb1-8ac7-d40109553591",
        "colab": {
          "base_uri": "https://localhost:8080/",
          "height": 283
        }
      },
      "source": [
        "plt.imshow(X_train[0])"
      ],
      "execution_count": 5,
      "outputs": [
        {
          "output_type": "execute_result",
          "data": {
            "text/plain": [
              "<matplotlib.image.AxesImage at 0x7f3c18b98be0>"
            ]
          },
          "metadata": {
            "tags": []
          },
          "execution_count": 5
        },
        {
          "output_type": "display_data",
          "data": {
            "image/png": "[encoded data removed]",
            "text/plain": [
              "<Figure size 432x288 with 1 Axes>"
            ]
          },
          "metadata": {
            "tags": [],
            "needs_background": "light"
          }
        }
      ]
    },
    {
      "cell_type": "markdown",
      "metadata": {
        "id": "qviIZahhLHbR",
        "colab_type": "text"
      },
      "source": [
        "#### Function to resize the input image\n",
        "    - Intitial size : (32x32)\n",
        "    - Final size : (139x139)"
      ]
    },
    {
      "cell_type": "code",
      "metadata": {
        "colab_type": "code",
        "id": "meJ4aEkxLRH-",
        "colab": {}
      },
      "source": [
        "def resize_data(data):\n",
        "  data_upscaled = []\n",
        "  for i, img in enumerate(data):\n",
        "    large_img = cv2.resize(img, dsize=(139, 139))\n",
        "    data_upscaled.append(large_img)\n",
        "  return data_upscaled"
      ],
      "execution_count": 0,
      "outputs": []
    },
    {
      "cell_type": "code",
      "metadata": {
        "colab_type": "code",
        "id": "B1qxNjhnLThS",
        "colab": {
          "base_uri": "https://localhost:8080/",
          "height": 34
        },
        "outputId": "556c73d0-739c-4b78-d297-f195d143782a"
      },
      "source": [
        "X_train = np.array(resize_data(X_train))\n",
        "X_test = np.array(resize_data(X_test)) \n",
        "X_train = preprocess_input(X_train)\n",
        "X_test = preprocess_input(X_test)\n",
        "print( X_train.shape, y_train.shape,  X_test.shape, y_test.shape )"
      ],
      "execution_count": 7,
      "outputs": [
        {
          "output_type": "stream",
          "text": [
            "(50000, 139, 139, 3) (50000, 10) (10000, 139, 139, 3) (10000, 10)\n"
          ],
          "name": "stdout"
        }
      ]
    },
    {
      "cell_type": "code",
      "metadata": {
        "colab_type": "code",
        "id": "a-uSnlz3VFkj",
        "outputId": "e39a6d19-688e-40f6-d051-a230bd45b734",
        "colab": {
          "base_uri": "https://localhost:8080/",
          "height": 303
        }
      },
      "source": [
        "plt.imshow(X_train[0])"
      ],
      "execution_count": 8,
      "outputs": [
        {
          "output_type": "stream",
          "text": [
            "Clipping input data to the valid range for imshow with RGB data ([0..1] for floats or [0..255] for integers).\n"
          ],
          "name": "stderr"
        },
        {
          "output_type": "execute_result",
          "data": {
            "text/plain": [
              "<matplotlib.image.AxesImage at 0x7f3c186f91d0>"
            ]
          },
          "metadata": {
            "tags": []
          },
          "execution_count": 8
        },
        {
          "output_type": "display_data",
          "data": {
            "image/png": "[encoded data removed]",
            "text/plain": [
              "<Figure size 432x288 with 1 Axes>"
            ]
          },
          "metadata": {
            "tags": [],
            "needs_background": "light"
          }
        }
      ]
    },
    {
      "cell_type": "markdown",
      "metadata": {
        "id": "6FQEBzHRLHba",
        "colab_type": "text"
      },
      "source": [
        "#### Model Building"
      ]
    },
    {
      "cell_type": "code",
      "metadata": {
        "colab_type": "code",
        "id": "aanHmLwWLaY3",
        "outputId": "f47f1067-4d63-4cdd-885b-891c59807697",
        "colab": {
          "base_uri": "https://localhost:8080/",
          "height": 51
        }
      },
      "source": [
        "base = InceptionV3(include_top = False,weights='imagenet',input_shape = (139,139,3))\n",
        "model = models.Sequential()\n",
        "model.add(base)\n",
        "model.add(GlobalAveragePooling2D())\n",
        "model.add(Dense(4096, activation='relu', name='Dense_Intermediate'))\n",
        "model.add(Dropout(0.5, name='Dropout_Regularization'))\n",
        "model.add(Dense(10, activation='softmax', name='Output'))"
      ],
      "execution_count": 9,
      "outputs": [
        {
          "output_type": "stream",
          "text": [
            "Downloading data from https://github.com/fchollet/deep-learning-models/releases/download/v0.5/inception_v3_weights_tf_dim_ordering_tf_kernels_notop.h5\n",
            "87916544/87910968 [==============================] - 1s 0us/step\n"
          ],
          "name": "stdout"
        }
      ]
    },
    {
      "cell_type": "code",
      "metadata": {
        "colab_type": "code",
        "id": "lzYQ1Wb3Lyjo",
        "colab": {}
      },
      "source": [
        "for cnnlayer in model.layers[0].layers:\n",
        "    cnnlayer.trainable = False\n",
        "model.layers[0].trainable = False"
      ],
      "execution_count": 0,
      "outputs": []
    },
    {
      "cell_type": "code",
      "metadata": {
        "colab_type": "code",
        "id": "jGz7x_bYL-Lh",
        "colab": {}
      },
      "source": [
        "model.compile(\n",
        "    optimizer='rmsprop',\n",
        "    loss='categorical_crossentropy',\n",
        "    metrics=['accuracy']\n",
        ")"
      ],
      "execution_count": 0,
      "outputs": []
    },
    {
      "cell_type": "code",
      "metadata": {
        "colab_type": "code",
        "id": "TItbpUnsZb0L",
        "colab": {
          "base_uri": "https://localhost:8080/",
          "height": 323
        },
        "outputId": "f137596a-94d7-4f76-bbae-5247ae3cf638"
      },
      "source": [
        "model.summary()"
      ],
      "execution_count": 12,
      "outputs": [
        {
          "output_type": "stream",
          "text": [
            "Model: \"sequential_1\"\n",
            "_________________________________________________________________\n",
            "Layer (type)                 Output Shape              Param #   \n",
            "=================================================================\n",
            "inception_v3 (Model)         (None, 3, 3, 2048)        21802784  \n",
            "_________________________________________________________________\n",
            "global_average_pooling2d_1 ( (None, 2048)              0         \n",
            "_________________________________________________________________\n",
            "Dense_Intermediate (Dense)   (None, 4096)              8392704   \n",
            "_________________________________________________________________\n",
            "Dropout_Regularization (Drop (None, 4096)              0         \n",
            "_________________________________________________________________\n",
            "Output (Dense)               (None, 10)                40970     \n",
            "=================================================================\n",
            "Total params: 30,236,458\n",
            "Trainable params: 8,433,674\n",
            "Non-trainable params: 21,802,784\n",
            "_________________________________________________________________\n"
          ],
          "name": "stdout"
        }
      ]
    },
    {
      "cell_type": "code",
      "metadata": {
        "colab_type": "code",
        "id": "zejZSAUwMAc-",
        "outputId": "e7eb4ba5-22a4-46b6-c154-6784828b7a8f",
        "colab": {
          "base_uri": "https://localhost:8080/",
          "height": 391
        }
      },
      "source": [
        "model.fit(X_train,y_train,epochs=10,batch_size=500,validation_data=(X_test,y_test))"
      ],
      "execution_count": 13,
      "outputs": [
        {
          "output_type": "stream",
          "text": [
            "Train on 50000 samples, validate on 10000 samples\n",
            "Epoch 1/10\n",
            "50000/50000 [==============================] - 158s 3ms/step - loss: 2.4186 - accuracy: 0.4971 - val_loss: 1.0465 - val_accuracy: 0.7195\n",
            "Epoch 2/10\n",
            "50000/50000 [==============================] - 142s 3ms/step - loss: 1.0825 - accuracy: 0.6365 - val_loss: 1.8638 - val_accuracy: 0.6324\n",
            "Epoch 3/10\n",
            "50000/50000 [==============================] - 142s 3ms/step - loss: 0.9447 - accuracy: 0.6788 - val_loss: 1.4949 - val_accuracy: 0.6679\n",
            "Epoch 4/10\n",
            "50000/50000 [==============================] - 142s 3ms/step - loss: 0.8561 - accuracy: 0.7069 - val_loss: 1.4933 - val_accuracy: 0.6914\n",
            "Epoch 5/10\n",
            "50000/50000 [==============================] - 141s 3ms/step - loss: 0.7824 - accuracy: 0.7306 - val_loss: 1.9663 - val_accuracy: 0.6788\n",
            "Epoch 6/10\n",
            "50000/50000 [==============================] - 141s 3ms/step - loss: 0.7344 - accuracy: 0.7476 - val_loss: 1.3527 - val_accuracy: 0.7430\n",
            "Epoch 7/10\n",
            "50000/50000 [==============================] - 141s 3ms/step - loss: 0.6612 - accuracy: 0.7713 - val_loss: 1.7939 - val_accuracy: 0.6947\n",
            "Epoch 8/10\n",
            "50000/50000 [==============================] - 141s 3ms/step - loss: 0.5952 - accuracy: 0.7931 - val_loss: 1.9872 - val_accuracy: 0.6880\n",
            "Epoch 9/10\n",
            "50000/50000 [==============================] - 141s 3ms/step - loss: 0.5541 - accuracy: 0.8082 - val_loss: 2.0808 - val_accuracy: 0.6937\n",
            "Epoch 10/10\n",
            "50000/50000 [==============================] - 141s 3ms/step - loss: 0.4827 - accuracy: 0.8308 - val_loss: 1.3735 - val_accuracy: 0.7601\n"
          ],
          "name": "stdout"
        },
        {
          "output_type": "execute_result",
          "data": {
            "text/plain": [
              "<keras.callbacks.callbacks.History at 0x7f3bbc5deb70>"
            ]
          },
          "metadata": {
            "tags": []
          },
          "execution_count": 13
        }
      ]
    },
    {
      "cell_type": "markdown",
      "metadata": {
        "id": "UtiWGxg3LHbq",
        "colab_type": "text"
      },
      "source": [
        "#### Performance Evaluation"
      ]
    },
    {
      "cell_type": "code",
      "metadata": {
        "colab_type": "code",
        "id": "s42FqIW3MYPW",
        "outputId": "98500f95-77ec-46b6-b6a8-6481e62f16d3",
        "colab": {
          "base_uri": "https://localhost:8080/",
          "height": 136
        }
      },
      "source": [
        "y_pred = model.predict(X_test)\n",
        "y_pred = y_pred.round().astype(int)\n",
        "y_pred"
      ],
      "execution_count": 15,
      "outputs": [
        {
          "output_type": "execute_result",
          "data": {
            "text/plain": [
              "array([[0, 0, 0, ..., 0, 0, 0],\n",
              "       [0, 0, 0, ..., 0, 1, 0],\n",
              "       [0, 0, 0, ..., 0, 1, 0],\n",
              "       ...,\n",
              "       [0, 0, 0, ..., 0, 0, 0],\n",
              "       [0, 0, 0, ..., 1, 0, 0],\n",
              "       [0, 0, 0, ..., 1, 0, 0]])"
            ]
          },
          "metadata": {
            "tags": []
          },
          "execution_count": 15
        }
      ]
    },
    {
      "cell_type": "code",
      "metadata": {
        "colab_type": "code",
        "id": "2WGBPKhYYQul",
        "outputId": "63edd51f-43fc-46a5-c0f8-b4ab79d3ff78",
        "colab": {
          "base_uri": "https://localhost:8080/",
          "height": 204
        }
      },
      "source": [
        "classwise_precision = precision_score(y_test,y_pred, average=None)\n",
        "for i in range(len(classwise_precision)):\n",
        "  print(\"Precision for class {} = {}\".format(i,classwise_precision[i]))\n",
        "print(\"Mean Precision = \",classwise_precision.mean())"
      ],
      "execution_count": 16,
      "outputs": [
        {
          "output_type": "stream",
          "text": [
            "Precision for class 0 = 0.7765640516385303\n",
            "Precision for class 1 = 0.862475442043222\n",
            "Precision for class 2 = 0.9433962264150944\n",
            "Precision for class 3 = 0.7538677918424754\n",
            "Precision for class 4 = 0.7976878612716763\n",
            "Precision for class 5 = 0.7192342752962625\n",
            "Precision for class 6 = 0.8074596774193549\n",
            "Precision for class 7 = 0.640203932993445\n",
            "Precision for class 8 = 0.7753001715265866\n",
            "Precision for class 9 = 0.7981308411214953\n",
            "Mean Precision =  0.7874320271568143\n"
          ],
          "name": "stdout"
        }
      ]
    },
    {
      "cell_type": "code",
      "metadata": {
        "colab_type": "code",
        "id": "8KG8K8SDYSZa",
        "outputId": "37917e57-7d90-4e5b-8d94-a61c0eab1e15",
        "colab": {
          "base_uri": "https://localhost:8080/",
          "height": 204
        }
      },
      "source": [
        "classwise_recall = recall_score(y_test,y_pred, average=None)\n",
        "for i in range(len(classwise_recall)):\n",
        "  print(\"Recall for class {} = {}\".format(i,classwise_recall[i]))\n",
        "print(\"Mean Recall = \",classwise_recall.mean())"
      ],
      "execution_count": 17,
      "outputs": [
        {
          "output_type": "stream",
          "text": [
            "Recall for class 0 = 0.782\n",
            "Recall for class 1 = 0.878\n",
            "Recall for class 2 = 0.55\n",
            "Recall for class 3 = 0.536\n",
            "Recall for class 4 = 0.552\n",
            "Recall for class 5 = 0.789\n",
            "Recall for class 6 = 0.801\n",
            "Recall for class 7 = 0.879\n",
            "Recall for class 8 = 0.904\n",
            "Recall for class 9 = 0.854\n",
            "Mean Recall =  0.7525000000000002\n"
          ],
          "name": "stdout"
        }
      ]
    },
    {
      "cell_type": "code",
      "metadata": {
        "colab_type": "code",
        "id": "IgrOOBTJeZLr",
        "outputId": "da56768f-bca8-4a1b-a697-4fcd7e8c1968",
        "colab": {
          "base_uri": "https://localhost:8080/",
          "height": 34
        }
      },
      "source": [
        "print(\"Log Loss = \",log_loss(y_test,y_pred))"
      ],
      "execution_count": 18,
      "outputs": [
        {
          "output_type": "stream",
          "text": [
            "Log Loss =  7.61027399085463\n"
          ],
          "name": "stdout"
        }
      ]
    },
    {
      "cell_type": "code",
      "metadata": {
        "colab_type": "code",
        "id": "SaMV5Qgzecg_",
        "colab": {}
      },
      "source": [
        ""
      ],
      "execution_count": 0,
      "outputs": []
    }
  ]
}