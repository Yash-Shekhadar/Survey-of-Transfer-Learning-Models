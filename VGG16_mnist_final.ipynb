{
 "cells": [
  {
   "cell_type": "markdown",
   "metadata": {},
   "source": [
    "# VGG16 on Mnist Dataset"
   ]
  },
  {
   "cell_type": "markdown",
   "metadata": {},
   "source": [
    "#### Importing necessary libraries"
   ]
  },
  {
   "cell_type": "code",
   "execution_count": 1,
   "metadata": {
    "colab": {
     "base_uri": "https://localhost:8080/",
     "height": 34
    },
    "colab_type": "code",
    "id": "z-Z_YXthRsBQ",
    "outputId": "a439361b-6168-486b-c113-ba22aa7e39d2"
   },
   "outputs": [
    {
     "name": "stderr",
     "output_type": "stream",
     "text": [
      "Using TensorFlow backend.\n"
     ]
    }
   ],
   "source": [
    "import cv2\n",
    "import numpy as np\n",
    "from keras.layers import Convolution2D,MaxPooling2D,Dropout,Dense,Flatten, GlobalAveragePooling2D\n",
    "from keras import models,losses,optimizers\n",
    "from keras.preprocessing.image import ImageDataGenerator\n",
    "from keras.applications import VGG16\n",
    "from keras.applications.vgg16 import preprocess_input\n",
    "from keras.models import Model\n",
    "import matplotlib.pyplot as plt\n",
    "from keras.utils import to_categorical"
   ]
  },
  {
   "cell_type": "markdown",
   "metadata": {},
   "source": [
    "#### Loading the dataset"
   ]
  },
  {
   "cell_type": "code",
   "execution_count": 2,
   "metadata": {
    "colab": {
     "base_uri": "https://localhost:8080/",
     "height": 51
    },
    "colab_type": "code",
    "id": "Smq_-X9_R0Vt",
    "outputId": "1d14ed8d-2919-403f-e59e-e8d6f0a05b26"
   },
   "outputs": [
    {
     "name": "stdout",
     "output_type": "stream",
     "text": [
      "Downloading data from https://s3.amazonaws.com/img-datasets/mnist.npz\n",
      "11493376/11490434 [==============================] - 0s 0us/step\n"
     ]
    }
   ],
   "source": [
    "from keras.datasets import mnist\n",
    "(x_train, y_train), (x_test, y_test) = mnist.load_data()\n",
    "y_train = to_categorical(y_train)\n",
    "y_test = to_categorical(y_test)"
   ]
  },
  {
   "cell_type": "code",
   "execution_count": 3,
   "metadata": {
    "colab": {
     "base_uri": "https://localhost:8080/",
     "height": 282
    },
    "colab_type": "code",
    "id": "ybZ1ieAnR2bR",
    "outputId": "182e502f-2e81-43f6-c349-52d223034a9b"
   },
   "outputs": [
    {
     "data": {
      "text/plain": [
       "<matplotlib.image.AxesImage at 0x7f07543b7cc0>"
      ]
     },
     "execution_count": 3,
     "metadata": {
      "tags": []
     },
     "output_type": "execute_result"
    },
    {
     "data": {
      "image/png": "[encoded data removed]",
      "text/plain": [
       "<Figure size 432x288 with 1 Axes>"
      ]
     },
     "metadata": {
      "needs_background": "light",
      "tags": []
     },
     "output_type": "display_data"
    }
   ],
   "source": [
    "plt.imshow(x_train[0])"
   ]
  },
  {
   "cell_type": "markdown",
   "metadata": {},
   "source": [
    "#### Resizing and Preprocessing the images\n",
    "    - Initial size : (28x28)\n",
    "    - Final size : (139x139)"
   ]
  },
  {
   "cell_type": "code",
   "execution_count": 0,
   "metadata": {
    "colab": {},
    "colab_type": "code",
    "id": "DtQxr6buR_Fz"
   },
   "outputs": [],
   "source": [
    "def to_rgb(img):\n",
    "    img = cv2.resize(img, dim, interpolation = cv2.INTER_AREA) \n",
    "    img_rgb = np.asarray(np.dstack((img, img, img)), dtype=np.uint8)\n",
    "    return img_rgb"
   ]
  },
  {
   "cell_type": "code",
   "execution_count": 0,
   "metadata": {
    "colab": {},
    "colab_type": "code",
    "id": "C3ta_1GSSB0v"
   },
   "outputs": [],
   "source": [
    "rgb_list = []\n",
    "dim = (139, 139)\n",
    "for i in range(len(x_train)):\n",
    "    rgb = to_rgb(x_train[i])\n",
    "    rgb_list.append(rgb)\n",
    "    #print(rgb.shape) \n",
    "rgb_arr = np.stack([rgb_list],axis=4)\n",
    "X_train = np.squeeze(rgb_arr, axis=4)"
   ]
  },
  {
   "cell_type": "code",
   "execution_count": 0,
   "metadata": {
    "colab": {},
    "colab_type": "code",
    "id": "oY1_AIwKSEtJ"
   },
   "outputs": [],
   "source": [
    "rgb_list = []\n",
    "for i in range(len(x_test)):\n",
    "    rgb = to_rgb(x_test[i])\n",
    "    rgb_list.append(rgb)\n",
    "    #print(rgb.shape) \n",
    "rgb_arr = np.stack([rgb_list],axis=4)\n",
    "X_test = np.squeeze(rgb_arr, axis=4)"
   ]
  },
  {
   "cell_type": "code",
   "execution_count": 7,
   "metadata": {
    "colab": {
     "base_uri": "https://localhost:8080/",
     "height": 303
    },
    "colab_type": "code",
    "id": "eBUNWCiDSIaK",
    "outputId": "1eb578de-86e8-417a-c2c7-ae543cf78759"
   },
   "outputs": [
    {
     "name": "stderr",
     "output_type": "stream",
     "text": [
      "Clipping input data to the valid range for imshow with RGB data ([0..1] for floats or [0..255] for integers).\n"
     ]
    },
    {
     "data": {
      "text/plain": [
       "<matplotlib.image.AxesImage at 0x7f0753e277b8>"
      ]
     },
     "execution_count": 7,
     "metadata": {
      "tags": []
     },
     "output_type": "execute_result"
    },
    {
     "data": {
      "image/png": "[encoded data removed]",
      "text/plain": [
       "<Figure size 432x288 with 1 Axes>"
      ]
     },
     "metadata": {
      "needs_background": "light",
      "tags": []
     },
     "output_type": "display_data"
    }
   ],
   "source": [
    "X_train = preprocess_input(X_train)\n",
    "X_test = preprocess_input(X_test)\n",
    "plt.imshow(X_train[0])"
   ]
  },
  {
   "cell_type": "code",
   "execution_count": 8,
   "metadata": {
    "colab": {
     "base_uri": "https://localhost:8080/",
     "height": 34
    },
    "colab_type": "code",
    "id": "DLyvAcmqSMMZ",
    "outputId": "6981d1ca-38b6-4fb9-e69e-3c449b9873ce"
   },
   "outputs": [
    {
     "name": "stdout",
     "output_type": "stream",
     "text": [
      "(60000, 139, 139, 3) (10000, 139, 139, 3) (60000, 10) (10000, 10)\n"
     ]
    }
   ],
   "source": [
    "print(X_train.shape,X_test.shape,y_train.shape,y_test.shape)"
   ]
  },
  {
   "cell_type": "markdown",
   "metadata": {},
   "source": [
    "#### Model Buiding"
   ]
  },
  {
   "cell_type": "code",
   "execution_count": 9,
   "metadata": {
    "colab": {
     "base_uri": "https://localhost:8080/",
     "height": 51
    },
    "colab_type": "code",
    "id": "9ePdX1fdSq0X",
    "outputId": "29d0903a-cd83-4938-eda7-f6b128ff5d35"
   },
   "outputs": [
    {
     "name": "stdout",
     "output_type": "stream",
     "text": [
      "Downloading data from https://github.com/fchollet/deep-learning-models/releases/download/v0.1/vgg16_weights_tf_dim_ordering_tf_kernels_notop.h5\n",
      "58892288/58889256 [==============================] - 1s 0us/step\n"
     ]
    }
   ],
   "source": [
    "base = VGG16(include_top = False,weights='imagenet',input_shape = (139,139,3))\n",
    "model = models.Sequential()\n",
    "model.add(base)\n",
    "model.add(GlobalAveragePooling2D())\n",
    "model.add(Dense(4096, activation='relu', name='Dense_Intermediate'))\n",
    "model.add(Dropout(0.5, name='Dropout_Regularization'))\n",
    "model.add(Dense(10, activation='softmax', name='Output'))"
   ]
  },
  {
   "cell_type": "markdown",
   "metadata": {},
   "source": [
    "#### Freezing the base model layers"
   ]
  },
  {
   "cell_type": "code",
   "execution_count": 0,
   "metadata": {
    "colab": {},
    "colab_type": "code",
    "id": "RM_Tt4agStLB"
   },
   "outputs": [],
   "source": [
    "for cnnlayer in model.layers[0].layers:\n",
    "    cnnlayer.trainable = False\n",
    "model.layers[0].trainable = False"
   ]
  },
  {
   "cell_type": "code",
   "execution_count": 0,
   "metadata": {
    "colab": {},
    "colab_type": "code",
    "id": "6r7AlQSPSvm9"
   },
   "outputs": [],
   "source": [
    "model.compile(\n",
    "    optimizer='adam',\n",
    "    loss='categorical_crossentropy',\n",
    "    metrics=['accuracy']\n",
    ")"
   ]
  },
  {
   "cell_type": "code",
   "execution_count": 12,
   "metadata": {
    "colab": {
     "base_uri": "https://localhost:8080/",
     "height": 323
    },
    "colab_type": "code",
    "id": "2x0KyLN0z8Oy",
    "outputId": "f6d3b871-c32a-44ec-e792-b71fc39fa164"
   },
   "outputs": [
    {
     "name": "stdout",
     "output_type": "stream",
     "text": [
      "Model: \"sequential_1\"\n",
      "_________________________________________________________________\n",
      "Layer (type)                 Output Shape              Param #   \n",
      "=================================================================\n",
      "vgg16 (Model)                (None, 4, 4, 512)         14714688  \n",
      "_________________________________________________________________\n",
      "global_average_pooling2d_1 ( (None, 512)               0         \n",
      "_________________________________________________________________\n",
      "Dense_Intermediate (Dense)   (None, 4096)              2101248   \n",
      "_________________________________________________________________\n",
      "Dropout_Regularization (Drop (None, 4096)              0         \n",
      "_________________________________________________________________\n",
      "Output (Dense)               (None, 10)                40970     \n",
      "=================================================================\n",
      "Total params: 16,856,906\n",
      "Trainable params: 2,142,218\n",
      "Non-trainable params: 14,714,688\n",
      "_________________________________________________________________\n"
     ]
    }
   ],
   "source": [
    "model.summary()"
   ]
  },
  {
   "cell_type": "code",
   "execution_count": 13,
   "metadata": {
    "colab": {
     "base_uri": "https://localhost:8080/",
     "height": 391
    },
    "colab_type": "code",
    "id": "qb0w3Lk_SxU6",
    "outputId": "f00932b6-ecfc-4efc-8d9d-3a1165e46fef"
   },
   "outputs": [
    {
     "name": "stdout",
     "output_type": "stream",
     "text": [
      "Train on 60000 samples, validate on 10000 samples\n",
      "Epoch 1/10\n",
      "60000/60000 [==============================] - 92s 2ms/step - loss: 0.5014 - accuracy: 0.8793 - val_loss: 0.1283 - val_accuracy: 0.9599\n",
      "Epoch 2/10\n",
      "60000/60000 [==============================] - 83s 1ms/step - loss: 0.1342 - accuracy: 0.9567 - val_loss: 0.1084 - val_accuracy: 0.9662\n",
      "Epoch 3/10\n",
      "60000/60000 [==============================] - 82s 1ms/step - loss: 0.1038 - accuracy: 0.9659 - val_loss: 0.0917 - val_accuracy: 0.9715\n",
      "Epoch 4/10\n",
      "60000/60000 [==============================] - 82s 1ms/step - loss: 0.0878 - accuracy: 0.9718 - val_loss: 0.0903 - val_accuracy: 0.9706\n",
      "Epoch 5/10\n",
      "60000/60000 [==============================] - 82s 1ms/step - loss: 0.0775 - accuracy: 0.9745 - val_loss: 0.0896 - val_accuracy: 0.9719\n",
      "Epoch 6/10\n",
      "60000/60000 [==============================] - 81s 1ms/step - loss: 0.0688 - accuracy: 0.9772 - val_loss: 0.0847 - val_accuracy: 0.9719\n",
      "Epoch 7/10\n",
      "60000/60000 [==============================] - 81s 1ms/step - loss: 0.0614 - accuracy: 0.9792 - val_loss: 0.0836 - val_accuracy: 0.9739\n",
      "Epoch 8/10\n",
      "60000/60000 [==============================] - 81s 1ms/step - loss: 0.0571 - accuracy: 0.9810 - val_loss: 0.0902 - val_accuracy: 0.9721\n",
      "Epoch 9/10\n",
      "60000/60000 [==============================] - 81s 1ms/step - loss: 0.0504 - accuracy: 0.9828 - val_loss: 0.0893 - val_accuracy: 0.9720\n",
      "Epoch 10/10\n",
      "60000/60000 [==============================] - 81s 1ms/step - loss: 0.0459 - accuracy: 0.9848 - val_loss: 0.0835 - val_accuracy: 0.9737\n"
     ]
    },
    {
     "data": {
      "text/plain": [
       "<keras.callbacks.callbacks.History at 0x7f0740127f28>"
      ]
     },
     "execution_count": 13,
     "metadata": {
      "tags": []
     },
     "output_type": "execute_result"
    }
   ],
   "source": [
    "model.fit(X_train,y_train,epochs=10,batch_size=500,validation_data=(X_test,y_test))"
   ]
  },
  {
   "cell_type": "markdown",
   "metadata": {},
   "source": [
    "#### Model Performance Evaluation"
   ]
  },
  {
   "cell_type": "code",
   "execution_count": 0,
   "metadata": {
    "colab": {},
    "colab_type": "code",
    "id": "JoOAFk5NYzUf"
   },
   "outputs": [],
   "source": [
    "from sklearn.metrics import precision_score,recall_score,log_loss"
   ]
  },
  {
   "cell_type": "code",
   "execution_count": 15,
   "metadata": {
    "colab": {
     "base_uri": "https://localhost:8080/",
     "height": 136
    },
    "colab_type": "code",
    "id": "OjE7ARzCz7LT",
    "outputId": "806bbb17-0788-4cbc-a2a8-a7385d7a2810"
   },
   "outputs": [
    {
     "data": {
      "text/plain": [
       "array([[0, 0, 0, ..., 1, 0, 0],\n",
       "       [0, 0, 1, ..., 0, 0, 0],\n",
       "       [0, 1, 0, ..., 0, 0, 0],\n",
       "       ...,\n",
       "       [0, 0, 0, ..., 0, 0, 0],\n",
       "       [0, 0, 0, ..., 0, 0, 0],\n",
       "       [0, 0, 0, ..., 0, 0, 0]])"
      ]
     },
     "execution_count": 15,
     "metadata": {
      "tags": []
     },
     "output_type": "execute_result"
    }
   ],
   "source": [
    "y_pred = model.predict(X_test)\n",
    "y_pred = y_pred.round().astype(int)\n",
    "y_pred"
   ]
  },
  {
   "cell_type": "code",
   "execution_count": 16,
   "metadata": {
    "colab": {
     "base_uri": "https://localhost:8080/",
     "height": 204
    },
    "colab_type": "code",
    "id": "w4tHsftQ0Bmm",
    "outputId": "4ea19dd2-3f25-46f9-a449-060a1ecb6586"
   },
   "outputs": [
    {
     "name": "stdout",
     "output_type": "stream",
     "text": [
      "Precision for class 0 = 0.9897119341563786\n",
      "Precision for class 1 = 0.9868766404199475\n",
      "Precision for class 2 = 0.9821428571428571\n",
      "Precision for class 3 = 0.9644619940769991\n",
      "Precision for class 4 = 0.9915966386554622\n",
      "Precision for class 5 = 0.9474835886214442\n",
      "Precision for class 6 = 0.9852786540483701\n",
      "Precision for class 7 = 0.9720347155255545\n",
      "Precision for class 8 = 0.9723360655737705\n",
      "Precision for class 9 = 0.9795291709314228\n",
      "Mean Precision =  0.9771452259152207\n"
     ]
    }
   ],
   "source": [
    "classwise_precision = precision_score(y_test,y_pred, average=None)\n",
    "for i in range(len(classwise_precision)):\n",
    "  print(\"Precision for class {} = {}\".format(i,classwise_precision[i]))\n",
    "print(\"Mean Precision = \",classwise_precision.mean())"
   ]
  },
  {
   "cell_type": "code",
   "execution_count": 17,
   "metadata": {
    "colab": {
     "base_uri": "https://localhost:8080/",
     "height": 204
    },
    "colab_type": "code",
    "id": "olCll2Cq0ESO",
    "outputId": "35d1de81-1308-4113-a40d-d37cf328264a"
   },
   "outputs": [
    {
     "name": "stdout",
     "output_type": "stream",
     "text": [
      "Recall for class 0 = 0.9816326530612245\n",
      "Recall for class 1 = 0.9938325991189427\n",
      "Recall for class 2 = 0.9593023255813954\n",
      "Recall for class 3 = 0.9673267326732673\n",
      "Recall for class 4 = 0.9613034623217923\n",
      "Recall for class 5 = 0.9708520179372198\n",
      "Recall for class 6 = 0.9780793319415448\n",
      "Recall for class 7 = 0.980544747081712\n",
      "Recall for class 8 = 0.9743326488706365\n",
      "Recall for class 9 = 0.9484638255698712\n",
      "Mean Recall =  0.9715670344157605\n"
     ]
    }
   ],
   "source": [
    "classwise_recall = recall_score(y_test,y_pred, average=None)\n",
    "for i in range(len(classwise_recall)):\n",
    "  print(\"Recall for class {} = {}\".format(i,classwise_recall[i]))\n",
    "print(\"Mean Recall = \",classwise_recall.mean())"
   ]
  },
  {
   "cell_type": "code",
   "execution_count": 18,
   "metadata": {
    "colab": {
     "base_uri": "https://localhost:8080/",
     "height": 34
    },
    "colab_type": "code",
    "id": "YC9q9g7O0IOZ",
    "outputId": "f083805c-4164-4c0f-dc63-72e1a40c47b3"
   },
   "outputs": [
    {
     "name": "stdout",
     "output_type": "stream",
     "text": [
      "Log Loss =  0.7902472039155654\n"
     ]
    }
   ],
   "source": [
    "print(\"Log Loss = \",log_loss(y_test,y_pred))"
   ]
  },
  {
   "cell_type": "code",
   "execution_count": 0,
   "metadata": {
    "colab": {},
    "colab_type": "code",
    "id": "mx9UA-Lz0po9"
   },
   "outputs": [],
   "source": []
  }
 ],
 "metadata": {
  "accelerator": "GPU",
  "colab": {
   "collapsed_sections": [],
   "machine_shape": "hm",
   "name": "VGG16_mnist_final.ipynb",
   "provenance": []
  },
  "kernelspec": {
   "display_name": "Python 3",
   "language": "python",
   "name": "python3"
  },
  "language_info": {
   "codemirror_mode": {
    "name": "ipython",
    "version": 3
   },
   "file_extension": ".py",
   "mimetype": "text/x-python",
   "name": "python",
   "nbconvert_exporter": "python",
   "pygments_lexer": "ipython3",
   "version": "3.7.6"
  }
 },
 "nbformat": 4,
 "nbformat_minor": 1
}
