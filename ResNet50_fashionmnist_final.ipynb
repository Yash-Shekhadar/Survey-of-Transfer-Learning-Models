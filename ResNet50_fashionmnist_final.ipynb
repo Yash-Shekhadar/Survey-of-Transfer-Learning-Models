{
  "nbformat": 4,
  "nbformat_minor": 0,
  "metadata": {
    "colab": {
      "name": "ResNet50_fashionmnist_final.ipynb",
      "provenance": [],
      "collapsed_sections": [],
      "machine_shape": "hm"
    },
    "kernelspec": {
      "name": "python3",
      "display_name": "Python 3"
    },
    "accelerator": "GPU"
  },
  "cells": [
    {
      "cell_type": "code",
      "metadata": {
        "id": "n16Tw0IdlSg8",
        "colab_type": "code",
        "colab": {
          "base_uri": "https://localhost:8080/",
          "height": 34
        },
        "outputId": "3ab1ab0a-b5e7-4d87-916c-547f63268280"
      },
      "source": [
        "import cv2\n",
        "import numpy as np\n",
        "from sklearn.preprocessing import OneHotEncoder\n",
        "from keras.layers import Convolution2D,MaxPooling2D,Dropout,Dense,Flatten, GlobalAveragePooling2D\n",
        "from keras import models,losses,optimizers\n",
        "from keras.preprocessing.image import ImageDataGenerator\n",
        "from keras.applications import InceptionV3,VGG16,ResNet50\n",
        "from keras.applications.resnet50 import preprocess_input\n",
        "from keras.models import Model\n",
        "from keras.layers import Dense, Dropout, Conv2D, GlobalAveragePooling2D\n",
        "import matplotlib.pyplot as plt\n",
        "from keras.utils import to_categorical"
      ],
      "execution_count": 1,
      "outputs": [
        {
          "output_type": "stream",
          "text": [
            "Using TensorFlow backend.\n"
          ],
          "name": "stderr"
        }
      ]
    },
    {
      "cell_type": "code",
      "metadata": {
        "id": "EY8vau_HlZ69",
        "colab_type": "code",
        "colab": {
          "base_uri": "https://localhost:8080/",
          "height": 153
        },
        "outputId": "78bab602-e742-424f-9789-b1882bc2e184"
      },
      "source": [
        "from keras.datasets import fashion_mnist\n",
        "(x_train, y_train), (x_test, y_test) = fashion_mnist.load_data()\n",
        "y_train = to_categorical(y_train)\n",
        "y_test = to_categorical(y_test)"
      ],
      "execution_count": 2,
      "outputs": [
        {
          "output_type": "stream",
          "text": [
            "Downloading data from http://fashion-mnist.s3-website.eu-central-1.amazonaws.com/train-labels-idx1-ubyte.gz\n",
            "32768/29515 [=================================] - 0s 0us/step\n",
            "Downloading data from http://fashion-mnist.s3-website.eu-central-1.amazonaws.com/train-images-idx3-ubyte.gz\n",
            "26427392/26421880 [==============================] - 0s 0us/step\n",
            "Downloading data from http://fashion-mnist.s3-website.eu-central-1.amazonaws.com/t10k-labels-idx1-ubyte.gz\n",
            "8192/5148 [===============================================] - 0s 0us/step\n",
            "Downloading data from http://fashion-mnist.s3-website.eu-central-1.amazonaws.com/t10k-images-idx3-ubyte.gz\n",
            "4423680/4422102 [==============================] - 0s 0us/step\n"
          ],
          "name": "stdout"
        }
      ]
    },
    {
      "cell_type": "code",
      "metadata": {
        "id": "geVwqkRklimG",
        "colab_type": "code",
        "colab": {
          "base_uri": "https://localhost:8080/",
          "height": 282
        },
        "outputId": "7ae1f594-e06d-4e47-bf79-1871786b5970"
      },
      "source": [
        "plt.imshow(x_train[0])"
      ],
      "execution_count": 3,
      "outputs": [
        {
          "output_type": "execute_result",
          "data": {
            "text/plain": [
              "<matplotlib.image.AxesImage at 0x7f3f293406d8>"
            ]
          },
          "metadata": {
            "tags": []
          },
          "execution_count": 3
        },
        {
          "output_type": "display_data",
          "data": {
            "image/png": "[encoded data removed]",
            "text/plain": [
              "<Figure size 432x288 with 1 Axes>"
            ]
          },
          "metadata": {
            "tags": [],
            "needs_background": "light"
          }
        }
      ]
    },
    {
      "cell_type": "code",
      "metadata": {
        "id": "bgQzj5kglmAT",
        "colab_type": "code",
        "colab": {}
      },
      "source": [
        "def to_rgb(img):\n",
        "    img = cv2.resize(img, dim, interpolation = cv2.INTER_AREA) \n",
        "    img_rgb = np.asarray(np.dstack((img, img, img)), dtype=np.uint8)\n",
        "    return img_rgb"
      ],
      "execution_count": 0,
      "outputs": []
    },
    {
      "cell_type": "code",
      "metadata": {
        "id": "0LhaI_qFloRl",
        "colab_type": "code",
        "colab": {}
      },
      "source": [
        "rgb_list = []\n",
        "dim = (139, 139)\n",
        "for i in range(len(x_train)):\n",
        "    rgb = to_rgb(x_train[i])\n",
        "    rgb_list.append(rgb)\n",
        "    #print(rgb.shape) \n",
        "rgb_arr = np.stack([rgb_list],axis=4)\n",
        "X_train = np.squeeze(rgb_arr, axis=4)"
      ],
      "execution_count": 0,
      "outputs": []
    },
    {
      "cell_type": "code",
      "metadata": {
        "id": "GA1pq67Slqsf",
        "colab_type": "code",
        "colab": {}
      },
      "source": [
        "rgb_list = []\n",
        "for i in range(len(x_test)):\n",
        "    rgb = to_rgb(x_test[i])\n",
        "    rgb_list.append(rgb)\n",
        "    #print(rgb.shape) \n",
        "rgb_arr = np.stack([rgb_list],axis=4)\n",
        "X_test = np.squeeze(rgb_arr, axis=4)"
      ],
      "execution_count": 0,
      "outputs": []
    },
    {
      "cell_type": "code",
      "metadata": {
        "id": "K1lh-0Y8lyTU",
        "colab_type": "code",
        "colab": {}
      },
      "source": [
        "X_train = preprocess_input(X_train)\n",
        "X_test = preprocess_input(X_test)"
      ],
      "execution_count": 0,
      "outputs": []
    },
    {
      "cell_type": "code",
      "metadata": {
        "id": "a0ohOu3xl1vK",
        "colab_type": "code",
        "colab": {
          "base_uri": "https://localhost:8080/",
          "height": 303
        },
        "outputId": "b2fffee5-31ca-4f2a-a904-e5530e44007d"
      },
      "source": [
        "plt.imshow(X_train[0])"
      ],
      "execution_count": 9,
      "outputs": [
        {
          "output_type": "stream",
          "text": [
            "Clipping input data to the valid range for imshow with RGB data ([0..1] for floats or [0..255] for integers).\n"
          ],
          "name": "stderr"
        },
        {
          "output_type": "execute_result",
          "data": {
            "text/plain": [
              "<matplotlib.image.AxesImage at 0x7f3f28dc1048>"
            ]
          },
          "metadata": {
            "tags": []
          },
          "execution_count": 9
        },
        {
          "output_type": "display_data",
          "data": {
            "image/png": "[encoded data removed]",
            "text/plain": [
              "<Figure size 432x288 with 1 Axes>"
            ]
          },
          "metadata": {
            "tags": [],
            "needs_background": "light"
          }
        }
      ]
    },
    {
      "cell_type": "code",
      "metadata": {
        "id": "lnYpDJQmmJLM",
        "colab_type": "code",
        "colab": {
          "base_uri": "https://localhost:8080/",
          "height": 34
        },
        "outputId": "4003fa56-226f-453e-fe12-94946088bf93"
      },
      "source": [
        "print(X_train.shape,X_test.shape,y_train.shape,y_test.shape)"
      ],
      "execution_count": 10,
      "outputs": [
        {
          "output_type": "stream",
          "text": [
            "(60000, 139, 139, 3) (10000, 139, 139, 3) (60000, 10) (10000, 10)\n"
          ],
          "name": "stdout"
        }
      ]
    },
    {
      "cell_type": "code",
      "metadata": {
        "id": "nMFOSDEwmMvJ",
        "colab_type": "code",
        "colab": {
          "base_uri": "https://localhost:8080/",
          "height": 105
        },
        "outputId": "6222407e-0b84-4486-cea0-ad5db2d9f032"
      },
      "source": [
        "base = ResNet50(include_top = False,weights='imagenet',input_shape = (139,139,3))\n",
        "model = models.Sequential()\n",
        "model.add(base)\n",
        "model.add(GlobalAveragePooling2D())\n",
        "model.add(Dense(4096, activation='relu', name='Dense_Intermediate'))\n",
        "model.add(Dropout(0.5, name='Dropout_Regularization'))\n",
        "model.add(Dense(10, activation='softmax', name='Output'))"
      ],
      "execution_count": 11,
      "outputs": [
        {
          "output_type": "stream",
          "text": [
            "/usr/local/lib/python3.6/dist-packages/keras_applications/resnet50.py:265: UserWarning: The output shape of `ResNet50(include_top=False)` has been changed since Keras 2.2.0.\n",
            "  warnings.warn('The output shape of `ResNet50(include_top=False)` '\n"
          ],
          "name": "stderr"
        },
        {
          "output_type": "stream",
          "text": [
            "Downloading data from https://github.com/fchollet/deep-learning-models/releases/download/v0.2/resnet50_weights_tf_dim_ordering_tf_kernels_notop.h5\n",
            "94658560/94653016 [==============================] - 3s 0us/step\n"
          ],
          "name": "stdout"
        }
      ]
    },
    {
      "cell_type": "code",
      "metadata": {
        "id": "Xi4A4Vb9mRUA",
        "colab_type": "code",
        "colab": {}
      },
      "source": [
        "for cnnlayer in model.layers[0].layers:\n",
        "    cnnlayer.trainable = False\n",
        "model.layers[0].trainable = False"
      ],
      "execution_count": 0,
      "outputs": []
    },
    {
      "cell_type": "code",
      "metadata": {
        "id": "9GQ2Y8fcmZ02",
        "colab_type": "code",
        "colab": {}
      },
      "source": [
        "model.compile(\n",
        "    optimizer='rmsprop',\n",
        "    loss='categorical_crossentropy',\n",
        "    metrics=['accuracy']\n",
        ")"
      ],
      "execution_count": 0,
      "outputs": []
    },
    {
      "cell_type": "code",
      "metadata": {
        "id": "29l3xHedmcsA",
        "colab_type": "code",
        "colab": {
          "base_uri": "https://localhost:8080/",
          "height": 323
        },
        "outputId": "226cc2fd-825a-4deb-bb62-b1b29422a77f"
      },
      "source": [
        "model.summary()"
      ],
      "execution_count": 14,
      "outputs": [
        {
          "output_type": "stream",
          "text": [
            "Model: \"sequential_1\"\n",
            "_________________________________________________________________\n",
            "Layer (type)                 Output Shape              Param #   \n",
            "=================================================================\n",
            "resnet50 (Model)             (None, 5, 5, 2048)        23587712  \n",
            "_________________________________________________________________\n",
            "global_average_pooling2d_1 ( (None, 2048)              0         \n",
            "_________________________________________________________________\n",
            "Dense_Intermediate (Dense)   (None, 4096)              8392704   \n",
            "_________________________________________________________________\n",
            "Dropout_Regularization (Drop (None, 4096)              0         \n",
            "_________________________________________________________________\n",
            "Output (Dense)               (None, 10)                40970     \n",
            "=================================================================\n",
            "Total params: 32,021,386\n",
            "Trainable params: 8,433,674\n",
            "Non-trainable params: 23,587,712\n",
            "_________________________________________________________________\n"
          ],
          "name": "stdout"
        }
      ]
    },
    {
      "cell_type": "code",
      "metadata": {
        "id": "K-b0oRxlmewQ",
        "colab_type": "code",
        "colab": {
          "base_uri": "https://localhost:8080/",
          "height": 391
        },
        "outputId": "0384408e-616e-458d-dae7-c537ff074fdc"
      },
      "source": [
        "model.fit(X_train,y_train,epochs=10,batch_size=500,validation_data=(X_test,y_test))"
      ],
      "execution_count": 15,
      "outputs": [
        {
          "output_type": "stream",
          "text": [
            "Train on 60000 samples, validate on 10000 samples\n",
            "Epoch 1/10\n",
            "60000/60000 [==============================] - 294s 5ms/step - loss: 1.0909 - accuracy: 0.7396 - val_loss: 1.4515 - val_accuracy: 0.5558\n",
            "Epoch 2/10\n",
            "60000/60000 [==============================] - 282s 5ms/step - loss: 0.4670 - accuracy: 0.8331 - val_loss: 1.4010 - val_accuracy: 0.6004\n",
            "Epoch 3/10\n",
            "60000/60000 [==============================] - 282s 5ms/step - loss: 0.3846 - accuracy: 0.8614 - val_loss: 1.9642 - val_accuracy: 0.4959\n",
            "Epoch 4/10\n",
            "60000/60000 [==============================] - 282s 5ms/step - loss: 0.3393 - accuracy: 0.8778 - val_loss: 1.8971 - val_accuracy: 0.5004\n",
            "Epoch 5/10\n",
            "60000/60000 [==============================] - 282s 5ms/step - loss: 0.3084 - accuracy: 0.8887 - val_loss: 1.7545 - val_accuracy: 0.5540\n",
            "Epoch 6/10\n",
            "60000/60000 [==============================] - 282s 5ms/step - loss: 0.2762 - accuracy: 0.9004 - val_loss: 1.9548 - val_accuracy: 0.5347\n",
            "Epoch 7/10\n",
            "60000/60000 [==============================] - 282s 5ms/step - loss: 0.2496 - accuracy: 0.9096 - val_loss: 2.6452 - val_accuracy: 0.4804\n",
            "Epoch 8/10\n",
            "60000/60000 [==============================] - 282s 5ms/step - loss: 0.2310 - accuracy: 0.9169 - val_loss: 2.7987 - val_accuracy: 0.4540\n",
            "Epoch 9/10\n",
            "60000/60000 [==============================] - 282s 5ms/step - loss: 0.2111 - accuracy: 0.9239 - val_loss: 2.0656 - val_accuracy: 0.5409\n",
            "Epoch 10/10\n",
            "60000/60000 [==============================] - 282s 5ms/step - loss: 0.1960 - accuracy: 0.9299 - val_loss: 2.8563 - val_accuracy: 0.5062\n"
          ],
          "name": "stdout"
        },
        {
          "output_type": "execute_result",
          "data": {
            "text/plain": [
              "<keras.callbacks.callbacks.History at 0x7f3ecd90ba90>"
            ]
          },
          "metadata": {
            "tags": []
          },
          "execution_count": 15
        }
      ]
    },
    {
      "cell_type": "code",
      "metadata": {
        "id": "Mbo5uLX9mmvc",
        "colab_type": "code",
        "colab": {}
      },
      "source": [
        "from sklearn.metrics import precision_score,recall_score,log_loss"
      ],
      "execution_count": 0,
      "outputs": []
    },
    {
      "cell_type": "code",
      "metadata": {
        "id": "GCXwOm6Ty3re",
        "colab_type": "code",
        "colab": {
          "base_uri": "https://localhost:8080/",
          "height": 136
        },
        "outputId": "670fcde7-0065-4b86-cec3-9bddaa02754a"
      },
      "source": [
        "y_pred = model.predict(X_test)\n",
        "y_pred = y_pred.round().astype(int)\n",
        "y_pred"
      ],
      "execution_count": 17,
      "outputs": [
        {
          "output_type": "execute_result",
          "data": {
            "text/plain": [
              "array([[0, 0, 0, ..., 0, 0, 1],\n",
              "       [1, 0, 0, ..., 0, 0, 0],\n",
              "       [0, 1, 0, ..., 0, 0, 0],\n",
              "       ...,\n",
              "       [0, 0, 0, ..., 0, 1, 0],\n",
              "       [0, 1, 0, ..., 0, 0, 0],\n",
              "       [0, 0, 0, ..., 0, 0, 0]])"
            ]
          },
          "metadata": {
            "tags": []
          },
          "execution_count": 17
        }
      ]
    },
    {
      "cell_type": "code",
      "metadata": {
        "id": "Jya-8TbPy5fi",
        "colab_type": "code",
        "colab": {
          "base_uri": "https://localhost:8080/",
          "height": 204
        },
        "outputId": "6604194e-ab92-41ed-8fb1-89018e5d9918"
      },
      "source": [
        "classwise_precision = precision_score(y_test,y_pred, average=None)\n",
        "for i in range(len(classwise_precision)):\n",
        "  print(\"Precision for class {} = {}\".format(i,classwise_precision[i]))\n",
        "print(\"Mean Precision = \",classwise_precision.mean())"
      ],
      "execution_count": 18,
      "outputs": [
        {
          "output_type": "stream",
          "text": [
            "Precision for class 0 = 0.4381443298969072\n",
            "Precision for class 1 = 0.9388560157790927\n",
            "Precision for class 2 = 0.8898305084745762\n",
            "Precision for class 3 = 0.48845108695652173\n",
            "Precision for class 4 = 0.32268970698722765\n",
            "Precision for class 5 = 0.9289340101522843\n",
            "Precision for class 6 = 0.30097087378640774\n",
            "Precision for class 7 = 1.0\n",
            "Precision for class 8 = 0.8238255033557047\n",
            "Precision for class 9 = 0.8848920863309353\n",
            "Mean Precision =  0.7016594121719658\n"
          ],
          "name": "stdout"
        }
      ]
    },
    {
      "cell_type": "code",
      "metadata": {
        "id": "3NJrH9EZy7j3",
        "colab_type": "code",
        "colab": {
          "base_uri": "https://localhost:8080/",
          "height": 204
        },
        "outputId": "00618f27-4f5b-42e0-dcc2-1d07d6ab4a8f"
      },
      "source": [
        "classwise_recall = recall_score(y_test,y_pred, average=None)\n",
        "for i in range(len(classwise_recall)):\n",
        "  print(\"Recall for class {} = {}\".format(i,classwise_recall[i]))\n",
        "print(\"Mean Recall = \",classwise_recall.mean())"
      ],
      "execution_count": 19,
      "outputs": [
        {
          "output_type": "stream",
          "text": [
            "Recall for class 0 = 0.765\n",
            "Recall for class 1 = 0.952\n",
            "Recall for class 2 = 0.315\n",
            "Recall for class 3 = 0.719\n",
            "Recall for class 4 = 0.859\n",
            "Recall for class 5 = 0.183\n",
            "Recall for class 6 = 0.155\n",
            "Recall for class 7 = 0.001\n",
            "Recall for class 8 = 0.491\n",
            "Recall for class 9 = 0.492\n",
            "Mean Recall =  0.4932\n"
          ],
          "name": "stdout"
        }
      ]
    },
    {
      "cell_type": "code",
      "metadata": {
        "id": "40PuY_7cy9ce",
        "colab_type": "code",
        "colab": {
          "base_uri": "https://localhost:8080/",
          "height": 34
        },
        "outputId": "16b77b57-e165-4264-bc6c-5791f8a6f7b3"
      },
      "source": [
        "print(\"Log Loss = \",log_loss(y_test,y_pred))"
      ],
      "execution_count": 20,
      "outputs": [
        {
          "output_type": "stream",
          "text": [
            "Log Loss =  14.644901708460733\n"
          ],
          "name": "stdout"
        }
      ]
    },
    {
      "cell_type": "code",
      "metadata": {
        "id": "0Cfu74v1y_YQ",
        "colab_type": "code",
        "colab": {}
      },
      "source": [
        ""
      ],
      "execution_count": 0,
      "outputs": []
    }
  ]
}