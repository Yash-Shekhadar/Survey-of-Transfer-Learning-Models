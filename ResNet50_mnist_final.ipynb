{
  "nbformat": 4,
  "nbformat_minor": 0,
  "metadata": {
    "colab": {
      "name": "ResNet50_mnist_final.ipynb",
      "provenance": [],
      "collapsed_sections": [],
      "machine_shape": "hm"
    },
    "kernelspec": {
      "name": "python3",
      "display_name": "Python 3"
    },
    "accelerator": "GPU"
  },
  "cells": [
    {
      "cell_type": "code",
      "metadata": {
        "id": "Pj9EaAVC6h1a",
        "colab_type": "code",
        "outputId": "e528378e-531a-4707-c927-b09d242f5198",
        "colab": {
          "base_uri": "https://localhost:8080/",
          "height": 34
        }
      },
      "source": [
        "import cv2\n",
        "import numpy as np\n",
        "from keras.layers import Convolution2D,MaxPooling2D,Dropout,Dense,Flatten, GlobalAveragePooling2D\n",
        "from keras import models,losses,optimizers\n",
        "from keras.preprocessing.image import ImageDataGenerator\n",
        "from keras.applications import ResNet50\n",
        "from keras.applications.resnet50 import preprocess_input\n",
        "from keras.models import Model\n",
        "import matplotlib.pyplot as plt\n",
        "from keras.utils import to_categorical"
      ],
      "execution_count": 1,
      "outputs": [
        {
          "output_type": "stream",
          "text": [
            "Using TensorFlow backend.\n"
          ],
          "name": "stderr"
        }
      ]
    },
    {
      "cell_type": "code",
      "metadata": {
        "id": "UrizKBSi6vVe",
        "colab_type": "code",
        "colab": {
          "base_uri": "https://localhost:8080/",
          "height": 51
        },
        "outputId": "069c59f3-c50c-4bd5-efd2-2ebc0e87b173"
      },
      "source": [
        "from keras.datasets import mnist\n",
        "(x_train, y_train), (x_test, y_test) = mnist.load_data()\n",
        "y_train = to_categorical(y_train)\n",
        "y_test = to_categorical(y_test)"
      ],
      "execution_count": 2,
      "outputs": [
        {
          "output_type": "stream",
          "text": [
            "Downloading data from https://s3.amazonaws.com/img-datasets/mnist.npz\n",
            "11493376/11490434 [==============================] - 0s 0us/step\n"
          ],
          "name": "stdout"
        }
      ]
    },
    {
      "cell_type": "code",
      "metadata": {
        "id": "H2nIesX17BHN",
        "colab_type": "code",
        "outputId": "3eb0b2d1-366d-4411-9ebb-2f1d11536820",
        "colab": {
          "base_uri": "https://localhost:8080/",
          "height": 282
        }
      },
      "source": [
        "plt.imshow(x_train[0])"
      ],
      "execution_count": 3,
      "outputs": [
        {
          "output_type": "execute_result",
          "data": {
            "text/plain": [
              "<matplotlib.image.AxesImage at 0x7f4204043cc0>"
            ]
          },
          "metadata": {
            "tags": []
          },
          "execution_count": 3
        },
        {
          "output_type": "display_data",
          "data": {
            "image/png": "[encoded data removed]",
            "text/plain": [
              "<Figure size 432x288 with 1 Axes>"
            ]
          },
          "metadata": {
            "tags": [],
            "needs_background": "light"
          }
        }
      ]
    },
    {
      "cell_type": "code",
      "metadata": {
        "id": "k0AdRUA67EqR",
        "colab_type": "code",
        "colab": {}
      },
      "source": [
        "def to_rgb(img):\n",
        "    img = cv2.resize(img, dim, interpolation = cv2.INTER_AREA) \n",
        "    img_rgb = np.asarray(np.dstack((img, img, img)), dtype=np.uint8)\n",
        "    return img_rgb"
      ],
      "execution_count": 0,
      "outputs": []
    },
    {
      "cell_type": "code",
      "metadata": {
        "id": "DHXtgt-E7Kqf",
        "colab_type": "code",
        "colab": {}
      },
      "source": [
        "rgb_list = []\n",
        "dim = (139, 139)\n",
        "for i in range(len(x_train)):\n",
        "    rgb = to_rgb(x_train[i])\n",
        "    rgb_list.append(rgb)\n",
        "    #print(rgb.shape) \n",
        "rgb_arr = np.stack([rgb_list],axis=4)\n",
        "X_train = np.squeeze(rgb_arr, axis=4)"
      ],
      "execution_count": 0,
      "outputs": []
    },
    {
      "cell_type": "code",
      "metadata": {
        "id": "9_sFJsKp7NYb",
        "colab_type": "code",
        "colab": {}
      },
      "source": [
        "rgb_list = []\n",
        "for i in range(len(x_test)):\n",
        "    rgb = to_rgb(x_test[i])\n",
        "    rgb_list.append(rgb)\n",
        "    #print(rgb.shape) \n",
        "rgb_arr = np.stack([rgb_list],axis=4)\n",
        "X_test = np.squeeze(rgb_arr, axis=4)"
      ],
      "execution_count": 0,
      "outputs": []
    },
    {
      "cell_type": "code",
      "metadata": {
        "id": "EPdPzjwUCWVb",
        "colab_type": "code",
        "colab": {}
      },
      "source": [
        "X_train = preprocess_input(X_train)\n",
        "X_test = preprocess_input(X_test)"
      ],
      "execution_count": 0,
      "outputs": []
    },
    {
      "cell_type": "code",
      "metadata": {
        "id": "2w1TvbJF7Suw",
        "colab_type": "code",
        "outputId": "31767e39-c5ab-436e-c596-4ced59169beb",
        "colab": {
          "base_uri": "https://localhost:8080/",
          "height": 303
        }
      },
      "source": [
        "plt.imshow(X_train[0])"
      ],
      "execution_count": 8,
      "outputs": [
        {
          "output_type": "stream",
          "text": [
            "Clipping input data to the valid range for imshow with RGB data ([0..1] for floats or [0..255] for integers).\n"
          ],
          "name": "stderr"
        },
        {
          "output_type": "execute_result",
          "data": {
            "text/plain": [
              "<matplotlib.image.AxesImage at 0x7f4203afa5c0>"
            ]
          },
          "metadata": {
            "tags": []
          },
          "execution_count": 8
        },
        {
          "output_type": "display_data",
          "data": {
            "image/png": "[encoded data removed]",
            "text/plain": [
              "<Figure size 432x288 with 1 Axes>"
            ]
          },
          "metadata": {
            "tags": [],
            "needs_background": "light"
          }
        }
      ]
    },
    {
      "cell_type": "code",
      "metadata": {
        "id": "LhGAM0Yu7ZI0",
        "colab_type": "code",
        "outputId": "7162b1dd-9b73-47a6-cd5c-9fc4a9b4787f",
        "colab": {
          "base_uri": "https://localhost:8080/",
          "height": 34
        }
      },
      "source": [
        "print(X_train.shape,X_test.shape,y_train.shape,y_test.shape)"
      ],
      "execution_count": 9,
      "outputs": [
        {
          "output_type": "stream",
          "text": [
            "(60000, 139, 139, 3) (10000, 139, 139, 3) (60000, 10) (10000, 10)\n"
          ],
          "name": "stdout"
        }
      ]
    },
    {
      "cell_type": "code",
      "metadata": {
        "id": "v0zDtVq87c0g",
        "colab_type": "code",
        "colab": {
          "base_uri": "https://localhost:8080/",
          "height": 105
        },
        "outputId": "6769fc9f-8dcd-4ab8-c01b-538638c8a3e8"
      },
      "source": [
        "base = ResNet50(include_top = False,weights='imagenet',input_shape = (139,139,3))\n",
        "model = models.Sequential()\n",
        "model.add(base)\n",
        "model.add(GlobalAveragePooling2D())\n",
        "model.add(Dense(4096, activation='relu', name='Dense_Intermediate'))\n",
        "model.add(Dropout(0.5, name='Dropout_Regularization'))\n",
        "model.add(Dense(10, activation='softmax', name='Output'))"
      ],
      "execution_count": 10,
      "outputs": [
        {
          "output_type": "stream",
          "text": [
            "Downloading data from https://github.com/fchollet/deep-learning-models/releases/download/v0.2/resnet50_weights_tf_dim_ordering_tf_kernels_notop.h5\n",
            "  229376/94653016 [..............................] - ETA: 20s"
          ],
          "name": "stdout"
        },
        {
          "output_type": "stream",
          "text": [
            "/usr/local/lib/python3.6/dist-packages/keras_applications/resnet50.py:265: UserWarning: The output shape of `ResNet50(include_top=False)` has been changed since Keras 2.2.0.\n",
            "  warnings.warn('The output shape of `ResNet50(include_top=False)` '\n"
          ],
          "name": "stderr"
        },
        {
          "output_type": "stream",
          "text": [
            "94658560/94653016 [==============================] - 1s 0us/step\n"
          ],
          "name": "stdout"
        }
      ]
    },
    {
      "cell_type": "code",
      "metadata": {
        "id": "u2Hftj-g7h9O",
        "colab_type": "code",
        "colab": {}
      },
      "source": [
        "for cnnlayer in model.layers[0].layers:\n",
        "    cnnlayer.trainable = False\n",
        "model.layers[0].trainable = False"
      ],
      "execution_count": 0,
      "outputs": []
    },
    {
      "cell_type": "code",
      "metadata": {
        "id": "ybnmS-E37mDM",
        "colab_type": "code",
        "colab": {}
      },
      "source": [
        "model.compile(\n",
        "    optimizer='rmsprop',\n",
        "    loss='categorical_crossentropy',\n",
        "    metrics=['accuracy']\n",
        ")"
      ],
      "execution_count": 0,
      "outputs": []
    },
    {
      "cell_type": "code",
      "metadata": {
        "id": "tvk9L6gn7tf5",
        "colab_type": "code",
        "outputId": "8389eb13-66d3-4c14-cf40-d7e892dac947",
        "colab": {
          "base_uri": "https://localhost:8080/",
          "height": 323
        }
      },
      "source": [
        "model.summary()"
      ],
      "execution_count": 13,
      "outputs": [
        {
          "output_type": "stream",
          "text": [
            "Model: \"sequential_1\"\n",
            "_________________________________________________________________\n",
            "Layer (type)                 Output Shape              Param #   \n",
            "=================================================================\n",
            "resnet50 (Model)             (None, 5, 5, 2048)        23587712  \n",
            "_________________________________________________________________\n",
            "global_average_pooling2d_1 ( (None, 2048)              0         \n",
            "_________________________________________________________________\n",
            "Dense_Intermediate (Dense)   (None, 4096)              8392704   \n",
            "_________________________________________________________________\n",
            "Dropout_Regularization (Drop (None, 4096)              0         \n",
            "_________________________________________________________________\n",
            "Output (Dense)               (None, 10)                40970     \n",
            "=================================================================\n",
            "Total params: 32,021,386\n",
            "Trainable params: 8,433,674\n",
            "Non-trainable params: 23,587,712\n",
            "_________________________________________________________________\n"
          ],
          "name": "stdout"
        }
      ]
    },
    {
      "cell_type": "code",
      "metadata": {
        "id": "3wvstxOZ7vpM",
        "colab_type": "code",
        "outputId": "3c56bb8e-52da-4035-dcac-b8a377a96efb",
        "colab": {
          "base_uri": "https://localhost:8080/",
          "height": 391
        }
      },
      "source": [
        "model.fit(X_train,y_train,epochs=10,batch_size=500,validation_data=(X_test,y_test))"
      ],
      "execution_count": 14,
      "outputs": [
        {
          "output_type": "stream",
          "text": [
            "Train on 60000 samples, validate on 10000 samples\n",
            "Epoch 1/10\n",
            "60000/60000 [==============================] - 309s 5ms/step - loss: 1.2212 - accuracy: 0.7868 - val_loss: 2.6432 - val_accuracy: 0.3539\n",
            "Epoch 2/10\n",
            "60000/60000 [==============================] - 296s 5ms/step - loss: 0.3099 - accuracy: 0.9046 - val_loss: 2.6553 - val_accuracy: 0.3734\n",
            "Epoch 3/10\n",
            "60000/60000 [==============================] - 295s 5ms/step - loss: 0.2263 - accuracy: 0.9307 - val_loss: 2.2799 - val_accuracy: 0.4909\n",
            "Epoch 4/10\n",
            "60000/60000 [==============================] - 296s 5ms/step - loss: 0.1768 - accuracy: 0.9465 - val_loss: 2.6304 - val_accuracy: 0.4028\n",
            "Epoch 5/10\n",
            "60000/60000 [==============================] - 295s 5ms/step - loss: 0.1526 - accuracy: 0.9563 - val_loss: 3.2065 - val_accuracy: 0.3743\n",
            "Epoch 6/10\n",
            "60000/60000 [==============================] - 295s 5ms/step - loss: 0.1228 - accuracy: 0.9620 - val_loss: 3.2774 - val_accuracy: 0.3913\n",
            "Epoch 7/10\n",
            "60000/60000 [==============================] - 295s 5ms/step - loss: 0.1108 - accuracy: 0.9670 - val_loss: 4.0734 - val_accuracy: 0.3645\n",
            "Epoch 8/10\n",
            "60000/60000 [==============================] - 295s 5ms/step - loss: 0.1035 - accuracy: 0.9703 - val_loss: 5.9977 - val_accuracy: 0.2501\n",
            "Epoch 9/10\n",
            "60000/60000 [==============================] - 295s 5ms/step - loss: 0.0932 - accuracy: 0.9735 - val_loss: 3.4641 - val_accuracy: 0.3842\n",
            "Epoch 10/10\n",
            "60000/60000 [==============================] - 295s 5ms/step - loss: 0.0854 - accuracy: 0.9763 - val_loss: 4.9883 - val_accuracy: 0.3891\n"
          ],
          "name": "stdout"
        },
        {
          "output_type": "execute_result",
          "data": {
            "text/plain": [
              "<keras.callbacks.callbacks.History at 0x7f41a85c6780>"
            ]
          },
          "metadata": {
            "tags": []
          },
          "execution_count": 14
        }
      ]
    },
    {
      "cell_type": "code",
      "metadata": {
        "id": "_Vp8LH8a70_T",
        "colab_type": "code",
        "colab": {}
      },
      "source": [
        "from sklearn.metrics import precision_score,recall_score,log_loss"
      ],
      "execution_count": 0,
      "outputs": []
    },
    {
      "cell_type": "code",
      "metadata": {
        "id": "VSauNJLz922r",
        "colab_type": "code",
        "outputId": "60953975-f363-460a-d027-a0bfca36f07f",
        "colab": {
          "base_uri": "https://localhost:8080/",
          "height": 136
        }
      },
      "source": [
        "y_pred = model.predict(X_test)\n",
        "y_pred = y_pred.round().astype(int)\n",
        "y_pred"
      ],
      "execution_count": 16,
      "outputs": [
        {
          "output_type": "execute_result",
          "data": {
            "text/plain": [
              "array([[0, 0, 0, ..., 0, 0, 0],\n",
              "       [0, 0, 0, ..., 0, 0, 1],\n",
              "       [0, 1, 0, ..., 0, 0, 0],\n",
              "       ...,\n",
              "       [0, 0, 0, ..., 0, 0, 1],\n",
              "       [0, 0, 0, ..., 0, 0, 0],\n",
              "       [0, 0, 0, ..., 0, 0, 0]])"
            ]
          },
          "metadata": {
            "tags": []
          },
          "execution_count": 16
        }
      ]
    },
    {
      "cell_type": "code",
      "metadata": {
        "id": "wZR2dz_e-Arr",
        "colab_type": "code",
        "outputId": "164f2608-e413-41e0-8317-d7a2e3e0a8ab",
        "colab": {
          "base_uri": "https://localhost:8080/",
          "height": 258
        }
      },
      "source": [
        "classwise_precision = precision_score(y_test,y_pred, average=None)\n",
        "for i in range(len(classwise_precision)):\n",
        "  print(\"Precision for class {} = {}\".format(i,classwise_precision[i]))\n",
        "print(\"Mean Precision = \",classwise_precision.mean())"
      ],
      "execution_count": 17,
      "outputs": [
        {
          "output_type": "stream",
          "text": [
            "Precision for class 0 = 0.0\n",
            "Precision for class 1 = 0.9985250737463127\n",
            "Precision for class 2 = 0.5\n",
            "Precision for class 3 = 0.5873493975903614\n",
            "Precision for class 4 = 0.9850746268656716\n",
            "Precision for class 5 = 0.2917971195992486\n",
            "Precision for class 6 = 0.4995433789954338\n",
            "Precision for class 7 = 0.3424657534246575\n",
            "Precision for class 8 = 0.8912429378531074\n",
            "Precision for class 9 = 0.21161825726141079\n",
            "Mean Precision =  0.5307616545336205\n"
          ],
          "name": "stdout"
        },
        {
          "output_type": "stream",
          "text": [
            "/usr/local/lib/python3.6/dist-packages/sklearn/metrics/_classification.py:1272: UndefinedMetricWarning: Precision is ill-defined and being set to 0.0 in labels with no predicted samples. Use `zero_division` parameter to control this behavior.\n",
            "  _warn_prf(average, modifier, msg_start, len(result))\n"
          ],
          "name": "stderr"
        }
      ]
    },
    {
      "cell_type": "code",
      "metadata": {
        "id": "AWaeD5Bd-FSl",
        "colab_type": "code",
        "outputId": "a17776d6-b1e1-4923-a542-15116a5c3f24",
        "colab": {
          "base_uri": "https://localhost:8080/",
          "height": 204
        }
      },
      "source": [
        "classwise_recall = recall_score(y_test,y_pred, average=None)\n",
        "for i in range(len(classwise_recall)):\n",
        "  print(\"Recall for class {} = {}\".format(i,classwise_recall[i]))\n",
        "print(\"Mean Recall = \",classwise_recall.mean())"
      ],
      "execution_count": 18,
      "outputs": [
        {
          "output_type": "stream",
          "text": [
            "Recall for class 0 = 0.0\n",
            "Recall for class 1 = 0.5964757709251102\n",
            "Recall for class 2 = 0.0009689922480620155\n",
            "Recall for class 3 = 0.38613861386138615\n",
            "Recall for class 4 = 0.06720977596741344\n",
            "Recall for class 5 = 0.5224215246636771\n",
            "Recall for class 6 = 0.5709812108559499\n",
            "Recall for class 7 = 0.048638132295719845\n",
            "Recall for class 8 = 0.6478439425051334\n",
            "Recall for class 9 = 0.9603567888999008\n",
            "Mean Recall =  0.3801034752222353\n"
          ],
          "name": "stdout"
        }
      ]
    },
    {
      "cell_type": "code",
      "metadata": {
        "id": "xRsNNG6v-MzU",
        "colab_type": "code",
        "outputId": "dde4bc4e-8e09-442e-cb35-e970ba4f2178",
        "colab": {
          "base_uri": "https://localhost:8080/",
          "height": 34
        }
      },
      "source": [
        "print(\"Log Loss = \",log_loss(y_test,y_pred))"
      ],
      "execution_count": 19,
      "outputs": [
        {
          "output_type": "stream",
          "text": [
            "Log Loss =  19.928643721354174\n"
          ],
          "name": "stdout"
        }
      ]
    },
    {
      "cell_type": "code",
      "metadata": {
        "id": "2H4M448YB3gN",
        "colab_type": "code",
        "colab": {}
      },
      "source": [
        ""
      ],
      "execution_count": 0,
      "outputs": []
    }
  ]
}