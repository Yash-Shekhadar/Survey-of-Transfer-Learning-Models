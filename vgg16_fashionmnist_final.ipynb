{
 "cells": [
  {
   "cell_type": "markdown",
   "metadata": {},
   "source": [
    "# VGG16 on FashionMnist Dataset"
   ]
  },
  {
   "cell_type": "markdown",
   "metadata": {},
   "source": [
    "#### Importing necessary libraries"
   ]
  },
  {
   "cell_type": "code",
   "execution_count": 1,
   "metadata": {
    "colab": {
     "base_uri": "https://localhost:8080/",
     "height": 34
    },
    "colab_type": "code",
    "id": "iw_Z0i0z6PdQ",
    "outputId": "606bfdf3-3aa4-461c-edbf-f602b316f78e"
   },
   "outputs": [
    {
     "name": "stderr",
     "output_type": "stream",
     "text": [
      "Using TensorFlow backend.\n"
     ]
    }
   ],
   "source": [
    "import cv2\n",
    "import numpy as np\n",
    "from keras.layers import Convolution2D,MaxPooling2D,Dropout,Dense,Flatten, GlobalAveragePooling2D\n",
    "from keras import models,losses,optimizers\n",
    "from keras.preprocessing.image import ImageDataGenerator\n",
    "from keras.applications import VGG16\n",
    "from keras.applications.vgg16 import preprocess_input\n",
    "from keras.models import Model\n",
    "import matplotlib.pyplot as plt\n",
    "from keras.utils import to_categorical"
   ]
  },
  {
   "cell_type": "markdown",
   "metadata": {},
   "source": [
    "#### Loading the dataset"
   ]
  },
  {
   "cell_type": "code",
   "execution_count": 0,
   "metadata": {
    "colab": {},
    "colab_type": "code",
    "id": "-tw9l6YG6XX7"
   },
   "outputs": [],
   "source": [
    "from keras.datasets import fashion_mnist\n",
    "(x_train, y_train), (x_test, y_test) = fashion_mnist.load_data()\n",
    "y_train = to_categorical(y_train)\n",
    "y_test = to_categorical(y_test)"
   ]
  },
  {
   "cell_type": "code",
   "execution_count": 3,
   "metadata": {
    "colab": {
     "base_uri": "https://localhost:8080/",
     "height": 282
    },
    "colab_type": "code",
    "id": "GkgpNfBz6YsE",
    "outputId": "ed23cc3a-4717-465f-e378-460adc8fca09"
   },
   "outputs": [
    {
     "data": {
      "text/plain": [
       "<matplotlib.image.AxesImage at 0x7f0c9744b5f8>"
      ]
     },
     "execution_count": 3,
     "metadata": {
      "tags": []
     },
     "output_type": "execute_result"
    },
    {
     "data": {
      "image/png": "[encoded data removed]",
      "text/plain": [
       "<Figure size 432x288 with 1 Axes>"
      ]
     },
     "metadata": {
      "needs_background": "light",
      "tags": []
     },
     "output_type": "display_data"
    }
   ],
   "source": [
    "plt.imshow(x_train[0])"
   ]
  },
  {
   "cell_type": "markdown",
   "metadata": {},
   "source": [
    "#### Resizing and Preprocessing the images\n",
    "    - Initial size : (28x28)\n",
    "    - Final size : (139x139)"
   ]
  },
  {
   "cell_type": "code",
   "execution_count": 0,
   "metadata": {
    "colab": {},
    "colab_type": "code",
    "id": "O_4bip3v6cge"
   },
   "outputs": [],
   "source": [
    "def to_rgb(img):\n",
    "    img = cv2.resize(img, dim, interpolation = cv2.INTER_AREA) \n",
    "    img_rgb = np.asarray(np.dstack((img, img, img)), dtype=np.uint8)\n",
    "    return img_rgb"
   ]
  },
  {
   "cell_type": "code",
   "execution_count": 0,
   "metadata": {
    "colab": {},
    "colab_type": "code",
    "id": "1YsAeKF-6fQL"
   },
   "outputs": [],
   "source": [
    "rgb_list = []\n",
    "dim = (139, 139)\n",
    "#convert X_train data to 48x48 rgb values\n",
    "for i in range(len(x_train)):\n",
    "    rgb = to_rgb(x_train[i])\n",
    "    rgb_list.append(rgb)\n",
    "    #print(rgb.shape) \n",
    "rgb_arr = np.stack([rgb_list],axis=4)\n",
    "X_train = np.squeeze(rgb_arr, axis=4)"
   ]
  },
  {
   "cell_type": "code",
   "execution_count": 0,
   "metadata": {
    "colab": {},
    "colab_type": "code",
    "id": "LytqklP_6hVS"
   },
   "outputs": [],
   "source": [
    "rgb_list = []\n",
    "#convert X_train data to 48x48 rgb values\n",
    "for i in range(len(x_test)):\n",
    "    rgb = to_rgb(x_test[i])\n",
    "    rgb_list.append(rgb)\n",
    "    #print(rgb.shape) \n",
    "rgb_arr = np.stack([rgb_list],axis=4)\n",
    "X_test = np.squeeze(rgb_arr, axis=4)"
   ]
  },
  {
   "cell_type": "code",
   "execution_count": 7,
   "metadata": {
    "colab": {
     "base_uri": "https://localhost:8080/",
     "height": 303
    },
    "colab_type": "code",
    "id": "swpeRrYk6jEW",
    "outputId": "efac35db-40ba-49d7-e7ed-858a46f8de08"
   },
   "outputs": [
    {
     "name": "stderr",
     "output_type": "stream",
     "text": [
      "Clipping input data to the valid range for imshow with RGB data ([0..1] for floats or [0..255] for integers).\n"
     ]
    },
    {
     "data": {
      "text/plain": [
       "<matplotlib.image.AxesImage at 0x7f0c96ebf0f0>"
      ]
     },
     "execution_count": 7,
     "metadata": {
      "tags": []
     },
     "output_type": "execute_result"
    },
    {
     "data": {
      "image/png": "[encoded data removed]",
      "text/plain": [
       "<Figure size 432x288 with 1 Axes>"
      ]
     },
     "metadata": {
      "needs_background": "light",
      "tags": []
     },
     "output_type": "display_data"
    }
   ],
   "source": [
    "X_train = preprocess_input(X_train)\n",
    "X_test = preprocess_input(X_test)\n",
    "plt.imshow(X_train[0])"
   ]
  },
  {
   "cell_type": "code",
   "execution_count": 8,
   "metadata": {
    "colab": {
     "base_uri": "https://localhost:8080/",
     "height": 34
    },
    "colab_type": "code",
    "id": "TwtGl7BM6nQL",
    "outputId": "eb8b9689-49fe-406a-956b-b8518c3af47a"
   },
   "outputs": [
    {
     "name": "stdout",
     "output_type": "stream",
     "text": [
      "(60000, 139, 139, 3) (10000, 139, 139, 3) (60000, 10) (10000, 10)\n"
     ]
    }
   ],
   "source": [
    "print(X_train.shape,X_test.shape,y_train.shape,y_test.shape)"
   ]
  },
  {
   "cell_type": "markdown",
   "metadata": {},
   "source": [
    "#### Model Building"
   ]
  },
  {
   "cell_type": "code",
   "execution_count": 0,
   "metadata": {
    "colab": {},
    "colab_type": "code",
    "id": "b8tDxmrO6pet"
   },
   "outputs": [],
   "source": [
    "base = VGG16(include_top = False,weights='imagenet',input_shape = (139,139,3))\n",
    "model = models.Sequential()\n",
    "model.add(base)\n",
    "model.add(GlobalAveragePooling2D())\n",
    "model.add(Dense(4096, activation='relu', name='Dense_Intermediate'))\n",
    "model.add(Dropout(0.5, name='Dropout_Regularization'))\n",
    "model.add(Dense(10, activation='softmax', name='Output'))"
   ]
  },
  {
   "cell_type": "markdown",
   "metadata": {},
   "source": [
    "#### Freezing the base model layers"
   ]
  },
  {
   "cell_type": "code",
   "execution_count": 0,
   "metadata": {
    "colab": {},
    "colab_type": "code",
    "id": "f3w1Oy-o6-h5"
   },
   "outputs": [],
   "source": [
    "for cnnlayer in model.layers[0].layers:\n",
    "    cnnlayer.trainable = False\n",
    "model.layers[0].trainable = False"
   ]
  },
  {
   "cell_type": "code",
   "execution_count": 0,
   "metadata": {
    "colab": {},
    "colab_type": "code",
    "id": "JO6lHSSR7V47"
   },
   "outputs": [],
   "source": [
    "model.compile(\n",
    "    optimizer='adam',\n",
    "    loss='categorical_crossentropy',\n",
    "    metrics=['accuracy']\n",
    ")"
   ]
  },
  {
   "cell_type": "code",
   "execution_count": 12,
   "metadata": {
    "colab": {
     "base_uri": "https://localhost:8080/",
     "height": 323
    },
    "colab_type": "code",
    "id": "RNrMBECdpIhc",
    "outputId": "d0e45d58-9878-42b0-c31c-123b2fe37eb1"
   },
   "outputs": [
    {
     "name": "stdout",
     "output_type": "stream",
     "text": [
      "Model: \"sequential_1\"\n",
      "_________________________________________________________________\n",
      "Layer (type)                 Output Shape              Param #   \n",
      "=================================================================\n",
      "vgg16 (Model)                (None, 4, 4, 512)         14714688  \n",
      "_________________________________________________________________\n",
      "global_average_pooling2d_1 ( (None, 512)               0         \n",
      "_________________________________________________________________\n",
      "Dense_Intermediate (Dense)   (None, 4096)              2101248   \n",
      "_________________________________________________________________\n",
      "Dropout_Regularization (Drop (None, 4096)              0         \n",
      "_________________________________________________________________\n",
      "Output (Dense)               (None, 10)                40970     \n",
      "=================================================================\n",
      "Total params: 16,856,906\n",
      "Trainable params: 2,142,218\n",
      "Non-trainable params: 14,714,688\n",
      "_________________________________________________________________\n"
     ]
    }
   ],
   "source": [
    "model.summary()"
   ]
  },
  {
   "cell_type": "code",
   "execution_count": 13,
   "metadata": {
    "colab": {
     "base_uri": "https://localhost:8080/",
     "height": 391
    },
    "colab_type": "code",
    "id": "VnFHvgam7AEB",
    "outputId": "b048fcd3-3ace-4a9a-b8d4-6af55b6451a6"
   },
   "outputs": [
    {
     "name": "stdout",
     "output_type": "stream",
     "text": [
      "Train on 60000 samples, validate on 10000 samples\n",
      "Epoch 1/10\n",
      "60000/60000 [==============================] - 357s 6ms/step - loss: 0.7827 - accuracy: 0.7997 - val_loss: 0.3885 - val_accuracy: 0.8639\n",
      "Epoch 2/10\n",
      "60000/60000 [==============================] - 337s 6ms/step - loss: 0.3615 - accuracy: 0.8696 - val_loss: 0.3527 - val_accuracy: 0.8747\n",
      "Epoch 3/10\n",
      "60000/60000 [==============================] - 337s 6ms/step - loss: 0.3197 - accuracy: 0.8840 - val_loss: 0.3460 - val_accuracy: 0.8754\n",
      "Epoch 4/10\n",
      "60000/60000 [==============================] - 337s 6ms/step - loss: 0.2911 - accuracy: 0.8932 - val_loss: 0.3400 - val_accuracy: 0.8806\n",
      "Epoch 5/10\n",
      "60000/60000 [==============================] - 337s 6ms/step - loss: 0.2724 - accuracy: 0.8982 - val_loss: 0.3191 - val_accuracy: 0.8840\n",
      "Epoch 6/10\n",
      "60000/60000 [==============================] - 337s 6ms/step - loss: 0.2556 - accuracy: 0.9052 - val_loss: 0.3513 - val_accuracy: 0.8795\n",
      "Epoch 7/10\n",
      "60000/60000 [==============================] - 336s 6ms/step - loss: 0.2429 - accuracy: 0.9090 - val_loss: 0.3229 - val_accuracy: 0.8846\n",
      "Epoch 8/10\n",
      "60000/60000 [==============================] - 337s 6ms/step - loss: 0.2287 - accuracy: 0.9141 - val_loss: 0.3056 - val_accuracy: 0.8926\n",
      "Epoch 9/10\n",
      "60000/60000 [==============================] - 336s 6ms/step - loss: 0.2157 - accuracy: 0.9204 - val_loss: 0.3145 - val_accuracy: 0.8910\n",
      "Epoch 10/10\n",
      "60000/60000 [==============================] - 336s 6ms/step - loss: 0.2085 - accuracy: 0.9226 - val_loss: 0.3224 - val_accuracy: 0.8864\n"
     ]
    },
    {
     "data": {
      "text/plain": [
       "<keras.callbacks.callbacks.History at 0x7f0c9033bcc0>"
      ]
     },
     "execution_count": 13,
     "metadata": {
      "tags": []
     },
     "output_type": "execute_result"
    }
   ],
   "source": [
    "model.fit(X_train,y_train,epochs=10,batch_size=500,validation_data=(X_test,y_test))"
   ]
  },
  {
   "cell_type": "markdown",
   "metadata": {},
   "source": [
    "#### Model Performance Evaluation"
   ]
  },
  {
   "cell_type": "code",
   "execution_count": 0,
   "metadata": {
    "colab": {},
    "colab_type": "code",
    "id": "HxwuubnAGGzZ"
   },
   "outputs": [],
   "source": [
    "  from sklearn.metrics import precision_score,recall_score,log_loss"
   ]
  },
  {
   "cell_type": "code",
   "execution_count": 15,
   "metadata": {
    "colab": {
     "base_uri": "https://localhost:8080/",
     "height": 136
    },
    "colab_type": "code",
    "id": "6TSwUF4cs8_n",
    "outputId": "27a65249-0fea-469d-bd3e-df91ef4dcb0b"
   },
   "outputs": [
    {
     "data": {
      "text/plain": [
       "array([[0, 0, 0, ..., 0, 0, 1],\n",
       "       [0, 0, 1, ..., 0, 0, 0],\n",
       "       [0, 1, 0, ..., 0, 0, 0],\n",
       "       ...,\n",
       "       [0, 0, 0, ..., 0, 1, 0],\n",
       "       [0, 1, 0, ..., 0, 0, 0],\n",
       "       [0, 0, 0, ..., 0, 0, 0]])"
      ]
     },
     "execution_count": 15,
     "metadata": {
      "tags": []
     },
     "output_type": "execute_result"
    }
   ],
   "source": [
    "y_pred = model.predict(X_test)\n",
    "y_pred = y_pred.round().astype(int)\n",
    "y_pred"
   ]
  },
  {
   "cell_type": "code",
   "execution_count": 16,
   "metadata": {
    "colab": {
     "base_uri": "https://localhost:8080/",
     "height": 204
    },
    "colab_type": "code",
    "id": "MNGbM-ZptBxU",
    "outputId": "b54ece7d-063e-4dde-d244-9b35d1c1018f"
   },
   "outputs": [
    {
     "name": "stdout",
     "output_type": "stream",
     "text": [
      "Precision for class 0 = 0.8374384236453202\n",
      "Precision for class 1 = 0.9828629032258065\n",
      "Precision for class 2 = 0.8566912539515279\n",
      "Precision for class 3 = 0.9095982142857143\n",
      "Precision for class 4 = 0.8947368421052632\n",
      "Precision for class 5 = 0.9582089552238806\n",
      "Precision for class 6 = 0.6801470588235294\n",
      "Precision for class 7 = 0.9498495486459378\n",
      "Precision for class 8 = 0.9799196787148594\n",
      "Precision for class 9 = 0.9656912209889001\n",
      "Mean Precision =  0.9015144099610739\n"
     ]
    }
   ],
   "source": [
    "classwise_precision = precision_score(y_test,y_pred, average=None)\n",
    "for i in range(len(classwise_precision)):\n",
    "  print(\"Precision for class {} = {}\".format(i,classwise_precision[i]))\n",
    "print(\"Mean Precision = \",classwise_precision.mean())"
   ]
  },
  {
   "cell_type": "code",
   "execution_count": 17,
   "metadata": {
    "colab": {
     "base_uri": "https://localhost:8080/",
     "height": 204
    },
    "colab_type": "code",
    "id": "7Efq3vrPtIiH",
    "outputId": "58a408d7-9365-419f-be21-b02f56905923"
   },
   "outputs": [
    {
     "name": "stdout",
     "output_type": "stream",
     "text": [
      "Recall for class 0 = 0.85\n",
      "Recall for class 1 = 0.975\n",
      "Recall for class 2 = 0.813\n",
      "Recall for class 3 = 0.815\n",
      "Recall for class 4 = 0.731\n",
      "Recall for class 5 = 0.963\n",
      "Recall for class 6 = 0.74\n",
      "Recall for class 7 = 0.947\n",
      "Recall for class 8 = 0.976\n",
      "Recall for class 9 = 0.957\n",
      "Mean Recall =  0.8766999999999999\n"
     ]
    }
   ],
   "source": [
    "classwise_recall = recall_score(y_test,y_pred, average=None)\n",
    "for i in range(len(classwise_recall)):\n",
    "  print(\"Recall for class {} = {}\".format(i,classwise_recall[i]))\n",
    "print(\"Mean Recall = \",classwise_recall.mean())"
   ]
  },
  {
   "cell_type": "code",
   "execution_count": 18,
   "metadata": {
    "colab": {
     "base_uri": "https://localhost:8080/",
     "height": 34
    },
    "colab_type": "code",
    "id": "m8SGP4mTtMN6",
    "outputId": "8ec4cd26-efac-4121-893c-cd0b8d25e501"
   },
   "outputs": [
    {
     "name": "stdout",
     "output_type": "stream",
     "text": [
      "Log Loss =  3.4398318704238138\n"
     ]
    }
   ],
   "source": [
    "print(\"Log Loss = \",log_loss(y_test,y_pred))"
   ]
  },
  {
   "cell_type": "code",
   "execution_count": 0,
   "metadata": {
    "colab": {},
    "colab_type": "code",
    "id": "vOWBelR3tRM7"
   },
   "outputs": [],
   "source": []
  }
 ],
 "metadata": {
  "accelerator": "GPU",
  "colab": {
   "collapsed_sections": [],
   "machine_shape": "hm",
   "name": "vgg16_fashionmnist_final.ipynb",
   "provenance": []
  },
  "kernelspec": {
   "display_name": "Python 3",
   "language": "python",
   "name": "python3"
  },
  "language_info": {
   "codemirror_mode": {
    "name": "ipython",
    "version": 3
   },
   "file_extension": ".py",
   "mimetype": "text/x-python",
   "name": "python",
   "nbconvert_exporter": "python",
   "pygments_lexer": "ipython3",
   "version": "3.7.6"
  }
 },
 "nbformat": 4,
 "nbformat_minor": 1
}
