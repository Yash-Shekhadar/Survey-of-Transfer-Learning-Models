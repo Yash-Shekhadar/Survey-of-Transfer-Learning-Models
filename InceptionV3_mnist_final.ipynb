{
  "nbformat": 4,
  "nbformat_minor": 0,
  "metadata": {
    "colab": {
      "name": "InceptionV3_mnist_final.ipynb",
      "provenance": [],
      "collapsed_sections": [],
      "machine_shape": "hm"
    },
    "kernelspec": {
      "name": "python3",
      "display_name": "Python 3"
    },
    "accelerator": "GPU"
  },
  "cells": [
    {
      "cell_type": "code",
      "metadata": {
        "id": "Pj9EaAVC6h1a",
        "colab_type": "code",
        "colab": {
          "base_uri": "https://localhost:8080/",
          "height": 34
        },
        "outputId": "2c568839-edd1-4fdf-cbe0-a34c62b0d63b"
      },
      "source": [
        "import cv2\n",
        "import numpy as np\n",
        "from keras.layers import Convolution2D,MaxPooling2D,Dropout,Dense,Flatten, GlobalAveragePooling2D\n",
        "from keras import models,losses,optimizers\n",
        "from keras.preprocessing.image import ImageDataGenerator\n",
        "from keras.applications import InceptionV3\n",
        "from keras.applications.inception_v3 import preprocess_input\n",
        "from keras.models import Model\n",
        "import matplotlib.pyplot as plt\n",
        "from keras.utils import to_categorical"
      ],
      "execution_count": 1,
      "outputs": [
        {
          "output_type": "stream",
          "text": [
            "Using TensorFlow backend.\n"
          ],
          "name": "stderr"
        }
      ]
    },
    {
      "cell_type": "code",
      "metadata": {
        "id": "UrizKBSi6vVe",
        "colab_type": "code",
        "colab": {}
      },
      "source": [
        "from keras.datasets import mnist\n",
        "(x_train, y_train), (x_test, y_test) = mnist.load_data()\n",
        "y_train = to_categorical(y_train)\n",
        "y_test = to_categorical(y_test)"
      ],
      "execution_count": 0,
      "outputs": []
    },
    {
      "cell_type": "code",
      "metadata": {
        "id": "H2nIesX17BHN",
        "colab_type": "code",
        "colab": {
          "base_uri": "https://localhost:8080/",
          "height": 282
        },
        "outputId": "06afa419-d92b-4b9b-db6d-b582b568d529"
      },
      "source": [
        "plt.imshow(x_train[0])"
      ],
      "execution_count": 3,
      "outputs": [
        {
          "output_type": "execute_result",
          "data": {
            "text/plain": [
              "<matplotlib.image.AxesImage at 0x7f79b920f780>"
            ]
          },
          "metadata": {
            "tags": []
          },
          "execution_count": 3
        },
        {
          "output_type": "display_data",
          "data": {
            "image/png": "[encoded data removed]",
            "text/plain": [
              "<Figure size 432x288 with 1 Axes>"
            ]
          },
          "metadata": {
            "tags": [],
            "needs_background": "light"
          }
        }
      ]
    },
    {
      "cell_type": "code",
      "metadata": {
        "id": "k0AdRUA67EqR",
        "colab_type": "code",
        "colab": {}
      },
      "source": [
        "def to_rgb(img):\n",
        "    img = cv2.resize(img, dim, interpolation = cv2.INTER_AREA) \n",
        "    img_rgb = np.asarray(np.dstack((img, img, img)), dtype=np.uint8)\n",
        "    return img_rgb"
      ],
      "execution_count": 0,
      "outputs": []
    },
    {
      "cell_type": "code",
      "metadata": {
        "id": "DHXtgt-E7Kqf",
        "colab_type": "code",
        "colab": {}
      },
      "source": [
        "rgb_list = []\n",
        "dim = (139, 139)\n",
        "for i in range(len(x_train)):\n",
        "    rgb = to_rgb(x_train[i])\n",
        "    rgb_list.append(rgb)\n",
        "    #print(rgb.shape) \n",
        "rgb_arr = np.stack([rgb_list],axis=4)\n",
        "X_train = np.squeeze(rgb_arr, axis=4)"
      ],
      "execution_count": 0,
      "outputs": []
    },
    {
      "cell_type": "code",
      "metadata": {
        "id": "9_sFJsKp7NYb",
        "colab_type": "code",
        "colab": {}
      },
      "source": [
        "rgb_list = []\n",
        "for i in range(len(x_test)):\n",
        "    rgb = to_rgb(x_test[i])\n",
        "    rgb_list.append(rgb)\n",
        "    #print(rgb.shape) \n",
        "rgb_arr = np.stack([rgb_list],axis=4)\n",
        "X_test = np.squeeze(rgb_arr, axis=4)"
      ],
      "execution_count": 0,
      "outputs": []
    },
    {
      "cell_type": "code",
      "metadata": {
        "id": "EPdPzjwUCWVb",
        "colab_type": "code",
        "colab": {}
      },
      "source": [
        "X_train = preprocess_input(X_train)\n",
        "X_test = preprocess_input(X_test)"
      ],
      "execution_count": 0,
      "outputs": []
    },
    {
      "cell_type": "code",
      "metadata": {
        "id": "2w1TvbJF7Suw",
        "colab_type": "code",
        "colab": {
          "base_uri": "https://localhost:8080/",
          "height": 303
        },
        "outputId": "73eab65a-e43c-483f-addf-c6bd562dc72d"
      },
      "source": [
        "plt.imshow(X_train[0])"
      ],
      "execution_count": 8,
      "outputs": [
        {
          "output_type": "stream",
          "text": [
            "Clipping input data to the valid range for imshow with RGB data ([0..1] for floats or [0..255] for integers).\n"
          ],
          "name": "stderr"
        },
        {
          "output_type": "execute_result",
          "data": {
            "text/plain": [
              "<matplotlib.image.AxesImage at 0x7f79b8c82080>"
            ]
          },
          "metadata": {
            "tags": []
          },
          "execution_count": 8
        },
        {
          "output_type": "display_data",
          "data": {
            "image/png": "[encoded data removed]",
            "text/plain": [
              "<Figure size 432x288 with 1 Axes>"
            ]
          },
          "metadata": {
            "tags": [],
            "needs_background": "light"
          }
        }
      ]
    },
    {
      "cell_type": "code",
      "metadata": {
        "id": "LhGAM0Yu7ZI0",
        "colab_type": "code",
        "colab": {
          "base_uri": "https://localhost:8080/",
          "height": 34
        },
        "outputId": "508482ca-760c-42f0-f6b0-e73e9c2130f6"
      },
      "source": [
        "print(X_train.shape,X_test.shape,y_train.shape,y_test.shape)"
      ],
      "execution_count": 9,
      "outputs": [
        {
          "output_type": "stream",
          "text": [
            "(60000, 139, 139, 3) (10000, 139, 139, 3) (60000, 10) (10000, 10)\n"
          ],
          "name": "stdout"
        }
      ]
    },
    {
      "cell_type": "code",
      "metadata": {
        "id": "v0zDtVq87c0g",
        "colab_type": "code",
        "colab": {}
      },
      "source": [
        "base = InceptionV3(include_top = False,weights='imagenet',input_shape = (139,139,3))\n",
        "model = models.Sequential()\n",
        "model.add(base)\n",
        "model.add(GlobalAveragePooling2D())\n",
        "model.add(Dense(4096, activation='relu', name='Dense_Intermediate'))\n",
        "model.add(Dropout(0.5, name='Dropout_Regularization'))\n",
        "model.add(Dense(10, activation='softmax', name='Output'))"
      ],
      "execution_count": 0,
      "outputs": []
    },
    {
      "cell_type": "code",
      "metadata": {
        "id": "u2Hftj-g7h9O",
        "colab_type": "code",
        "colab": {}
      },
      "source": [
        "for cnnlayer in model.layers[0].layers:\n",
        "    cnnlayer.trainable = False\n",
        "model.layers[0].trainable = False"
      ],
      "execution_count": 0,
      "outputs": []
    },
    {
      "cell_type": "code",
      "metadata": {
        "id": "ybnmS-E37mDM",
        "colab_type": "code",
        "colab": {}
      },
      "source": [
        "model.compile(\n",
        "    optimizer='rmsprop',\n",
        "    loss='categorical_crossentropy',\n",
        "    metrics=['accuracy']\n",
        ")"
      ],
      "execution_count": 0,
      "outputs": []
    },
    {
      "cell_type": "code",
      "metadata": {
        "id": "tvk9L6gn7tf5",
        "colab_type": "code",
        "colab": {
          "base_uri": "https://localhost:8080/",
          "height": 323
        },
        "outputId": "f229e92f-96a5-47e4-eb15-6e2e1dbb2f4b"
      },
      "source": [
        "model.summary()"
      ],
      "execution_count": 13,
      "outputs": [
        {
          "output_type": "stream",
          "text": [
            "Model: \"sequential_1\"\n",
            "_________________________________________________________________\n",
            "Layer (type)                 Output Shape              Param #   \n",
            "=================================================================\n",
            "inception_v3 (Model)         (None, 3, 3, 2048)        21802784  \n",
            "_________________________________________________________________\n",
            "global_average_pooling2d_1 ( (None, 2048)              0         \n",
            "_________________________________________________________________\n",
            "Dense_Intermediate (Dense)   (None, 4096)              8392704   \n",
            "_________________________________________________________________\n",
            "Dropout_Regularization (Drop (None, 4096)              0         \n",
            "_________________________________________________________________\n",
            "Output (Dense)               (None, 10)                40970     \n",
            "=================================================================\n",
            "Total params: 30,236,458\n",
            "Trainable params: 8,433,674\n",
            "Non-trainable params: 21,802,784\n",
            "_________________________________________________________________\n"
          ],
          "name": "stdout"
        }
      ]
    },
    {
      "cell_type": "code",
      "metadata": {
        "id": "3wvstxOZ7vpM",
        "colab_type": "code",
        "colab": {
          "base_uri": "https://localhost:8080/",
          "height": 391
        },
        "outputId": "88409fea-342d-4ffb-ba79-130510a49cb6"
      },
      "source": [
        "model.fit(X_train,y_train,epochs=10,batch_size=500,validation_data=(X_test,y_test))"
      ],
      "execution_count": 14,
      "outputs": [
        {
          "output_type": "stream",
          "text": [
            "Train on 60000 samples, validate on 10000 samples\n",
            "Epoch 1/10\n",
            "60000/60000 [==============================] - 58s 973us/step - loss: 2.2492 - accuracy: 0.5992 - val_loss: 3.4332 - val_accuracy: 0.3191\n",
            "Epoch 2/10\n",
            "60000/60000 [==============================] - 47s 788us/step - loss: 0.7371 - accuracy: 0.7711 - val_loss: 2.3727 - val_accuracy: 0.3687\n",
            "Epoch 3/10\n",
            "60000/60000 [==============================] - 47s 788us/step - loss: 0.5696 - accuracy: 0.8183 - val_loss: 3.4734 - val_accuracy: 0.2712\n",
            "Epoch 4/10\n",
            "60000/60000 [==============================] - 47s 787us/step - loss: 0.4740 - accuracy: 0.8470 - val_loss: 3.7990 - val_accuracy: 0.3263\n",
            "Epoch 5/10\n",
            "60000/60000 [==============================] - 47s 787us/step - loss: 0.4090 - accuracy: 0.8686 - val_loss: 2.0146 - val_accuracy: 0.4303\n",
            "Epoch 6/10\n",
            "60000/60000 [==============================] - 47s 787us/step - loss: 0.3586 - accuracy: 0.8832 - val_loss: 3.2497 - val_accuracy: 0.3256\n",
            "Epoch 7/10\n",
            "60000/60000 [==============================] - 47s 787us/step - loss: 0.3133 - accuracy: 0.8977 - val_loss: 3.4327 - val_accuracy: 0.2989\n",
            "Epoch 8/10\n",
            "60000/60000 [==============================] - 47s 787us/step - loss: 0.2693 - accuracy: 0.9116 - val_loss: 6.2288 - val_accuracy: 0.2556\n",
            "Epoch 9/10\n",
            "60000/60000 [==============================] - 47s 787us/step - loss: 0.2473 - accuracy: 0.9201 - val_loss: 3.3894 - val_accuracy: 0.3036\n",
            "Epoch 10/10\n",
            "60000/60000 [==============================] - 47s 788us/step - loss: 0.2167 - accuracy: 0.9288 - val_loss: 4.8569 - val_accuracy: 0.2922\n"
          ],
          "name": "stdout"
        },
        {
          "output_type": "execute_result",
          "data": {
            "text/plain": [
              "<keras.callbacks.callbacks.History at 0x7f794294fa90>"
            ]
          },
          "metadata": {
            "tags": []
          },
          "execution_count": 14
        }
      ]
    },
    {
      "cell_type": "code",
      "metadata": {
        "id": "_Vp8LH8a70_T",
        "colab_type": "code",
        "colab": {}
      },
      "source": [
        "from sklearn.metrics import precision_score,recall_score,log_loss"
      ],
      "execution_count": 0,
      "outputs": []
    },
    {
      "cell_type": "code",
      "metadata": {
        "id": "VSauNJLz922r",
        "colab_type": "code",
        "colab": {
          "base_uri": "https://localhost:8080/",
          "height": 136
        },
        "outputId": "b9fc6a3f-6c38-447d-d2bb-e0b4c73e550c"
      },
      "source": [
        "y_pred = model.predict(X_test)\n",
        "y_pred = y_pred.round().astype(int)\n",
        "y_pred"
      ],
      "execution_count": 16,
      "outputs": [
        {
          "output_type": "execute_result",
          "data": {
            "text/plain": [
              "array([[0, 0, 0, ..., 1, 0, 0],\n",
              "       [0, 0, 0, ..., 0, 0, 0],\n",
              "       [0, 1, 0, ..., 0, 0, 0],\n",
              "       ...,\n",
              "       [0, 0, 0, ..., 0, 0, 0],\n",
              "       [0, 0, 0, ..., 0, 0, 0],\n",
              "       [0, 0, 1, ..., 0, 0, 0]])"
            ]
          },
          "metadata": {
            "tags": []
          },
          "execution_count": 16
        }
      ]
    },
    {
      "cell_type": "code",
      "metadata": {
        "id": "wZR2dz_e-Arr",
        "colab_type": "code",
        "colab": {
          "base_uri": "https://localhost:8080/",
          "height": 204
        },
        "outputId": "817a1920-2174-42ae-c10d-e3681dff079d"
      },
      "source": [
        "classwise_precision = precision_score(y_test,y_pred, average=None)\n",
        "for i in range(len(classwise_precision)):\n",
        "  print(\"Precision for class {} = {}\".format(i,classwise_precision[i]))\n",
        "print(\"Mean Precision = \",classwise_precision.mean())"
      ],
      "execution_count": 17,
      "outputs": [
        {
          "output_type": "stream",
          "text": [
            "Precision for class 0 = 0.16666666666666666\n",
            "Precision for class 1 = 0.9917491749174917\n",
            "Precision for class 2 = 0.1554211261051652\n",
            "Precision for class 3 = 0.2564102564102564\n",
            "Precision for class 4 = 0.7833333333333333\n",
            "Precision for class 5 = 0.3585291113381001\n",
            "Precision for class 6 = 0.20172478440194977\n",
            "Precision for class 7 = 0.4853801169590643\n",
            "Precision for class 8 = 0.8492063492063492\n",
            "Precision for class 9 = 0.3333333333333333\n",
            "Mean Precision =  0.4581754252671709\n"
          ],
          "name": "stdout"
        }
      ]
    },
    {
      "cell_type": "code",
      "metadata": {
        "id": "AWaeD5Bd-FSl",
        "colab_type": "code",
        "colab": {
          "base_uri": "https://localhost:8080/",
          "height": 204
        },
        "outputId": "61608e6e-1f4d-457a-8147-9b0d8e7acbff"
      },
      "source": [
        "classwise_recall = recall_score(y_test,y_pred, average=None)\n",
        "for i in range(len(classwise_recall)):\n",
        "  print(\"Recall for class {} = {}\".format(i,classwise_recall[i]))\n",
        "print(\"Mean Recall = \",classwise_recall.mean())"
      ],
      "execution_count": 18,
      "outputs": [
        {
          "output_type": "stream",
          "text": [
            "Recall for class 0 = 0.0010204081632653062\n",
            "Recall for class 1 = 0.5295154185022026\n",
            "Recall for class 2 = 0.6472868217054264\n",
            "Recall for class 3 = 0.009900990099009901\n",
            "Recall for class 4 = 0.4786150712830957\n",
            "Recall for class 5 = 0.39349775784753366\n",
            "Recall for class 6 = 0.5615866388308977\n",
            "Recall for class 7 = 0.08073929961089495\n",
            "Recall for class 8 = 0.10985626283367557\n",
            "Recall for class 9 = 0.0009910802775024777\n",
            "Mean Recall =  0.28130097491535044\n"
          ],
          "name": "stdout"
        }
      ]
    },
    {
      "cell_type": "code",
      "metadata": {
        "id": "xRsNNG6v-MzU",
        "colab_type": "code",
        "colab": {
          "base_uri": "https://localhost:8080/",
          "height": 34
        },
        "outputId": "0a108bc8-bd81-4e53-f6bb-0c9ee5cffece"
      },
      "source": [
        "print(\"Log Loss = \",log_loss(y_test,y_pred))"
      ],
      "execution_count": 19,
      "outputs": [
        {
          "output_type": "stream",
          "text": [
            "Log Loss =  23.136375014404177\n"
          ],
          "name": "stdout"
        }
      ]
    },
    {
      "cell_type": "code",
      "metadata": {
        "id": "2H4M448YB3gN",
        "colab_type": "code",
        "colab": {}
      },
      "source": [
        ""
      ],
      "execution_count": 0,
      "outputs": []
    }
  ]
}