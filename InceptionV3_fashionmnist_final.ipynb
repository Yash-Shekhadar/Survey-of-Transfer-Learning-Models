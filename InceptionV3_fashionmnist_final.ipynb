{
  "nbformat": 4,
  "nbformat_minor": 0,
  "metadata": {
    "colab": {
      "name": "InceptionV3_fashionmnist_final.ipynb",
      "provenance": [],
      "collapsed_sections": [],
      "machine_shape": "hm"
    },
    "kernelspec": {
      "name": "python3",
      "display_name": "Python 3"
    },
    "accelerator": "GPU"
  },
  "cells": [
    {
      "cell_type": "code",
      "metadata": {
        "id": "Pj9EaAVC6h1a",
        "colab_type": "code",
        "colab": {
          "base_uri": "https://localhost:8080/",
          "height": 34
        },
        "outputId": "c90e6722-ccf2-4723-c89a-91a13eaa4cb7"
      },
      "source": [
        "import cv2\n",
        "import numpy as np\n",
        "from keras.layers import Convolution2D,MaxPooling2D,Dropout,Dense,Flatten, GlobalAveragePooling2D\n",
        "from keras import models,losses,optimizers\n",
        "from keras.preprocessing.image import ImageDataGenerator\n",
        "from keras.applications import InceptionV3\n",
        "from keras.applications.inception_v3 import preprocess_input\n",
        "from keras.models import Model\n",
        "import matplotlib.pyplot as plt\n",
        "from keras.utils import to_categorical"
      ],
      "execution_count": 1,
      "outputs": [
        {
          "output_type": "stream",
          "text": [
            "Using TensorFlow backend.\n"
          ],
          "name": "stderr"
        }
      ]
    },
    {
      "cell_type": "code",
      "metadata": {
        "id": "UrizKBSi6vVe",
        "colab_type": "code",
        "colab": {}
      },
      "source": [
        "from keras.datasets import fashion_mnist\n",
        "(x_train, y_train), (x_test, y_test) = fashion_mnist.load_data()\n",
        "y_train = to_categorical(y_train)\n",
        "y_test = to_categorical(y_test)"
      ],
      "execution_count": 0,
      "outputs": []
    },
    {
      "cell_type": "code",
      "metadata": {
        "id": "H2nIesX17BHN",
        "colab_type": "code",
        "colab": {
          "base_uri": "https://localhost:8080/",
          "height": 282
        },
        "outputId": "de111c11-3ac4-4b16-a700-3884463696b2"
      },
      "source": [
        "plt.imshow(x_train[0])"
      ],
      "execution_count": 3,
      "outputs": [
        {
          "output_type": "execute_result",
          "data": {
            "text/plain": [
              "<matplotlib.image.AxesImage at 0x7f58e1d0c5c0>"
            ]
          },
          "metadata": {
            "tags": []
          },
          "execution_count": 3
        },
        {
          "output_type": "display_data",
          "data": {
            "image/png": "[encoded data removed]",
            "text/plain": [
              "<Figure size 432x288 with 1 Axes>"
            ]
          },
          "metadata": {
            "tags": [],
            "needs_background": "light"
          }
        }
      ]
    },
    {
      "cell_type": "code",
      "metadata": {
        "id": "k0AdRUA67EqR",
        "colab_type": "code",
        "colab": {}
      },
      "source": [
        "def to_rgb(img):\n",
        "    img = cv2.resize(img, dim, interpolation = cv2.INTER_AREA) \n",
        "    img_rgb = np.asarray(np.dstack((img, img, img)), dtype=np.uint8)\n",
        "    return img_rgb"
      ],
      "execution_count": 0,
      "outputs": []
    },
    {
      "cell_type": "code",
      "metadata": {
        "id": "DHXtgt-E7Kqf",
        "colab_type": "code",
        "colab": {}
      },
      "source": [
        "rgb_list = []\n",
        "dim = (139, 139)\n",
        "for i in range(len(x_train)):\n",
        "    rgb = to_rgb(x_train[i])\n",
        "    rgb_list.append(rgb)\n",
        "    #print(rgb.shape) \n",
        "rgb_arr = np.stack([rgb_list],axis=4)\n",
        "X_train = np.squeeze(rgb_arr, axis=4)"
      ],
      "execution_count": 0,
      "outputs": []
    },
    {
      "cell_type": "code",
      "metadata": {
        "id": "9_sFJsKp7NYb",
        "colab_type": "code",
        "colab": {}
      },
      "source": [
        "rgb_list = []\n",
        "for i in range(len(x_test)):\n",
        "    rgb = to_rgb(x_test[i])\n",
        "    rgb_list.append(rgb)\n",
        "    #print(rgb.shape) \n",
        "rgb_arr = np.stack([rgb_list],axis=4)\n",
        "X_test = np.squeeze(rgb_arr, axis=4)"
      ],
      "execution_count": 0,
      "outputs": []
    },
    {
      "cell_type": "code",
      "metadata": {
        "id": "EPdPzjwUCWVb",
        "colab_type": "code",
        "colab": {}
      },
      "source": [
        "X_train = preprocess_input(X_train)\n",
        "X_test = preprocess_input(X_test)"
      ],
      "execution_count": 0,
      "outputs": []
    },
    {
      "cell_type": "code",
      "metadata": {
        "id": "2w1TvbJF7Suw",
        "colab_type": "code",
        "colab": {
          "base_uri": "https://localhost:8080/",
          "height": 303
        },
        "outputId": "b42b5dbb-1dcc-4847-b90d-e8e3535aad32"
      },
      "source": [
        "plt.imshow(X_train[0])"
      ],
      "execution_count": 10,
      "outputs": [
        {
          "output_type": "stream",
          "text": [
            "Clipping input data to the valid range for imshow with RGB data ([0..1] for floats or [0..255] for integers).\n"
          ],
          "name": "stderr"
        },
        {
          "output_type": "execute_result",
          "data": {
            "text/plain": [
              "<matplotlib.image.AxesImage at 0x7f58e16d45f8>"
            ]
          },
          "metadata": {
            "tags": []
          },
          "execution_count": 10
        },
        {
          "output_type": "display_data",
          "data": {
            "image/png": "[encoded data removed]",
            "text/plain": [
              "<Figure size 432x288 with 1 Axes>"
            ]
          },
          "metadata": {
            "tags": [],
            "needs_background": "light"
          }
        }
      ]
    },
    {
      "cell_type": "code",
      "metadata": {
        "id": "LhGAM0Yu7ZI0",
        "colab_type": "code",
        "colab": {
          "base_uri": "https://localhost:8080/",
          "height": 34
        },
        "outputId": "982c7a01-6b7c-4ad0-c73a-ecac4b414341"
      },
      "source": [
        "print(X_train.shape,X_test.shape,y_train.shape,y_test.shape)"
      ],
      "execution_count": 11,
      "outputs": [
        {
          "output_type": "stream",
          "text": [
            "(60000, 139, 139, 3) (10000, 139, 139, 3) (60000, 10) (10000, 10)\n"
          ],
          "name": "stdout"
        }
      ]
    },
    {
      "cell_type": "code",
      "metadata": {
        "id": "v0zDtVq87c0g",
        "colab_type": "code",
        "colab": {}
      },
      "source": [
        "base = InceptionV3(include_top = False,weights='imagenet',input_shape = (139,139,3))\n",
        "model = models.Sequential()\n",
        "model.add(base)\n",
        "model.add(GlobalAveragePooling2D())\n",
        "model.add(Dense(4096, activation='relu', name='Dense_Intermediate'))\n",
        "model.add(Dropout(0.5, name='Dropout_Regularization'))\n",
        "model.add(Dense(10, activation='softmax', name='Output'))"
      ],
      "execution_count": 0,
      "outputs": []
    },
    {
      "cell_type": "code",
      "metadata": {
        "id": "u2Hftj-g7h9O",
        "colab_type": "code",
        "colab": {}
      },
      "source": [
        "for cnnlayer in model.layers[0].layers:\n",
        "    cnnlayer.trainable = False\n",
        "model.layers[0].trainable = False"
      ],
      "execution_count": 0,
      "outputs": []
    },
    {
      "cell_type": "code",
      "metadata": {
        "id": "ybnmS-E37mDM",
        "colab_type": "code",
        "colab": {}
      },
      "source": [
        "model.compile(\n",
        "    optimizer='rmsprop',\n",
        "    loss='categorical_crossentropy',\n",
        "    metrics=['accuracy']\n",
        ")"
      ],
      "execution_count": 0,
      "outputs": []
    },
    {
      "cell_type": "code",
      "metadata": {
        "id": "tvk9L6gn7tf5",
        "colab_type": "code",
        "colab": {
          "base_uri": "https://localhost:8080/",
          "height": 323
        },
        "outputId": "01851c77-53d7-4b11-f87b-0ef135baa7c0"
      },
      "source": [
        "model.summary()"
      ],
      "execution_count": 15,
      "outputs": [
        {
          "output_type": "stream",
          "text": [
            "Model: \"sequential_1\"\n",
            "_________________________________________________________________\n",
            "Layer (type)                 Output Shape              Param #   \n",
            "=================================================================\n",
            "inception_v3 (Model)         (None, 3, 3, 2048)        21802784  \n",
            "_________________________________________________________________\n",
            "global_average_pooling2d_1 ( (None, 2048)              0         \n",
            "_________________________________________________________________\n",
            "Dense_Intermediate (Dense)   (None, 4096)              8392704   \n",
            "_________________________________________________________________\n",
            "Dropout_Regularization (Drop (None, 4096)              0         \n",
            "_________________________________________________________________\n",
            "Output (Dense)               (None, 10)                40970     \n",
            "=================================================================\n",
            "Total params: 30,236,458\n",
            "Trainable params: 8,433,674\n",
            "Non-trainable params: 21,802,784\n",
            "_________________________________________________________________\n"
          ],
          "name": "stdout"
        }
      ]
    },
    {
      "cell_type": "code",
      "metadata": {
        "id": "3wvstxOZ7vpM",
        "colab_type": "code",
        "colab": {
          "base_uri": "https://localhost:8080/",
          "height": 391
        },
        "outputId": "10de9228-a8ac-4889-cb5d-35045642dd7d"
      },
      "source": [
        "model.fit(X_train,y_train,epochs=10,batch_size=500,validation_data=(X_test,y_test))"
      ],
      "execution_count": 16,
      "outputs": [
        {
          "output_type": "stream",
          "text": [
            "Train on 60000 samples, validate on 10000 samples\n",
            "Epoch 1/10\n",
            "60000/60000 [==============================] - 59s 977us/step - loss: 1.9527 - accuracy: 0.5995 - val_loss: 1.8115 - val_accuracy: 0.5350\n",
            "Epoch 2/10\n",
            "60000/60000 [==============================] - 47s 791us/step - loss: 0.7725 - accuracy: 0.7346 - val_loss: 2.0634 - val_accuracy: 0.5398\n",
            "Epoch 3/10\n",
            "60000/60000 [==============================] - 47s 790us/step - loss: 0.6486 - accuracy: 0.7720 - val_loss: 1.6935 - val_accuracy: 0.5782\n",
            "Epoch 4/10\n",
            "60000/60000 [==============================] - 47s 789us/step - loss: 0.5820 - accuracy: 0.7948 - val_loss: 2.7980 - val_accuracy: 0.5089\n",
            "Epoch 5/10\n",
            "60000/60000 [==============================] - 47s 790us/step - loss: 0.5283 - accuracy: 0.8128 - val_loss: 2.9013 - val_accuracy: 0.5272\n",
            "Epoch 6/10\n",
            "60000/60000 [==============================] - 47s 788us/step - loss: 0.4694 - accuracy: 0.8308 - val_loss: 3.0958 - val_accuracy: 0.5199\n",
            "Epoch 7/10\n",
            "60000/60000 [==============================] - 47s 788us/step - loss: 0.4349 - accuracy: 0.8451 - val_loss: 2.0856 - val_accuracy: 0.5974\n",
            "Epoch 8/10\n",
            "60000/60000 [==============================] - 47s 788us/step - loss: 0.3887 - accuracy: 0.8620 - val_loss: 1.9374 - val_accuracy: 0.6111\n",
            "Epoch 9/10\n",
            "60000/60000 [==============================] - 47s 788us/step - loss: 0.3543 - accuracy: 0.8730 - val_loss: 3.2573 - val_accuracy: 0.5218\n",
            "Epoch 10/10\n",
            "60000/60000 [==============================] - 47s 790us/step - loss: 0.3269 - accuracy: 0.8843 - val_loss: 2.7778 - val_accuracy: 0.5569\n"
          ],
          "name": "stdout"
        },
        {
          "output_type": "execute_result",
          "data": {
            "text/plain": [
              "<keras.callbacks.callbacks.History at 0x7f5865343470>"
            ]
          },
          "metadata": {
            "tags": []
          },
          "execution_count": 16
        }
      ]
    },
    {
      "cell_type": "code",
      "metadata": {
        "id": "_Vp8LH8a70_T",
        "colab_type": "code",
        "colab": {}
      },
      "source": [
        "from sklearn.metrics import precision_score,recall_score,log_loss"
      ],
      "execution_count": 0,
      "outputs": []
    },
    {
      "cell_type": "code",
      "metadata": {
        "id": "VSauNJLz922r",
        "colab_type": "code",
        "colab": {
          "base_uri": "https://localhost:8080/",
          "height": 136
        },
        "outputId": "233a30aa-3548-44b5-9f7a-11d04ced7592"
      },
      "source": [
        "y_pred = model.predict(X_test)\n",
        "y_pred = y_pred.round().astype(int)\n",
        "y_pred"
      ],
      "execution_count": 18,
      "outputs": [
        {
          "output_type": "execute_result",
          "data": {
            "text/plain": [
              "array([[0, 0, 0, ..., 0, 0, 1],\n",
              "       [0, 0, 1, ..., 0, 0, 0],\n",
              "       [0, 1, 0, ..., 0, 0, 0],\n",
              "       ...,\n",
              "       [0, 1, 0, ..., 0, 0, 0],\n",
              "       [0, 1, 0, ..., 0, 0, 0],\n",
              "       [0, 0, 0, ..., 0, 0, 0]])"
            ]
          },
          "metadata": {
            "tags": []
          },
          "execution_count": 18
        }
      ]
    },
    {
      "cell_type": "code",
      "metadata": {
        "id": "wZR2dz_e-Arr",
        "colab_type": "code",
        "colab": {
          "base_uri": "https://localhost:8080/",
          "height": 204
        },
        "outputId": "11297d45-25a8-43fb-f646-39988f55e6d0"
      },
      "source": [
        "classwise_precision = precision_score(y_test,y_pred, average=None)\n",
        "for i in range(len(classwise_precision)):\n",
        "  print(\"Precision for class {} = {}\".format(i,classwise_precision[i]))\n",
        "print(\"Mean Precision = \",classwise_precision.mean())"
      ],
      "execution_count": 19,
      "outputs": [
        {
          "output_type": "stream",
          "text": [
            "Precision for class 0 = 0.6451612903225806\n",
            "Precision for class 1 = 0.5556192660550459\n",
            "Precision for class 2 = 0.8208955223880597\n",
            "Precision for class 3 = 0.4761549925484352\n",
            "Precision for class 4 = 0.42658730158730157\n",
            "Precision for class 5 = 0.7917159763313609\n",
            "Precision for class 6 = 0.2726027397260274\n",
            "Precision for class 7 = 0.9425287356321839\n",
            "Precision for class 8 = 0.7578268876611418\n",
            "Precision for class 9 = 0.6824953445065177\n",
            "Mean Precision =  0.6371588056758655\n"
          ],
          "name": "stdout"
        }
      ]
    },
    {
      "cell_type": "code",
      "metadata": {
        "id": "AWaeD5Bd-FSl",
        "colab_type": "code",
        "colab": {
          "base_uri": "https://localhost:8080/",
          "height": 204
        },
        "outputId": "32984a17-c687-489c-89ac-1aa0717ee860"
      },
      "source": [
        "classwise_recall = recall_score(y_test,y_pred, average=None)\n",
        "for i in range(len(classwise_recall)):\n",
        "  print(\"Recall for class {} = {}\".format(i,classwise_recall[i]))\n",
        "print(\"Mean Recall = \",classwise_recall.mean())"
      ],
      "execution_count": 20,
      "outputs": [
        {
          "output_type": "stream",
          "text": [
            "Recall for class 0 = 0.26\n",
            "Recall for class 1 = 0.969\n",
            "Recall for class 2 = 0.055\n",
            "Recall for class 3 = 0.639\n",
            "Recall for class 4 = 0.86\n",
            "Recall for class 5 = 0.669\n",
            "Recall for class 6 = 0.199\n",
            "Recall for class 7 = 0.246\n",
            "Recall for class 8 = 0.823\n",
            "Recall for class 9 = 0.733\n",
            "Mean Recall =  0.5453\n"
          ],
          "name": "stdout"
        }
      ]
    },
    {
      "cell_type": "code",
      "metadata": {
        "id": "xRsNNG6v-MzU",
        "colab_type": "code",
        "colab": {
          "base_uri": "https://localhost:8080/",
          "height": 34
        },
        "outputId": "ea075b23-a4cd-497d-b76b-691f20fe5034"
      },
      "source": [
        "print(\"Log Loss = \",log_loss(y_test,y_pred))"
      ],
      "execution_count": 21,
      "outputs": [
        {
          "output_type": "stream",
          "text": [
            "Log Loss =  14.312178162523095\n"
          ],
          "name": "stdout"
        }
      ]
    },
    {
      "cell_type": "code",
      "metadata": {
        "id": "2H4M448YB3gN",
        "colab_type": "code",
        "colab": {}
      },
      "source": [
        ""
      ],
      "execution_count": 0,
      "outputs": []
    }
  ]
}