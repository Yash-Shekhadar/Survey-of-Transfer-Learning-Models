{
 "cells": [
  {
   "cell_type": "markdown",
   "metadata": {},
   "source": [
    "# VGG16 on Cifar10 Dataset"
   ]
  },
  {
   "cell_type": "markdown",
   "metadata": {},
   "source": [
    "#### Importing Necessary Libraries"
   ]
  },
  {
   "cell_type": "code",
   "execution_count": 1,
   "metadata": {
    "colab": {
     "base_uri": "https://localhost:8080/",
     "height": 34
    },
    "colab_type": "code",
    "id": "NHnDn_uSFIEW",
    "outputId": "ae5c5fbc-f330-42f9-851f-4b2d7684f2ec"
   },
   "outputs": [
    {
     "name": "stderr",
     "output_type": "stream",
     "text": [
      "Using TensorFlow backend.\n"
     ]
    }
   ],
   "source": [
    "import cv2\n",
    "import numpy as np\n",
    "import matplotlib.pyplot as plt\n",
    "from keras.layers import Convolution2D,MaxPooling2D,Dropout,Dense,Flatten, GlobalAveragePooling2D\n",
    "from keras import models,losses,optimizers\n",
    "from keras.preprocessing.image import ImageDataGenerator\n",
    "from keras.applications import VGG16\n",
    "from keras.applications.vgg16 import preprocess_input\n",
    "from keras.models import Model"
   ]
  },
  {
   "cell_type": "markdown",
   "metadata": {},
   "source": [
    "#### Loading the dataset and performing inbuilt pre-processing"
   ]
  },
  {
   "cell_type": "code",
   "execution_count": 2,
   "metadata": {
    "colab": {
     "base_uri": "https://localhost:8080/",
     "height": 51
    },
    "colab_type": "code",
    "id": "CSy-ul7GFark",
    "outputId": "7229c121-0a00-4ec8-eec7-d4e728387aba"
   },
   "outputs": [
    {
     "name": "stdout",
     "output_type": "stream",
     "text": [
      "Downloading data from https://www.cs.toronto.edu/~kriz/cifar-10-python.tar.gz\n",
      "170500096/170498071 [==============================] - 6s 0us/step\n"
     ]
    }
   ],
   "source": [
    "from tensorflow.keras.datasets import cifar10\n",
    "(X_train,y_train),(X_test,y_test) = cifar10.load_data()\n",
    "from sklearn.preprocessing import OneHotEncoder\n",
    "ohe = OneHotEncoder()\n",
    "y_train = ohe.fit_transform(y_train).toarray().astype(int)\n",
    "y_test = ohe.transform(y_test).toarray().astype(int)\n",
    "X_train = preprocess_input(X_train)\n",
    "X_test = preprocess_input(X_test)"
   ]
  },
  {
   "cell_type": "code",
   "execution_count": 3,
   "metadata": {
    "colab": {
     "base_uri": "https://localhost:8080/",
     "height": 300
    },
    "colab_type": "code",
    "id": "qcU_GP6mPvKK",
    "outputId": "a23611d5-70a4-4486-b483-ce3526ef77f5"
   },
   "outputs": [
    {
     "name": "stderr",
     "output_type": "stream",
     "text": [
      "Clipping input data to the valid range for imshow with RGB data ([0..1] for floats or [0..255] for integers).\n"
     ]
    },
    {
     "data": {
      "text/plain": [
       "<matplotlib.image.AxesImage at 0x7f7f2c0352b0>"
      ]
     },
     "execution_count": 3,
     "metadata": {
      "tags": []
     },
     "output_type": "execute_result"
    },
    {
     "data": {
      "image/png": "[encoded data removed]",
      "text/plain": [
       "<Figure size 432x288 with 1 Axes>"
      ]
     },
     "metadata": {
      "needs_background": "light",
      "tags": []
     },
     "output_type": "display_data"
    }
   ],
   "source": [
    "plt.imshow(X_train[0])"
   ]
  },
  {
   "cell_type": "markdown",
   "metadata": {},
   "source": [
    "#### Function to resize the input image\n",
    "    - Intitial size : (32x32)\n",
    "    - Final size : (100x100)"
   ]
  },
  {
   "cell_type": "code",
   "execution_count": 0,
   "metadata": {
    "colab": {},
    "colab_type": "code",
    "id": "5n78wtYnPfYK"
   },
   "outputs": [],
   "source": [
    "def resize_data(data):\n",
    "    data_upscaled = []\n",
    "    for i, img in enumerate(data):\n",
    "        large_img = cv2.resize(img, dsize=(100,100))\n",
    "        data_upscaled.append(large_img)\n",
    "    return data_upscaled\n",
    "X_train = np.array(resize_data(X_train))\n",
    "X_test = np.array(resize_data(X_test))"
   ]
  },
  {
   "cell_type": "code",
   "execution_count": 5,
   "metadata": {
    "colab": {
     "base_uri": "https://localhost:8080/",
     "height": 319
    },
    "colab_type": "code",
    "id": "hfZKbQSTFqkK",
    "outputId": "da71ef0b-1806-424e-8b1f-daf7347df963"
   },
   "outputs": [
    {
     "name": "stderr",
     "output_type": "stream",
     "text": [
      "Clipping input data to the valid range for imshow with RGB data ([0..1] for floats or [0..255] for integers).\n"
     ]
    },
    {
     "name": "stdout",
     "output_type": "stream",
     "text": [
      "5.90979\n"
     ]
    },
    {
     "data": {
      "text/plain": [
       "<matplotlib.image.AxesImage at 0x7f7f2bb1aa20>"
      ]
     },
     "execution_count": 5,
     "metadata": {
      "tags": []
     },
     "output_type": "execute_result"
    },
    {
     "data": {
      "image/png": "[encoded data removed]",
      "text/plain": [
       "<Figure size 432x288 with 1 Axes>"
      ]
     },
     "metadata": {
      "needs_background": "light",
      "tags": []
     },
     "output_type": "display_data"
    }
   ],
   "source": [
    "import matplotlib.pyplot as plt\n",
    "print(X_train.mean())\n",
    "plt.imshow(X_train[56])"
   ]
  },
  {
   "cell_type": "code",
   "execution_count": 6,
   "metadata": {
    "colab": {
     "base_uri": "https://localhost:8080/",
     "height": 34
    },
    "colab_type": "code",
    "id": "eUmy7wHSIZDF",
    "outputId": "f0f8d24e-4be8-482c-bacd-787745f4ebd0"
   },
   "outputs": [
    {
     "name": "stdout",
     "output_type": "stream",
     "text": [
      "(50000, 100, 100, 3) (10000, 100, 100, 3) (50000, 10) (10000, 10)\n"
     ]
    }
   ],
   "source": [
    "print(X_train.shape,X_test.shape,y_train.shape,y_test.shape)"
   ]
  },
  {
   "cell_type": "markdown",
   "metadata": {},
   "source": [
    "#### Model Building"
   ]
  },
  {
   "cell_type": "code",
   "execution_count": 7,
   "metadata": {
    "colab": {
     "base_uri": "https://localhost:8080/",
     "height": 51
    },
    "colab_type": "code",
    "id": "0IV0xAGrFvSu",
    "outputId": "5481d8c9-0a0d-443c-eaf7-6cf97fe6c1d5"
   },
   "outputs": [
    {
     "name": "stdout",
     "output_type": "stream",
     "text": [
      "Downloading data from https://github.com/fchollet/deep-learning-models/releases/download/v0.1/vgg16_weights_tf_dim_ordering_tf_kernels_notop.h5\n",
      "58892288/58889256 [==============================] - 2s 0us/step\n"
     ]
    }
   ],
   "source": [
    "base = VGG16(include_top = False,weights='imagenet',input_shape = (100,100,3))\n",
    "model = models.Sequential()\n",
    "model.add(base)\n",
    "model.add(GlobalAveragePooling2D())\n",
    "model.add(Dense(4096, activation='relu', name='Dense_Intermediate'))\n",
    "model.add(Dropout(0.5, name='Dropout_Regularization'))\n",
    "model.add(Dense(10, activation='softmax', name='Output'))"
   ]
  },
  {
   "cell_type": "markdown",
   "metadata": {},
   "source": [
    "#### Freezing the layers in base model"
   ]
  },
  {
   "cell_type": "code",
   "execution_count": 0,
   "metadata": {
    "colab": {},
    "colab_type": "code",
    "id": "AppLfX3cGdP7"
   },
   "outputs": [],
   "source": [
    "for cnnlayer in model.layers[0].layers:\n",
    "    cnnlayer.trainable = False\n",
    "model.layers[0].trainable = False"
   ]
  },
  {
   "cell_type": "code",
   "execution_count": 0,
   "metadata": {
    "colab": {},
    "colab_type": "code",
    "id": "8I2MZOXTGfqB"
   },
   "outputs": [],
   "source": [
    "model.compile(\n",
    "    optimizer='adam',\n",
    "    loss='categorical_crossentropy',\n",
    "    metrics=['accuracy']\n",
    ")"
   ]
  },
  {
   "cell_type": "code",
   "execution_count": 10,
   "metadata": {
    "colab": {
     "base_uri": "https://localhost:8080/",
     "height": 323
    },
    "colab_type": "code",
    "id": "zT7dLqSCHfKT",
    "outputId": "e5b1a8a2-adb6-4295-d19e-80957116bcda"
   },
   "outputs": [
    {
     "name": "stdout",
     "output_type": "stream",
     "text": [
      "Model: \"sequential_1\"\n",
      "_________________________________________________________________\n",
      "Layer (type)                 Output Shape              Param #   \n",
      "=================================================================\n",
      "vgg16 (Model)                (None, 3, 3, 512)         14714688  \n",
      "_________________________________________________________________\n",
      "global_average_pooling2d_1 ( (None, 512)               0         \n",
      "_________________________________________________________________\n",
      "Dense_Intermediate (Dense)   (None, 4096)              2101248   \n",
      "_________________________________________________________________\n",
      "Dropout_Regularization (Drop (None, 4096)              0         \n",
      "_________________________________________________________________\n",
      "Output (Dense)               (None, 10)                40970     \n",
      "=================================================================\n",
      "Total params: 16,856,906\n",
      "Trainable params: 2,142,218\n",
      "Non-trainable params: 14,714,688\n",
      "_________________________________________________________________\n"
     ]
    }
   ],
   "source": [
    "model.summary()"
   ]
  },
  {
   "cell_type": "code",
   "execution_count": 11,
   "metadata": {
    "colab": {
     "base_uri": "https://localhost:8080/",
     "height": 391
    },
    "colab_type": "code",
    "id": "xSZWlnRoHshn",
    "outputId": "baeef1d0-d9a2-4dd6-ee55-59baaa8b66ee"
   },
   "outputs": [
    {
     "name": "stdout",
     "output_type": "stream",
     "text": [
      "Train on 50000 samples, validate on 10000 samples\n",
      "Epoch 1/10\n",
      "50000/50000 [==============================] - 128s 3ms/step - loss: 1.0561 - accuracy: 0.7628 - val_loss: 0.4855 - val_accuracy: 0.8321\n",
      "Epoch 2/10\n",
      "50000/50000 [==============================] - 116s 2ms/step - loss: 0.4300 - accuracy: 0.8544 - val_loss: 0.4683 - val_accuracy: 0.8384\n",
      "Epoch 3/10\n",
      "50000/50000 [==============================] - 115s 2ms/step - loss: 0.3444 - accuracy: 0.8814 - val_loss: 0.4441 - val_accuracy: 0.8519\n",
      "Epoch 4/10\n",
      "50000/50000 [==============================] - 115s 2ms/step - loss: 0.2807 - accuracy: 0.9038 - val_loss: 0.4385 - val_accuracy: 0.8569\n",
      "Epoch 5/10\n",
      "50000/50000 [==============================] - 115s 2ms/step - loss: 0.2371 - accuracy: 0.9169 - val_loss: 0.4401 - val_accuracy: 0.8561\n",
      "Epoch 6/10\n",
      "50000/50000 [==============================] - 115s 2ms/step - loss: 0.1958 - accuracy: 0.9326 - val_loss: 0.4612 - val_accuracy: 0.8534\n",
      "Epoch 7/10\n",
      "50000/50000 [==============================] - 115s 2ms/step - loss: 0.1680 - accuracy: 0.9416 - val_loss: 0.4736 - val_accuracy: 0.8546\n",
      "Epoch 8/10\n",
      "50000/50000 [==============================] - 115s 2ms/step - loss: 0.1504 - accuracy: 0.9477 - val_loss: 0.4779 - val_accuracy: 0.8561\n",
      "Epoch 9/10\n",
      "50000/50000 [==============================] - 115s 2ms/step - loss: 0.1279 - accuracy: 0.9562 - val_loss: 0.4966 - val_accuracy: 0.8574\n",
      "Epoch 10/10\n",
      "50000/50000 [==============================] - 115s 2ms/step - loss: 0.1140 - accuracy: 0.9617 - val_loss: 0.5011 - val_accuracy: 0.8573\n"
     ]
    },
    {
     "data": {
      "text/plain": [
       "<keras.callbacks.callbacks.History at 0x7f7f20164be0>"
      ]
     },
     "execution_count": 11,
     "metadata": {
      "tags": []
     },
     "output_type": "execute_result"
    }
   ],
   "source": [
    "model.fit(X_train,y_train,epochs=10,batch_size=500,validation_data=(X_test,y_test))"
   ]
  },
  {
   "cell_type": "markdown",
   "metadata": {},
   "source": [
    "#### Performance Evaluation"
   ]
  },
  {
   "cell_type": "code",
   "execution_count": 0,
   "metadata": {
    "colab": {},
    "colab_type": "code",
    "id": "pg7y5qSxH59L"
   },
   "outputs": [],
   "source": [
    "from sklearn.metrics import precision_score,recall_score,log_loss"
   ]
  },
  {
   "cell_type": "code",
   "execution_count": 13,
   "metadata": {
    "colab": {
     "base_uri": "https://localhost:8080/",
     "height": 136
    },
    "colab_type": "code",
    "id": "yZ_KeXTwy067",
    "outputId": "9b6707cf-4bb3-4d6f-f850-2b89e7494661"
   },
   "outputs": [
    {
     "data": {
      "text/plain": [
       "array([[0, 0, 0, ..., 0, 0, 0],\n",
       "       [0, 0, 0, ..., 0, 1, 0],\n",
       "       [0, 0, 0, ..., 0, 1, 0],\n",
       "       ...,\n",
       "       [0, 0, 0, ..., 0, 0, 0],\n",
       "       [0, 1, 0, ..., 0, 0, 0],\n",
       "       [0, 0, 0, ..., 1, 0, 0]])"
      ]
     },
     "execution_count": 13,
     "metadata": {
      "tags": []
     },
     "output_type": "execute_result"
    }
   ],
   "source": [
    "y_pred = model.predict(X_test)\n",
    "y_pred = y_pred.round().astype(int)\n",
    "y_pred"
   ]
  },
  {
   "cell_type": "code",
   "execution_count": 15,
   "metadata": {
    "colab": {
     "base_uri": "https://localhost:8080/",
     "height": 204
    },
    "colab_type": "code",
    "id": "RJiYHgK-10hP",
    "outputId": "4f170837-987b-4b52-b6d6-efc94b2957bc"
   },
   "outputs": [
    {
     "name": "stdout",
     "output_type": "stream",
     "text": [
      "Precision for class 0 = 0.9033613445378151\n",
      "Precision for class 1 = 0.9369747899159664\n",
      "Precision for class 2 = 0.8456104944500504\n",
      "Precision for class 3 = 0.7884828349944629\n",
      "Precision for class 4 = 0.843322818086225\n",
      "Precision for class 5 = 0.7789179104477612\n",
      "Precision for class 6 = 0.9078674948240165\n",
      "Precision for class 7 = 0.9161220043572985\n",
      "Precision for class 8 = 0.9099009900990099\n",
      "Precision for class 9 = 0.9109311740890689\n",
      "Mean Precision =  0.8741491855801675\n"
     ]
    }
   ],
   "source": [
    "classwise_precision = precision_score(y_test,y_pred, average=None)\n",
    "for i in range(len(classwise_precision)):\n",
    "  print(\"Precision for class {} = {}\".format(i,classwise_precision[i]))\n",
    "print(\"Mean Precision = \",classwise_precision.mean())"
   ]
  },
  {
   "cell_type": "code",
   "execution_count": 16,
   "metadata": {
    "colab": {
     "base_uri": "https://localhost:8080/",
     "height": 204
    },
    "colab_type": "code",
    "id": "gmjTNOVF18QP",
    "outputId": "4541f4c7-0115-4d45-ccb1-5ddaf5f777c0"
   },
   "outputs": [
    {
     "name": "stdout",
     "output_type": "stream",
     "text": [
      "Recall for class 0 = 0.86\n",
      "Recall for class 1 = 0.892\n",
      "Recall for class 2 = 0.838\n",
      "Recall for class 3 = 0.712\n",
      "Recall for class 4 = 0.802\n",
      "Recall for class 5 = 0.835\n",
      "Recall for class 6 = 0.877\n",
      "Recall for class 7 = 0.841\n",
      "Recall for class 8 = 0.919\n",
      "Recall for class 9 = 0.9\n",
      "Mean Recall =  0.8476000000000001\n"
     ]
    }
   ],
   "source": [
    "classwise_recall = recall_score(y_test,y_pred, average=None)\n",
    "for i in range(len(classwise_recall)):\n",
    "  print(\"Recall for class {} = {}\".format(i,classwise_recall[i]))\n",
    "print(\"Mean Recall = \",classwise_recall.mean())"
   ]
  },
  {
   "cell_type": "code",
   "execution_count": 17,
   "metadata": {
    "colab": {
     "base_uri": "https://localhost:8080/",
     "height": 34
    },
    "colab_type": "code",
    "id": "2Nt1kPI74KaZ",
    "outputId": "38e57026-2239-49d4-f7ef-31bf98bc7211"
   },
   "outputs": [
    {
     "name": "stdout",
     "output_type": "stream",
     "text": [
      "Log Loss =  4.306294640917473\n"
     ]
    }
   ],
   "source": [
    "print(\"Log Loss = \",log_loss(y_test,y_pred))"
   ]
  },
  {
   "cell_type": "code",
   "execution_count": 0,
   "metadata": {
    "colab": {},
    "colab_type": "code",
    "id": "x9-py1ah4xNX"
   },
   "outputs": [],
   "source": []
  }
 ],
 "metadata": {
  "accelerator": "GPU",
  "colab": {
   "collapsed_sections": [],
   "machine_shape": "hm",
   "name": "VGG_metrics.ipynb",
   "provenance": []
  },
  "kernelspec": {
   "display_name": "Python 3",
   "language": "python",
   "name": "python3"
  },
  "language_info": {
   "codemirror_mode": {
    "name": "ipython",
    "version": 3
   },
   "file_extension": ".py",
   "mimetype": "text/x-python",
   "name": "python",
   "nbconvert_exporter": "python",
   "pygments_lexer": "ipython3",
   "version": "3.7.6"
  }
 },
 "nbformat": 4,
 "nbformat_minor": 1
}
