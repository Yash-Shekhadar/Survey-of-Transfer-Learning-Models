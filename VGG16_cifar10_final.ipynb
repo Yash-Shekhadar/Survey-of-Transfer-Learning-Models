{
  "nbformat": 4,
  "nbformat_minor": 0,
  "metadata": {
    "accelerator": "GPU",
    "colab": {
      "name": "VGG16_cifar10_final.ipynb",
      "provenance": [],
      "collapsed_sections": [],
      "machine_shape": "hm"
    },
    "kernelspec": {
      "display_name": "Python 3",
      "language": "python",
      "name": "python3"
    },
    "language_info": {
      "codemirror_mode": {
        "name": "ipython",
        "version": 3
      },
      "file_extension": ".py",
      "mimetype": "text/x-python",
      "name": "python",
      "nbconvert_exporter": "python",
      "pygments_lexer": "ipython3",
      "version": "3.7.6"
    }
  },
  "cells": [
    {
      "cell_type": "markdown",
      "metadata": {
        "id": "80Avdj8xFSUo",
        "colab_type": "text"
      },
      "source": [
        "# VGG16 on Cifar10 Dataset"
      ]
    },
    {
      "cell_type": "markdown",
      "metadata": {
        "id": "x_h373D-FSUp",
        "colab_type": "text"
      },
      "source": [
        "#### Importing Necessary Libraries"
      ]
    },
    {
      "cell_type": "code",
      "metadata": {
        "colab_type": "code",
        "id": "NHnDn_uSFIEW",
        "outputId": "ee3634db-5c78-4607-b6fb-a7f9bd7b5d86",
        "colab": {
          "base_uri": "https://localhost:8080/",
          "height": 34
        }
      },
      "source": [
        "import cv2\n",
        "import numpy as np\n",
        "import matplotlib.pyplot as plt\n",
        "from keras.layers import Convolution2D,MaxPooling2D,Dropout,Dense,Flatten, GlobalAveragePooling2D\n",
        "from keras import models,losses,optimizers\n",
        "from keras.preprocessing.image import ImageDataGenerator\n",
        "from keras.applications import VGG16\n",
        "from keras.applications.vgg16 import preprocess_input\n",
        "from keras.models import Model"
      ],
      "execution_count": 1,
      "outputs": [
        {
          "output_type": "stream",
          "text": [
            "Using TensorFlow backend.\n"
          ],
          "name": "stderr"
        }
      ]
    },
    {
      "cell_type": "markdown",
      "metadata": {
        "id": "V8JktfwVFSU-",
        "colab_type": "text"
      },
      "source": [
        "#### Loading the dataset and performing inbuilt pre-processing"
      ]
    },
    {
      "cell_type": "code",
      "metadata": {
        "colab_type": "code",
        "id": "CSy-ul7GFark",
        "outputId": "d13c9f18-c8ed-4cfa-be94-eb2983ddb8ca",
        "colab": {
          "base_uri": "https://localhost:8080/",
          "height": 51
        }
      },
      "source": [
        "from tensorflow.keras.datasets import cifar10\n",
        "(X_train,y_train),(X_test,y_test) = cifar10.load_data()\n",
        "from sklearn.preprocessing import OneHotEncoder\n",
        "ohe = OneHotEncoder()\n",
        "y_train = ohe.fit_transform(y_train).toarray().astype(int)\n",
        "y_test = ohe.transform(y_test).toarray().astype(int)\n",
        "X_train = preprocess_input(X_train)\n",
        "X_test = preprocess_input(X_test)"
      ],
      "execution_count": 2,
      "outputs": [
        {
          "output_type": "stream",
          "text": [
            "Downloading data from https://www.cs.toronto.edu/~kriz/cifar-10-python.tar.gz\n",
            "170500096/170498071 [==============================] - 4s 0us/step\n"
          ],
          "name": "stdout"
        }
      ]
    },
    {
      "cell_type": "code",
      "metadata": {
        "colab_type": "code",
        "id": "qcU_GP6mPvKK",
        "outputId": "789bd19d-91dc-4345-87af-6ec6218fe92c",
        "colab": {
          "base_uri": "https://localhost:8080/",
          "height": 300
        }
      },
      "source": [
        "plt.imshow(X_train[0])"
      ],
      "execution_count": 3,
      "outputs": [
        {
          "output_type": "stream",
          "text": [
            "Clipping input data to the valid range for imshow with RGB data ([0..1] for floats or [0..255] for integers).\n"
          ],
          "name": "stderr"
        },
        {
          "output_type": "execute_result",
          "data": {
            "text/plain": [
              "<matplotlib.image.AxesImage at 0x7f32cc0b3710>"
            ]
          },
          "metadata": {
            "tags": []
          },
          "execution_count": 3
        },
        {
          "output_type": "display_data",
          "data": {
            "image/png": "[encoded data removed]",
            "text/plain": [
              "<Figure size 432x288 with 1 Axes>"
            ]
          },
          "metadata": {
            "tags": [],
            "needs_background": "light"
          }
        }
      ]
    },
    {
      "cell_type": "markdown",
      "metadata": {
        "id": "qRRIEcsMFSVa",
        "colab_type": "text"
      },
      "source": [
        "#### Function to resize the input image\n",
        "    - Intitial size : (32x32)\n",
        "    - Final size : (139x139)"
      ]
    },
    {
      "cell_type": "code",
      "metadata": {
        "colab_type": "code",
        "id": "5n78wtYnPfYK",
        "colab": {}
      },
      "source": [
        "def resize_data(data):\n",
        "    data_upscaled = []\n",
        "    for i, img in enumerate(data):\n",
        "        large_img = cv2.resize(img, dsize=(139,139))\n",
        "        data_upscaled.append(large_img)\n",
        "    return data_upscaled\n",
        "X_train = np.array(resize_data(X_train))\n",
        "X_test = np.array(resize_data(X_test))"
      ],
      "execution_count": 0,
      "outputs": []
    },
    {
      "cell_type": "code",
      "metadata": {
        "colab_type": "code",
        "id": "hfZKbQSTFqkK",
        "outputId": "ea8b5a35-f16b-47ca-d25e-aca20fc5cada",
        "colab": {
          "base_uri": "https://localhost:8080/",
          "height": 303
        }
      },
      "source": [
        "import matplotlib.pyplot as plt\n",
        "#print(X_train.mean())\n",
        "plt.imshow(X_train[56])"
      ],
      "execution_count": 5,
      "outputs": [
        {
          "output_type": "stream",
          "text": [
            "Clipping input data to the valid range for imshow with RGB data ([0..1] for floats or [0..255] for integers).\n"
          ],
          "name": "stderr"
        },
        {
          "output_type": "execute_result",
          "data": {
            "text/plain": [
              "<matplotlib.image.AxesImage at 0x7f32cbb9bcf8>"
            ]
          },
          "metadata": {
            "tags": []
          },
          "execution_count": 5
        },
        {
          "output_type": "display_data",
          "data": {
            "image/png": "[encoded data removed]",
            "text/plain": [
              "<Figure size 432x288 with 1 Axes>"
            ]
          },
          "metadata": {
            "tags": [],
            "needs_background": "light"
          }
        }
      ]
    },
    {
      "cell_type": "code",
      "metadata": {
        "colab_type": "code",
        "id": "eUmy7wHSIZDF",
        "outputId": "a47c6811-6a68-4b5c-b9cf-cc19657b31fb",
        "colab": {
          "base_uri": "https://localhost:8080/",
          "height": 34
        }
      },
      "source": [
        "print(X_train.shape,X_test.shape,y_train.shape,y_test.shape)"
      ],
      "execution_count": 11,
      "outputs": [
        {
          "output_type": "stream",
          "text": [
            "(50000, 139, 139, 3) (10000, 139, 139, 3) (50000, 10) (10000, 10)\n"
          ],
          "name": "stdout"
        }
      ]
    },
    {
      "cell_type": "markdown",
      "metadata": {
        "id": "uymgFoZnFSWE",
        "colab_type": "text"
      },
      "source": [
        "#### Model Building"
      ]
    },
    {
      "cell_type": "code",
      "metadata": {
        "colab_type": "code",
        "id": "0IV0xAGrFvSu",
        "outputId": "6dd8c956-59b1-4fa2-dbea-75041295ecb4",
        "colab": {
          "base_uri": "https://localhost:8080/",
          "height": 51
        }
      },
      "source": [
        "base = VGG16(include_top = False,weights='imagenet',input_shape = (139,139,3))\n",
        "model = models.Sequential()\n",
        "model.add(base)\n",
        "model.add(GlobalAveragePooling2D())\n",
        "model.add(Dense(4096, activation='relu', name='Dense_Intermediate'))\n",
        "model.add(Dropout(0.5, name='Dropout_Regularization'))\n",
        "model.add(Dense(10, activation='softmax', name='Output'))"
      ],
      "execution_count": 7,
      "outputs": [
        {
          "output_type": "stream",
          "text": [
            "Downloading data from https://github.com/fchollet/deep-learning-models/releases/download/v0.1/vgg16_weights_tf_dim_ordering_tf_kernels_notop.h5\n",
            "58892288/58889256 [==============================] - 2s 0us/step\n"
          ],
          "name": "stdout"
        }
      ]
    },
    {
      "cell_type": "markdown",
      "metadata": {
        "id": "y0O2PMtNFSWN",
        "colab_type": "text"
      },
      "source": [
        "#### Freezing the layers in base model"
      ]
    },
    {
      "cell_type": "code",
      "metadata": {
        "colab_type": "code",
        "id": "AppLfX3cGdP7",
        "colab": {}
      },
      "source": [
        "for cnnlayer in model.layers[0].layers:\n",
        "    cnnlayer.trainable = False\n",
        "model.layers[0].trainable = False"
      ],
      "execution_count": 0,
      "outputs": []
    },
    {
      "cell_type": "code",
      "metadata": {
        "colab_type": "code",
        "id": "8I2MZOXTGfqB",
        "colab": {}
      },
      "source": [
        "model.compile(\n",
        "    optimizer='adam',\n",
        "    loss='categorical_crossentropy',\n",
        "    metrics=['accuracy']\n",
        ")"
      ],
      "execution_count": 0,
      "outputs": []
    },
    {
      "cell_type": "code",
      "metadata": {
        "colab_type": "code",
        "id": "zT7dLqSCHfKT",
        "outputId": "c87eddad-8066-4452-b657-286824104a65",
        "colab": {
          "base_uri": "https://localhost:8080/",
          "height": 323
        }
      },
      "source": [
        "model.summary()"
      ],
      "execution_count": 10,
      "outputs": [
        {
          "output_type": "stream",
          "text": [
            "Model: \"sequential_1\"\n",
            "_________________________________________________________________\n",
            "Layer (type)                 Output Shape              Param #   \n",
            "=================================================================\n",
            "vgg16 (Model)                (None, 4, 4, 512)         14714688  \n",
            "_________________________________________________________________\n",
            "global_average_pooling2d_1 ( (None, 512)               0         \n",
            "_________________________________________________________________\n",
            "Dense_Intermediate (Dense)   (None, 4096)              2101248   \n",
            "_________________________________________________________________\n",
            "Dropout_Regularization (Drop (None, 4096)              0         \n",
            "_________________________________________________________________\n",
            "Output (Dense)               (None, 10)                40970     \n",
            "=================================================================\n",
            "Total params: 16,856,906\n",
            "Trainable params: 2,142,218\n",
            "Non-trainable params: 14,714,688\n",
            "_________________________________________________________________\n"
          ],
          "name": "stdout"
        }
      ]
    },
    {
      "cell_type": "code",
      "metadata": {
        "colab_type": "code",
        "id": "xSZWlnRoHshn",
        "outputId": "15ab6f70-00fd-4078-f413-886950ab0f8c",
        "colab": {
          "base_uri": "https://localhost:8080/",
          "height": 391
        }
      },
      "source": [
        "model.fit(X_train,y_train,epochs=10,batch_size=500,validation_data=(X_test,y_test))"
      ],
      "execution_count": 12,
      "outputs": [
        {
          "output_type": "stream",
          "text": [
            "Train on 50000 samples, validate on 10000 samples\n",
            "Epoch 1/10\n",
            "50000/50000 [==============================] - 245s 5ms/step - loss: 0.8775 - accuracy: 0.7868 - val_loss: 0.4126 - val_accuracy: 0.8584\n",
            "Epoch 2/10\n",
            "50000/50000 [==============================] - 228s 5ms/step - loss: 0.3775 - accuracy: 0.8706 - val_loss: 0.3909 - val_accuracy: 0.8696\n",
            "Epoch 3/10\n",
            "50000/50000 [==============================] - 229s 5ms/step - loss: 0.3098 - accuracy: 0.8928 - val_loss: 0.3830 - val_accuracy: 0.8713\n",
            "Epoch 4/10\n",
            "50000/50000 [==============================] - 228s 5ms/step - loss: 0.2561 - accuracy: 0.9101 - val_loss: 0.3626 - val_accuracy: 0.8770\n",
            "Epoch 5/10\n",
            "50000/50000 [==============================] - 228s 5ms/step - loss: 0.2155 - accuracy: 0.9264 - val_loss: 0.3612 - val_accuracy: 0.8788\n",
            "Epoch 6/10\n",
            "50000/50000 [==============================] - 227s 5ms/step - loss: 0.1803 - accuracy: 0.9384 - val_loss: 0.3648 - val_accuracy: 0.8809\n",
            "Epoch 7/10\n",
            "50000/50000 [==============================] - 228s 5ms/step - loss: 0.1510 - accuracy: 0.9485 - val_loss: 0.3727 - val_accuracy: 0.8840\n",
            "Epoch 8/10\n",
            "50000/50000 [==============================] - 228s 5ms/step - loss: 0.1276 - accuracy: 0.9561 - val_loss: 0.3746 - val_accuracy: 0.8846\n",
            "Epoch 9/10\n",
            "50000/50000 [==============================] - 229s 5ms/step - loss: 0.1127 - accuracy: 0.9617 - val_loss: 0.3957 - val_accuracy: 0.8816\n",
            "Epoch 10/10\n",
            "50000/50000 [==============================] - 228s 5ms/step - loss: 0.0931 - accuracy: 0.9690 - val_loss: 0.4047 - val_accuracy: 0.8801\n"
          ],
          "name": "stdout"
        },
        {
          "output_type": "execute_result",
          "data": {
            "text/plain": [
              "<keras.callbacks.callbacks.History at 0x7f32c0272e48>"
            ]
          },
          "metadata": {
            "tags": []
          },
          "execution_count": 12
        }
      ]
    },
    {
      "cell_type": "markdown",
      "metadata": {
        "id": "fvXrfNBzFSW2",
        "colab_type": "text"
      },
      "source": [
        "#### Performance Evaluation"
      ]
    },
    {
      "cell_type": "code",
      "metadata": {
        "colab_type": "code",
        "id": "pg7y5qSxH59L",
        "colab": {}
      },
      "source": [
        "from sklearn.metrics import precision_score,recall_score,log_loss"
      ],
      "execution_count": 0,
      "outputs": []
    },
    {
      "cell_type": "code",
      "metadata": {
        "colab_type": "code",
        "id": "yZ_KeXTwy067",
        "outputId": "e739ad67-ea30-4e97-d11c-8c6d8452c283",
        "colab": {
          "base_uri": "https://localhost:8080/",
          "height": 136
        }
      },
      "source": [
        "y_pred = model.predict(X_test)\n",
        "y_pred = y_pred.round().astype(int)\n",
        "y_pred"
      ],
      "execution_count": 14,
      "outputs": [
        {
          "output_type": "execute_result",
          "data": {
            "text/plain": [
              "array([[0, 0, 0, ..., 0, 0, 0],\n",
              "       [0, 0, 0, ..., 0, 1, 0],\n",
              "       [0, 0, 0, ..., 0, 1, 0],\n",
              "       ...,\n",
              "       [0, 0, 0, ..., 0, 0, 0],\n",
              "       [0, 1, 0, ..., 0, 0, 0],\n",
              "       [0, 0, 0, ..., 1, 0, 0]])"
            ]
          },
          "metadata": {
            "tags": []
          },
          "execution_count": 14
        }
      ]
    },
    {
      "cell_type": "code",
      "metadata": {
        "colab_type": "code",
        "id": "RJiYHgK-10hP",
        "outputId": "16dfcb77-2392-4873-82cf-1c5b5cd869c8",
        "colab": {
          "base_uri": "https://localhost:8080/",
          "height": 204
        }
      },
      "source": [
        "classwise_precision = precision_score(y_test,y_pred, average=None)\n",
        "for i in range(len(classwise_precision)):\n",
        "  print(\"Precision for class {} = {}\".format(i,classwise_precision[i]))\n",
        "print(\"Mean Precision = \",classwise_precision.mean())"
      ],
      "execution_count": 15,
      "outputs": [
        {
          "output_type": "stream",
          "text": [
            "Precision for class 0 = 0.9445652173913044\n",
            "Precision for class 1 = 0.9460020768431984\n",
            "Precision for class 2 = 0.8880675818373812\n",
            "Precision for class 3 = 0.8210290827740492\n",
            "Precision for class 4 = 0.8501006036217303\n",
            "Precision for class 5 = 0.8321678321678322\n",
            "Precision for class 6 = 0.9049019607843137\n",
            "Precision for class 7 = 0.905717151454363\n",
            "Precision for class 8 = 0.8962616822429906\n",
            "Precision for class 9 = 0.9274028629856851\n",
            "Mean Precision =  0.8916216052102849\n"
          ],
          "name": "stdout"
        }
      ]
    },
    {
      "cell_type": "code",
      "metadata": {
        "colab_type": "code",
        "id": "gmjTNOVF18QP",
        "outputId": "2d0f1b29-eaaf-45c9-9614-0f9d652733fc",
        "colab": {
          "base_uri": "https://localhost:8080/",
          "height": 204
        }
      },
      "source": [
        "classwise_recall = recall_score(y_test,y_pred, average=None)\n",
        "for i in range(len(classwise_recall)):\n",
        "  print(\"Recall for class {} = {}\".format(i,classwise_recall[i]))\n",
        "print(\"Mean Recall = \",classwise_recall.mean())"
      ],
      "execution_count": 16,
      "outputs": [
        {
          "output_type": "stream",
          "text": [
            "Recall for class 0 = 0.869\n",
            "Recall for class 1 = 0.911\n",
            "Recall for class 2 = 0.841\n",
            "Recall for class 3 = 0.734\n",
            "Recall for class 4 = 0.845\n",
            "Recall for class 5 = 0.833\n",
            "Recall for class 6 = 0.923\n",
            "Recall for class 7 = 0.903\n",
            "Recall for class 8 = 0.959\n",
            "Recall for class 9 = 0.907\n",
            "Mean Recall =  0.8724999999999999\n"
          ],
          "name": "stdout"
        }
      ]
    },
    {
      "cell_type": "code",
      "metadata": {
        "colab_type": "code",
        "id": "2Nt1kPI74KaZ",
        "outputId": "2b0dc585-d240-4325-b1ed-be31b9b1dbf4",
        "colab": {
          "base_uri": "https://localhost:8080/",
          "height": 34
        }
      },
      "source": [
        "print(\"Log Loss = \",log_loss(y_test,y_pred))"
      ],
      "execution_count": 17,
      "outputs": [
        {
          "output_type": "stream",
          "text": [
            "Log Loss =  3.707392258229722\n"
          ],
          "name": "stdout"
        }
      ]
    },
    {
      "cell_type": "code",
      "metadata": {
        "colab_type": "code",
        "id": "x9-py1ah4xNX",
        "colab": {}
      },
      "source": [
        ""
      ],
      "execution_count": 0,
      "outputs": []
    }
  ]
}