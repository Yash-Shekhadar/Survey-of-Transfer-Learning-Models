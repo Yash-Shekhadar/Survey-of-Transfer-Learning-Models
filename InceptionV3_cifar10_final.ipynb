{
 "cells": [
  {
   "cell_type": "markdown",
   "metadata": {},
   "source": [
    "# InceptionV3 on Cifar10 dataset"
   ]
  },
  {
   "cell_type": "markdown",
   "metadata": {},
   "source": [
    "#### Importing the necessary Libraries"
   ]
  },
  {
   "cell_type": "code",
   "execution_count": 0,
   "metadata": {
    "colab": {},
    "colab_type": "code",
    "id": "6XjJWL9vKvc0"
   },
   "outputs": [],
   "source": [
    "import cv2\n",
    "import numpy as np\n",
    "from sklearn.metrics import precision_score,recall_score,log_loss\n",
    "from sklearn.preprocessing import OneHotEncoder\n",
    "from keras.layers import Convolution2D,MaxPooling2D,Dropout,Dense,Flatten, GlobalAveragePooling2D\n",
    "from keras import models,losses,optimizers\n",
    "from keras.preprocessing.image import ImageDataGenerator\n",
    "from keras.applications import InceptionV3,VGG16,resnet50\n",
    "from keras.applications.inception_v3 import preprocess_input\n",
    "from keras.models import Model\n",
    "from keras.layers import Dense, Dropout, Conv2D, GlobalAveragePooling2D"
   ]
  },
  {
   "cell_type": "markdown",
   "metadata": {},
   "source": [
    "#### Loading the data and performing inbuilt pre-processing"
   ]
  },
  {
   "cell_type": "code",
   "execution_count": 2,
   "metadata": {
    "colab": {
     "base_uri": "https://localhost:8080/",
     "height": 51
    },
    "colab_type": "code",
    "id": "jwGvchOqK2ZU",
    "outputId": "e9226c97-07c6-4663-c362-efb34d494443"
   },
   "outputs": [
    {
     "name": "stdout",
     "output_type": "stream",
     "text": [
      "Downloading data from https://www.cs.toronto.edu/~kriz/cifar-10-python.tar.gz\n",
      "170500096/170498071 [==============================] - 2s 0us/step\n"
     ]
    }
   ],
   "source": [
    "from tensorflow.keras.datasets import cifar10\n",
    "(X_train,y_train),(X_test,y_test) = cifar10.load_data()\n",
    "from sklearn.preprocessing import OneHotEncoder\n",
    "ohe = OneHotEncoder()\n",
    "y_train = ohe.fit_transform(y_train).toarray().astype(int)\n",
    "y_test = ohe.transform(y_test).toarray().astype(int)\n",
    "X_train = preprocess_input(X_train)\n",
    "X_test = preprocess_input(X_test)"
   ]
  },
  {
   "cell_type": "code",
   "execution_count": 0,
   "metadata": {
    "colab": {},
    "colab_type": "code",
    "id": "Ht2If2dKLBtN"
   },
   "outputs": [],
   "source": [
    "n_train = X_train.shape[0]\n",
    "n_test = X_test.shape[0]"
   ]
  },
  {
   "cell_type": "code",
   "execution_count": 4,
   "metadata": {
    "colab": {
     "base_uri": "https://localhost:8080/",
     "height": 34
    },
    "colab_type": "code",
    "id": "R8kPSsm-LJ6I",
    "outputId": "a5e0bfca-d75e-4c84-8eda-78f4b08e98fd"
   },
   "outputs": [
    {
     "name": "stdout",
     "output_type": "stream",
     "text": [
      "(50000, 32, 32, 3) (50000, 10) (10000, 32, 32, 3) (10000, 10)\n"
     ]
    }
   ],
   "source": [
    "print( X_train.shape, y_train.shape,  X_test.shape, y_test.shape )"
   ]
  },
  {
   "cell_type": "markdown",
   "metadata": {},
   "source": [
    "#### Function to resize the input image\n",
    "    - Intitial size : (32x32)\n",
    "    - Final size : (100x100)"
   ]
  },
  {
   "cell_type": "code",
   "execution_count": 0,
   "metadata": {
    "colab": {},
    "colab_type": "code",
    "id": "meJ4aEkxLRH-"
   },
   "outputs": [],
   "source": [
    "def resize_data(data):\n",
    "  data_upscaled = []\n",
    "  for i, img in enumerate(data):\n",
    "    large_img = cv2.resize(img, dsize=(139, 139))\n",
    "    data_upscaled.append(large_img)\n",
    "  return data_upscaled"
   ]
  },
  {
   "cell_type": "code",
   "execution_count": 0,
   "metadata": {
    "colab": {},
    "colab_type": "code",
    "id": "B1qxNjhnLThS"
   },
   "outputs": [],
   "source": [
    "X_train_new = np.array(resize_data(X_train))\n",
    "X_test_new = np.array(resize_data(X_test)) "
   ]
  },
  {
   "cell_type": "code",
   "execution_count": 8,
   "metadata": {
    "colab": {
     "base_uri": "https://localhost:8080/",
     "height": 320
    },
    "colab_type": "code",
    "id": "a-uSnlz3VFkj",
    "outputId": "d03d7b66-7b9c-42ea-f971-33c38cab04fa"
   },
   "outputs": [
    {
     "name": "stderr",
     "output_type": "stream",
     "text": [
      "Clipping input data to the valid range for imshow with RGB data ([0..1] for floats or [0..255] for integers).\n"
     ]
    },
    {
     "data": {
      "text/plain": [
       "<matplotlib.image.AxesImage at 0x7f3c7f4f94e0>"
      ]
     },
     "execution_count": 8,
     "metadata": {
      "tags": []
     },
     "output_type": "execute_result"
    },
    {
     "data": {
      "image/png": "[encoded data removed]",
      "text/plain": [
       "<Figure size 432x288 with 1 Axes>"
      ]
     },
     "metadata": {
      "needs_background": "light",
      "tags": []
     },
     "output_type": "display_data"
    }
   ],
   "source": [
    "import matplotlib.pyplot as plt\n",
    "#print(X_train[0])\n",
    "plt.imshow(X_train[2])"
   ]
  },
  {
   "cell_type": "markdown",
   "metadata": {},
   "source": [
    "#### Model Building"
   ]
  },
  {
   "cell_type": "code",
   "execution_count": 9,
   "metadata": {
    "colab": {
     "base_uri": "https://localhost:8080/",
     "height": 71
    },
    "colab_type": "code",
    "id": "aanHmLwWLaY3",
    "outputId": "44d52d12-8b4f-4411-f113-20abd6220bbf"
   },
   "outputs": [
    {
     "name": "stdout",
     "output_type": "stream",
     "text": [
      "Downloading data from https://github.com/fchollet/deep-learning-models/releases/download/v0.5/inception_v3_weights_tf_dim_ordering_tf_kernels_notop.h5\n",
      "87916544/87910968 [==============================] - 1s 0us/step\n"
     ]
    }
   ],
   "source": [
    "base = InceptionV3(include_top = False,weights='imagenet',input_shape = (139,139,3))\n",
    "model = models.Sequential()\n",
    "model.add(base)\n",
    "model.add(GlobalAveragePooling2D())\n",
    "model.add(Dense(4096, activation='relu', name='Dense_Intermediate'))\n",
    "model.add(Dropout(0.5, name='Dropout_Regularization'))\n",
    "model.add(Dense(10, activation='softmax', name='Output'))"
   ]
  },
  {
   "cell_type": "code",
   "execution_count": 0,
   "metadata": {
    "colab": {},
    "colab_type": "code",
    "id": "lzYQ1Wb3Lyjo"
   },
   "outputs": [],
   "source": [
    "for cnnlayer in model.layers[0].layers:\n",
    "    cnnlayer.trainable = False\n",
    "model.layers[0].trainable = False"
   ]
  },
  {
   "cell_type": "code",
   "execution_count": 0,
   "metadata": {
    "colab": {},
    "colab_type": "code",
    "id": "jGz7x_bYL-Lh"
   },
   "outputs": [],
   "source": [
    "model.compile(\n",
    "    optimizer='rmsprop',\n",
    "    loss='categorical_crossentropy',\n",
    "    metrics=['accuracy']\n",
    ")"
   ]
  },
  {
   "cell_type": "code",
   "execution_count": 0,
   "metadata": {
    "colab": {},
    "colab_type": "code",
    "id": "TItbpUnsZb0L"
   },
   "outputs": [],
   "source": [
    "model.summary()"
   ]
  },
  {
   "cell_type": "code",
   "execution_count": 14,
   "metadata": {
    "colab": {
     "base_uri": "https://localhost:8080/",
     "height": 411
    },
    "colab_type": "code",
    "id": "zejZSAUwMAc-",
    "outputId": "2b290df2-be9d-4246-a7ad-cedc91e5c136"
   },
   "outputs": [
    {
     "name": "stdout",
     "output_type": "stream",
     "text": [
      "Train on 50000 samples, validate on 10000 samples\n",
      "Epoch 1/10\n",
      "50000/50000 [==============================] - 151s 3ms/step - loss: 2.4298 - accuracy: 0.4902 - val_loss: 1.5075 - val_accuracy: 0.6596\n",
      "Epoch 2/10\n",
      "50000/50000 [==============================] - 142s 3ms/step - loss: 1.0866 - accuracy: 0.6371 - val_loss: 2.4264 - val_accuracy: 0.5850\n",
      "Epoch 3/10\n",
      "50000/50000 [==============================] - 142s 3ms/step - loss: 0.9453 - accuracy: 0.6790 - val_loss: 1.7749 - val_accuracy: 0.6710\n",
      "Epoch 4/10\n",
      "50000/50000 [==============================] - 142s 3ms/step - loss: 0.8525 - accuracy: 0.7060 - val_loss: 1.3283 - val_accuracy: 0.7258\n",
      "Epoch 5/10\n",
      "50000/50000 [==============================] - 142s 3ms/step - loss: 0.7862 - accuracy: 0.7275 - val_loss: 1.5659 - val_accuracy: 0.6920\n",
      "Epoch 6/10\n",
      "50000/50000 [==============================] - 142s 3ms/step - loss: 0.7226 - accuracy: 0.7492 - val_loss: 1.3317 - val_accuracy: 0.7422\n",
      "Epoch 7/10\n",
      "50000/50000 [==============================] - 142s 3ms/step - loss: 0.6675 - accuracy: 0.7682 - val_loss: 1.5552 - val_accuracy: 0.7111\n",
      "Epoch 8/10\n",
      "50000/50000 [==============================] - 142s 3ms/step - loss: 0.6056 - accuracy: 0.7867 - val_loss: 1.6173 - val_accuracy: 0.7228\n",
      "Epoch 9/10\n",
      "50000/50000 [==============================] - 142s 3ms/step - loss: 0.5513 - accuracy: 0.8081 - val_loss: 2.1144 - val_accuracy: 0.6807\n",
      "Epoch 10/10\n",
      "50000/50000 [==============================] - 142s 3ms/step - loss: 0.5002 - accuracy: 0.8249 - val_loss: 1.5204 - val_accuracy: 0.7377\n"
     ]
    },
    {
     "data": {
      "text/plain": [
       "<keras.callbacks.callbacks.History at 0x7f3c21c40dd8>"
      ]
     },
     "execution_count": 14,
     "metadata": {
      "tags": []
     },
     "output_type": "execute_result"
    }
   ],
   "source": [
    "model.fit(X_train_new,y_train,epochs=10,batch_size=500,validation_data=(X_test_new,y_test))"
   ]
  },
  {
   "cell_type": "markdown",
   "metadata": {},
   "source": [
    "#### Performance Evaluation"
   ]
  },
  {
   "cell_type": "code",
   "execution_count": 16,
   "metadata": {
    "colab": {
     "base_uri": "https://localhost:8080/",
     "height": 136
    },
    "colab_type": "code",
    "id": "s42FqIW3MYPW",
    "outputId": "0fe33e26-7805-4754-8b67-0e1c113f9121"
   },
   "outputs": [
    {
     "data": {
      "text/plain": [
       "array([[0, 0, 0, ..., 0, 0, 0],\n",
       "       [0, 0, 0, ..., 0, 1, 0],\n",
       "       [0, 0, 0, ..., 0, 1, 0],\n",
       "       ...,\n",
       "       [0, 0, 0, ..., 0, 0, 0],\n",
       "       [0, 0, 0, ..., 0, 0, 0],\n",
       "       [0, 0, 0, ..., 1, 0, 0]])"
      ]
     },
     "execution_count": 16,
     "metadata": {
      "tags": []
     },
     "output_type": "execute_result"
    }
   ],
   "source": [
    "y_pred = model.predict(X_test_new)\n",
    "y_pred = y_pred.round().astype(int)\n",
    "y_pred"
   ]
  },
  {
   "cell_type": "code",
   "execution_count": 19,
   "metadata": {
    "colab": {
     "base_uri": "https://localhost:8080/",
     "height": 204
    },
    "colab_type": "code",
    "id": "2WGBPKhYYQul",
    "outputId": "9f90a98b-b27d-43f5-b9d2-156934dfc5ce"
   },
   "outputs": [
    {
     "name": "stdout",
     "output_type": "stream",
     "text": [
      "Precision for class 0 = 0.8491686460807601\n",
      "Precision for class 1 = 0.7165532879818595\n",
      "Precision for class 2 = 0.9300476947535771\n",
      "Precision for class 3 = 0.7901701323251418\n",
      "Precision for class 4 = 0.5950653120464441\n",
      "Precision for class 5 = 0.5360520094562647\n",
      "Precision for class 6 = 0.9304635761589404\n",
      "Precision for class 7 = 0.8554070473876063\n",
      "Precision for class 8 = 0.8426640926640927\n",
      "Precision for class 9 = 0.8970414201183432\n",
      "Mean Precision =  0.794263321897303\n"
     ]
    }
   ],
   "source": [
    "classwise_precision = precision_score(y_test,y_pred, average=None)\n",
    "for i in range(len(classwise_precision)):\n",
    "  print(\"Precision for class {} = {}\".format(i,classwise_precision[i]))\n",
    "print(\"Mean Precision = \",classwise_precision.mean())"
   ]
  },
  {
   "cell_type": "code",
   "execution_count": 20,
   "metadata": {
    "colab": {
     "base_uri": "https://localhost:8080/",
     "height": 204
    },
    "colab_type": "code",
    "id": "8KG8K8SDYSZa",
    "outputId": "93932d91-dea2-4498-875b-b839a6c4a1f1"
   },
   "outputs": [
    {
     "name": "stdout",
     "output_type": "stream",
     "text": [
      "Recall for class 0 = 0.715\n",
      "Recall for class 1 = 0.948\n",
      "Recall for class 2 = 0.585\n",
      "Recall for class 3 = 0.418\n",
      "Recall for class 4 = 0.82\n",
      "Recall for class 5 = 0.907\n",
      "Recall for class 6 = 0.562\n",
      "Recall for class 7 = 0.704\n",
      "Recall for class 8 = 0.873\n",
      "Recall for class 9 = 0.758\n",
      "Mean Recall =  0.7289999999999999\n"
     ]
    }
   ],
   "source": [
    "classwise_recall = recall_score(y_test,y_pred, average=None)\n",
    "for i in range(len(classwise_recall)):\n",
    "  print(\"Recall for class {} = {}\".format(i,classwise_recall[i]))\n",
    "print(\"Mean Recall = \",classwise_recall.mean())"
   ]
  },
  {
   "cell_type": "code",
   "execution_count": 21,
   "metadata": {
    "colab": {
     "base_uri": "https://localhost:8080/",
     "height": 34
    },
    "colab_type": "code",
    "id": "IgrOOBTJeZLr",
    "outputId": "be12c221-eb30-4cba-f2c8-0c151a94d59f"
   },
   "outputs": [
    {
     "name": "stdout",
     "output_type": "stream",
     "text": [
      "Log Loss =  8.396146283093497\n"
     ]
    }
   ],
   "source": [
    "print(\"Log Loss = \",log_loss(y_test,y_pred))"
   ]
  },
  {
   "cell_type": "code",
   "execution_count": 0,
   "metadata": {
    "colab": {},
    "colab_type": "code",
    "id": "SaMV5Qgzecg_"
   },
   "outputs": [],
   "source": []
  }
 ],
 "metadata": {
  "accelerator": "GPU",
  "colab": {
   "collapsed_sections": [],
   "machine_shape": "hm",
   "name": "InceptionV3_cifar10_metrics.ipynb",
   "provenance": []
  },
  "kernelspec": {
   "display_name": "Python 3",
   "language": "python",
   "name": "python3"
  },
  "language_info": {
   "codemirror_mode": {
    "name": "ipython",
    "version": 3
   },
   "file_extension": ".py",
   "mimetype": "text/x-python",
   "name": "python",
   "nbconvert_exporter": "python",
   "pygments_lexer": "ipython3",
   "version": "3.7.6"
  }
 },
 "nbformat": 4,
 "nbformat_minor": 1
}
